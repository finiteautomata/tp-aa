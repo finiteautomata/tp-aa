{
 "cells": [
  {
   "cell_type": "markdown",
   "metadata": {},
   "source": [
    "# Ejemplo de pandas-sklearn\n",
    "\n",
    "\n",
    "Import what you need from the sklearn_pandas package. The choices are:\n",
    "\n",
    "- `DataFrameMapper`, a class for mapping pandas data frame columns to different sklearn transformations\n",
    "- `cross_val_score`, similar to sklearn.cross_validation.cross_val_score but working on pandas DataFrames\n",
    "\n"
   ]
  },
  {
   "cell_type": "code",
   "execution_count": 1,
   "metadata": {
    "collapsed": true
   },
   "outputs": [],
   "source": [
    "import sys\n",
    "\n",
    "sys.path.append(\"../..\")"
   ]
  },
  {
   "cell_type": "code",
   "execution_count": 2,
   "metadata": {
    "collapsed": false
   },
   "outputs": [],
   "source": [
    "import numpy as np\n",
    "from sklearn_pandas import DataFrameMapper, cross_val_score\n",
    "from transformers import LenTransformer, SpaceTransformer, options, BaseTransformer\n",
    "from sklearn.pipeline import make_union\n",
    "from sklearn.feature_extraction.text import TfidfVectorizer\n",
    "\n",
    "from IPython.core.debugger import Tracer\n",
    "\n",
    "class LenTransformer(BaseTransformer):\n",
    "    \"\"\"Clase que agrega len al coso este.\"\"\"\n",
    "\n",
    "    def transform(self, data):\n",
    "        u\"\"\"Aplica la transformación.\"\"\"\n",
    "        return np.array([len(t) for t in data]).reshape(-1, 1)\n",
    "\n",
    "class SpaceTransformer(BaseTransformer):\n",
    "    \"\"\"Clase que agrega len al coso este.\"\"\"\n",
    "\n",
    "    def transform(self, data):\n",
    "        u\"\"\"Aplica la transformación.\"\"\"\n",
    "        return np.array([t.count(\" \") for t in data]).reshape(-1, 1)\n",
    "\n",
    "\n",
    "class AddWordsTransformer(BaseTransformer):\n",
    "    \"\"\"Agrega counts de varias palabras.\"\"\"\n",
    "\n",
    "    def transform(self, data):\n",
    "        u\"\"\"Aplica la transformación.\"\"\"\n",
    "        words = [\n",
    "            \"dear\", \"friend\", \"hello\"\"$\", \"earn\", \"investment\", \"profit\",\n",
    "            \"profits\", \"credit\", \"opportunity\", \"income\", \"cost\" \"promotion\",\n",
    "            \"why pay more?\", \"click\", \"add\",\n",
    "            \"meet singles\", \"viagra\", \"sex\", \"penis\", \"vagina\", \"pussy\",\n",
    "            \"fuck\", \"girl\", \"erect\", \"enlargement\"\n",
    "            \"free\", \"cc:\", \"gif\", \"help\", \"photo\", \"video\", \"http\", \"dollar\",\n",
    "            \"million\", \"|\", \"nigeria\", \"million\", \"password\", \"of\", \"bill\",\n",
    "            \"it's time\", \"sale\", \"hi\", \"-->\", \"weight\", \"lose\",\n",
    "            \"administrator\", \"order\", \"clearance\", \"meet singles\"\n",
    "        ]\n",
    "        \n",
    "        new_columns = []\n",
    "\n",
    "        for word in words:\n",
    "            new_columns.append([t.lower().count(word) for t in data])\n",
    "\n",
    "        ret = np.array(new_columns)\n",
    "        \n",
    "        return ret.transpose()\n",
    "\n",
    "payload_transformer = make_union(\n",
    "    SpaceTransformer(),\n",
    "    LenTransformer(),\n",
    "    AddWordsTransformer(),\n",
    "    TfidfVectorizer(**options),\n",
    ")\n",
    "\n",
    "\n",
    "extractor = DataFrameMapper([\n",
    "    ('payload', payload_transformer)\n",
    "])"
   ]
  },
  {
   "cell_type": "code",
   "execution_count": 3,
   "metadata": {
    "collapsed": false
   },
   "outputs": [
    {
     "name": "stdout",
     "output_type": "stream",
     "text": [
      "8099 registros\n"
     ]
    }
   ],
   "source": [
    "from data_builder import load_test_data, load_dev_data, load_small_dev_data\n",
    "\n",
    "\n",
    "df, target = load_small_dev_data()\n",
    "\n",
    "print \"%s registros\" % df.shape[0]"
   ]
  },
  {
   "cell_type": "code",
   "execution_count": 4,
   "metadata": {
    "collapsed": false
   },
   "outputs": [
    {
     "data": {
      "text/plain": [
       "DataFrameMapper(default=False,\n",
       "        features=[('payload', FeatureUnion(n_jobs=1,\n",
       "       transformer_list=[('spacetransformer', <__main__.SpaceTransformer object at 0x7ffa68187f10>), ('lentransformer', <__main__.LenTransformer object at 0x7ffa52539b50>), ('addwordstransformer', <__main__.AddWordsTransformer object at 0x7ffa52539b90>), ('tfidfvectorizer', TfidfVectorizer(analyzer=u'word'...        token_pattern=u'(?u)\\\\b\\\\w\\\\w+\\\\b', tokenizer=None, use_idf=True,\n",
       "        vocabulary=None))],\n",
       "       transformer_weights=None))],\n",
       "        sparse=False)"
      ]
     },
     "execution_count": 4,
     "metadata": {},
     "output_type": "execute_result"
    }
   ],
   "source": [
    "extractor.fit(df, target)"
   ]
  },
  {
   "cell_type": "code",
   "execution_count": 8,
   "metadata": {
    "collapsed": false
   },
   "outputs": [
    {
     "data": {
      "text/plain": [
       "(8099, 150)"
      ]
     },
     "execution_count": 8,
     "metadata": {},
     "output_type": "execute_result"
    }
   ],
   "source": [
    "X = extractor.transform(df)\n",
    "\n",
    "\n",
    "X.shape"
   ]
  },
  {
   "cell_type": "markdown",
   "metadata": {},
   "source": [
    "# Agregando más de una columna\n",
    "\n",
    "Ahora vamos con parsed_mails también "
   ]
  },
  {
   "cell_type": "code",
   "execution_count": 12,
   "metadata": {
    "collapsed": true
   },
   "outputs": [],
   "source": [
    "payload_transformer = make_union(\n",
    "    SpaceTransformer(),\n",
    "    LenTransformer(),\n",
    "    AddWordsTransformer(),\n",
    "    TfidfVectorizer(**options),\n",
    ")\n",
    "\n",
    "class AddContentTypeColumns(BaseTransformer):\n",
    "    def transform(self, mails):\n",
    "        \"\"\"Agrego todas las columnas relacionadas a content type.\"\"\"\n",
    "        content_type = [m.get_content_type() for m in mails]\n",
    "\n",
    "        types = [\n",
    "            'multipart/mixed', 'text/html', 'multipart/alternative',\n",
    "            'text/plain', 'multipart/related', 'multipart/report',\n",
    "            'text/plain charset=\"us-ascii\"', 'text/html charset=iso-8859-1',\n",
    "            'application/vnd.ms-excel', 'message/rfc822', 'text/enriched',\n",
    "            'text/richtext', 'image/pjpeg', 'application/msword',\n",
    "            'application/octet-stream']\n",
    "\n",
    "        new_columns = []\n",
    "                        \n",
    "        for ctype in types:\n",
    "            new_columns.append([ctype in t for t in content_type])\n",
    "        \n",
    "        return np.array(new_columns).transpose()\n",
    "            \n",
    "\n",
    "\n",
    "extractor = DataFrameMapper([\n",
    "    ('payload', payload_transformer),\n",
    "    ('parsed_emails', AddContentTypeColumns()),\n",
    "])"
   ]
  },
  {
   "cell_type": "code",
   "execution_count": 13,
   "metadata": {
    "collapsed": false
   },
   "outputs": [],
   "source": [
    "X = extractor.fit_transform(df, target)"
   ]
  },
  {
   "cell_type": "code",
   "execution_count": 14,
   "metadata": {
    "collapsed": false
   },
   "outputs": [
    {
     "data": {
      "text/plain": [
       "(8099, 165)"
      ]
     },
     "execution_count": 14,
     "metadata": {},
     "output_type": "execute_result"
    }
   ],
   "source": [
    "X.shape"
   ]
  },
  {
   "cell_type": "code",
   "execution_count": null,
   "metadata": {
    "collapsed": true
   },
   "outputs": [],
   "source": []
  }
 ],
 "metadata": {
  "kernelspec": {
   "display_name": "Python 2",
   "language": "python",
   "name": "python2"
  },
  "language_info": {
   "codemirror_mode": {
    "name": "ipython",
    "version": 2
   },
   "file_extension": ".py",
   "mimetype": "text/x-python",
   "name": "python",
   "nbconvert_exporter": "python",
   "pygments_lexer": "ipython2",
   "version": "2.7.11"
  }
 },
 "nbformat": 4,
 "nbformat_minor": 1
}
