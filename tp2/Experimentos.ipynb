{
 "cells": [
  {
   "cell_type": "code",
   "execution_count": 15,
   "metadata": {
    "collapsed": false
   },
   "outputs": [
    {
     "name": "stdout",
     "output_type": "stream",
     "text": [
      "      0.00  0.25  0.50  0.75  1.00\n",
      "0.00    78    76    77    72    73\n",
      "0.25    76    78    69    80    78\n",
      "0.50    79    82    70    82    85\n",
      "0.75    82    76    73    81    76\n",
      "1.00    82    75    78    78    70\n"
     ]
    }
   ],
   "source": [
    "#Experimentos, primero los dos experimentos para hallar alpha y gamma:\n",
    "\n",
    "#1) 1)  epsilon 0.2\n",
    "#    alphas = [0,0.25,0.5,0.75,1]\n",
    "#    gammas = [0,0.25,0.5,0.75,1]\n",
    "#    Tirando 100 corridas, obtuvimos\n",
    "#    {(0, 0.5): 79, (0.5, 1): 78, (0.75, 0): 72, (0.25, 0.25): 78, (1, 0.5): 85, (0.5, 0.5): 70, (0.75, 0.75): 81, (1, 0.25): 78, (0.75, 0.5): 82, (1, 1): 70, (0.25, 1): 75, (0.25, 0): 76, (0.5, 0): 77, (0, 0.25): 76, (0, 0.75): 82, (0.25, 0.75): 76, (1, 0): 73, (0.5, 0.25): 69, (1, 0.75): 76, (0, 1): 82, (0, 0): 78, (0.75, 1): 78, (0.5, 0.75): 73, (0.75, 0.25): 80, (0.25, 0.5): 82}\n",
    "\n",
    "#c={(0.25, 1): 155, (0.25, 0.5): 157, (0.75, 0): 144, (0.75, 0.75): 158, (0.5, 0.75): 150, (0.5, 0.5): 154, (0.5, 0): 158, (0.75, 0.25): 155, (0.25, 0.25): 150, (0.25, 0): 145, (0.75, 0.5): 150, (0.25, 0.75): 150, (1, 0.75): 146, (1, 0.5): 163, (0.5, 0.25): 153, (1, 0): 157, (1, 0.25): 155}\n",
    "\n",
    "e = {(0, 0.5): 79, (0.5, 1): 78, (0.75, 0): 72, (0.25, 0.25): 78, (1, 0.5): 85, (0.5, 0.5): 70, (0.75, 0.75): 81, (1, 0.25): 78, (0.75, 0.5): 82, (1, 1): 70, (0.25, 1): 75, (0.25, 0): 76, (0.5, 0): 77, (0, 0.25): 76, (0, 0.75): 82, (0.25, 0.75): 76, (1, 0): 73, (0.5, 0.25): 69, (1, 0.75): 76, (0, 1): 82, (0, 0): 78, (0.75, 1): 78, (0.5, 0.75): 73, (0.75, 0.25): 80, (0.25, 0.5): 82}\n",
    " \n",
    "from collections import defaultdict\n",
    "d = defaultdict(dict)\n",
    "for (primero, segundo),val in e.iteritems():\n",
    "    #print primero\n",
    "    #print segundo\n",
    "    #print val\n",
    "    a = d[(primero)]\n",
    "    a[segundo] = val   \n",
    "#print d\n",
    "\n",
    "import pandas as pd\n",
    "j = pd.DataFrame(d)\n",
    "\n",
    "print j.to_string(na_rep='-')"
   ]
  },
  {
   "cell_type": "code",
   "execution_count": 2,
   "metadata": {
    "collapsed": false
   },
   "outputs": [
    {
     "name": "stdout",
     "output_type": "stream",
     "text": [
      "defaultdict(<type 'dict'>, {0.25: {0: 145, 1: 155, 0.75: 150, 0.5: 157, 0.25: 150}, 0.75: {0.5: 150, 0.25: 155, 0.75: 158, 0: 144}, 0.5: {0: 158, 0.5: 154, 0.25: 153, 0.75: 150}, 1: {0.25: 155, 0: 157, 0.75: 146, 0.5: 163}})\n",
      "      0.25   0.50   0.75   1.00\n",
      "0.00   145  158.0  144.0  157.0\n",
      "0.25   150  153.0  155.0  155.0\n",
      "0.50   157  154.0  150.0  163.0\n",
      "0.75   150  150.0  158.0  146.0\n",
      "1.00   155      -      -      -\n"
     ]
    }
   ],
   "source": [
    "\n",
    "\n",
    "\n",
    "#2)epsilon 0.2\n",
    "#    alphas = \n",
    "#   gammas = \n",
    "#    Tirando 200 corridas obtuvimos:\n",
    "#    {(0.25, 1): 155, (0.25, 0.5): 157, (0.75, 0): 144, (0.75, 0.75): 158, (0.5, 0.75): 150, (0.5, 0.5): 154, (0.5, 0): 158, (0.75, 0.25): 155, (0.25, 0.25): 150, (0.25, 0): 145, (0.75, 0.5): 150, (0.25, 0.75): 150, (1, 0.75): 146, (1, 0.5): 163, (0.5, 0.25): 153, (1, 0): 157, (1, 0.25): 155}\n",
    "    \n",
    "    \n",
    "#    FALTAN LOS CASOS (0.5,0) (0.25,0.75) (0.25, 1) (0.75,1) (1,1)\n",
    "\n",
    "\n",
    "c={(0.25, 1): 155, (0.25, 0.5): 157, (0.75, 0): 144, (0.75, 0.75): 158, (0.5, 0.75): 150, (0.5, 0.5): 154, (0.5, 0): 158, (0.75, 0.25): 155, (0.25, 0.25): 150, (0.25, 0): 145, (0.75, 0.5): 150, (0.25, 0.75): 150, (1, 0.75): 146, (1, 0.5): 163, (0.5, 0.25): 153, (1, 0): 157, (1, 0.25): 155}\n",
    "from collections import defaultdict\n",
    "d = defaultdict(dict)\n",
    "for (primero, segundo),val in c.iteritems():\n",
    "    #print primero\n",
    "    #print segundo\n",
    "    #print val\n",
    "    a = d[(primero)]\n",
    "    a[segundo] = val   \n",
    "print d\n",
    "\n",
    "import pandas as pd\n",
    "j = pd.DataFrame(d)\n",
    "\n",
    "print j.to_string(na_rep='-')\n",
    "    "
   ]
  },
  {
   "cell_type": "markdown",
   "metadata": {},
   "source": [
    "   # Empiezo a experimentar con alpha=1 y gamma=0.5 ya que en ambos experimentos fue superadora\n",
    "  # QPLAYER VS RANDOM PLAYER\n",
    "   QPLAYER VS RANDOM PLAYER\n",
    "   -10 PARTIDAS: {(1, 0.5): 8};{(1, 0.5): 7};{(1, 0.5): 6};{(1, 0.5): 7}\n",
    "   -20 PARTIDAS: {(1, 0.5): 14}\n",
    "   -30 PARTIDAS: {(1, 0.5): 23}\n",
    "   -50 PARTIDAS: {(1, 0.5): 38}\n",
    "   -99 PARTIDAS: {(1, 0.5): 69}\n",
    "   -100 PARTIDAS: {(1, 0.5): 79}; {(1, 0.5): 74};{(1, 0.5): 73};{(1, 0.5): 77};{(1, 0.5): 83}:{(1, 0.5): 72}\n",
    "   -200 PARTIDAS: {(1, 0.5): 149}\n",
    "   -250 PARTIDAS: {(1, 0.5): 197}\n",
    "   -300 PARTIDAS:{(1, 0.5): 232}\n",
    "   -400 PARTIDAS: {(1, 0.5): 303}\n",
    "   -500 partidas: {(1, 0.5): 363};{(1, 0.5): 387}\n",
    "   -1000 partidas: {(1, 0.5): 760}\n",
    "   "
   ]
  },
  {
   "cell_type": "markdown",
   "metadata": {},
   "source": [
    "Graficamos los resultados:"
   ]
  },
  {
   "cell_type": "code",
   "execution_count": 84,
   "metadata": {
    "collapsed": false
   },
   "outputs": [],
   "source": [
    "import numpy as np\n",
    "import matplotlib.pyplot as plt\n",
    "\n",
    "\n",
    "partidas=[10,20,30,50,100,200,250,300,400,500,1000]\n",
    "resultadosQPlayer=[7,14,23,38,74,149,197,232,303,363,760]\n",
    "porcentajeQPlayer=np.multiply(resultadosQPlayer,100)/partidas\n",
    "resultadosRPlayer=[3,6,7,12,26,51,53,68,73,137,240]\n",
    "porcentajeRPlayer=np.multiply(resultadosRPlayer,100)/partidas\n",
    "\n",
    "\n",
    "#print porcentajeQPlayer, porcentajeRPlayer\n",
    "\n",
    "#partidas=[10,20,30,50,100]\n",
    "#resultadosQPlayer=[7,14,23,38,74]\n",
    "#resultadosRPlayer=[3,6,7,12,26]\n",
    "\n",
    "\n",
    "#t3 = [0,1,-2,3]\n",
    "#t4 = [1,2,3,4]\n",
    "#t5 = [2,2,1,1]\n",
    "#print t3\n",
    "\n",
    "plt.figure()\n",
    "\n",
    "plt.xlim([0, 1000])\n",
    "plt.ylim([0, 100])\n",
    "\n",
    "#plt.plot(t1, f(t1), 'bo', t2, f(t2), 'k')\n",
    "plt.xlabel('CANTIDAD DE PARTIDAS')\n",
    "plt.ylabel('% PARTIDAS GANADAS')\n",
    "plt.title('resultados')\n",
    "plt.plot(partidas, porcentajeRPlayer,'bo',color='r',label='Random Player')\n",
    "plt.plot(partidas, porcentajeRPlayer,color='r')\n",
    "plt.plot(partidas, porcentajeQPlayer,'bo',label='Q-Player')\n",
    "plt.plot(partidas, porcentajeQPlayer)\n",
    "plt.legend()\n",
    "\n",
    "#plt.plot(t4,t5, label=\"Linea 2\")\n",
    "plt.show()"
   ]
  },
  {
   "cell_type": "markdown",
   "metadata": {},
   "source": [
    "Que pasa si juegan bajo estas mismas condiciones QPLayer contra Qplayer? Hacer grafico doble donde en un lado se vea contra random y en otro contra qplayer. Probamos:"
   ]
  },
  {
   "cell_type": "markdown",
   "metadata": {},
   "source": [
    "10 tiradas :{(1, 0.5): 7}\n",
    "20 tiradas: {(1, 0.5): 7}; {(1, 0.5): 8}\n",
    "30 tiradas: {(1, 0.5): 20}\n",
    "50 tiradas: {(1, 0.5): 32}\n",
    "100 tiradas: {(1, 0.5): 48}\n",
    "200 TIRADAS: {(1, 0.5): 94}\n",
    "300 TIRADAS {(1, 0.5): 139}\n",
    "400 TIRADAS: {(1, 0.5): 210}\n",
    "500 TIRADAS: {(1, 0.5): 250}\n",
    "1000 tiradas:  {(1, 0.5): 514}"
   ]
  },
  {
   "cell_type": "markdown",
   "metadata": {},
   "source": [
    "Graficamos los resultados:"
   ]
  },
  {
   "cell_type": "code",
   "execution_count": 85,
   "metadata": {
    "collapsed": false
   },
   "outputs": [],
   "source": [
    "\n",
    "\n",
    "partidas=[10,20,30,50,100,200,300,400,500,1000]\n",
    "resultadosQPlayer=[7,8,20,32,48,94,139,210,250,514]\n",
    "porcentajeQPlayer=np.multiply(resultadosQPlayer,100)/partidas\n",
    "resultadosRPlayer=[3,12,10,18,52,106,161,190,250,486]\n",
    "porcentajeRPlayer=np.multiply(resultadosRPlayer,100)/partidas\n",
    "\n",
    "\n",
    "\n",
    "\n",
    "partidas1=[10,100,200,400,500]\n",
    "resultadosQPlayer1=[7,48,94,210,250]\n",
    "porcentajeQPlayer1=np.multiply(resultadosQPlayer,100)/partidas\n",
    "resultadosRPlayer1=[3,52,106,190,250]\n",
    "porcentajeRPlayer1=np.multiply(resultadosRPlayer,100)/partidas\n",
    "\n",
    "\n",
    "#print porcentajeQPlayer, porcentajeRPlayer\n",
    "\n",
    "#partidas=[10,20,30,50,100]\n",
    "#resultadosQPlayer=[7,14,23,38,74]\n",
    "#resultadosRPlayer=[3,6,7,12,26]\n",
    "\n",
    "\n",
    "#t3 = [0,1,-2,3]\n",
    "#t4 = [1,2,3,4]\n",
    "#t5 = [2,2,1,1]\n",
    "#print t3\n",
    "\n",
    "plt.figure()\n",
    "plt.xlim([0, 500])\n",
    "plt.ylim([0, 100])\n",
    "\n",
    "\n",
    "\n",
    "#plt.plot(t1, f(t1), 'bo', t2, f(t2), 'k')\n",
    "plt.xlabel('CANTIDAD DE PARTIDAS')\n",
    "plt.ylabel('% PARTIDAS GANADAS')\n",
    "plt.title('resultados')\n",
    "plt.plot(partidas, porcentajeRPlayer,'bo',color='r',label='Random Player')\n",
    "plt.plot(partidas, porcentajeRPlayer,color='r')\n",
    "plt.plot(partidas, porcentajeQPlayer,'bo',label='Q-Player')\n",
    "plt.plot(partidas, porcentajeQPlayer)\n",
    "plt.legend()\n",
    "\n",
    "#plt.plot(t4,t5, label=\"Linea 2\")\n",
    "plt.show()"
   ]
  },
  {
   "cell_type": "markdown",
   "metadata": {},
   "source": [
    "Que pasa si en vez de inicializar el Q en 1, lo inicializamos en algun valor aleatorio entre las recompensas? Q-PLayer vs R-Player random.sample([100, -100, 30],  1)[0]\n",
    "\n",
    "10 tiradas: {(1, 0.5): 10}:{(1, 0.5): 8}\n",
    "20 tiradas: {(1, 0.5): 17}\n",
    "30 tiradas: {(1, 0.5): 21}\n",
    "50 tiradas: {(1, 0.5): 33}: {(1, 0.5): 35}\n",
    "100 tiradas: {(1, 0.5): 77};{(1, 0.5): 76}\n",
    "200 tiradas: {(1, 0.5): 153}, {(1, 0.5): 149}\n",
    "300 tiradas: {(1, 0.5): 226}\n",
    "400 tiradas: {(1, 0.5): 311}\n",
    "500 tiradas: {(1, 0.5): 385}\n",
    "1000 tiradas: {(1, 0.5): 744}\n",
    "\n",
    "Veamos como quedaria el grafico:"
   ]
  },
  {
   "cell_type": "code",
   "execution_count": 86,
   "metadata": {
    "collapsed": true
   },
   "outputs": [],
   "source": [
    "\n",
    "\n",
    "partidas=[10,20,30,50,100,200,300,400,500]\n",
    "resultadosQPlayer=[8,17,21,33,76,149,226,311,385]\n",
    "porcentajeQPlayer=np.multiply(resultadosQPlayer,100)/partidas\n",
    "resultadosRPlayer=[2,3,9,17,24,51,84,99,115]\n",
    "porcentajeRPlayer=np.multiply(resultadosRPlayer,100)/partidas\n",
    "\n",
    "\n",
    "#print porcentajeQPlayer, porcentajeRPlayer\n",
    "\n",
    "#partidas=[10,20,30,50,100]\n",
    "#resultadosQPlayer=[7,14,23,38,74]\n",
    "#resultadosRPlayer=[3,6,7,12,26]\n",
    "\n",
    "\n",
    "#t3 = [0,1,-2,3]\n",
    "#t4 = [1,2,3,4]\n",
    "#t5 = [2,2,1,1]\n",
    "#print t3\n",
    "\n",
    "plt.figure()\n",
    "\n",
    "plt.xlim([0, 500])\n",
    "plt.ylim([0, 100])\n",
    "\n",
    "#plt.plot(t1, f(t1), 'bo', t2, f(t2), 'k')\n",
    "plt.xlabel('CANTIDAD DE PARTIDAS')\n",
    "plt.ylabel('% PARTIDAS GANADAS')\n",
    "plt.title('resultados')\n",
    "plt.plot(partidas, porcentajeRPlayer,'bo',color='r',label='Random Player')\n",
    "plt.plot(partidas, porcentajeRPlayer,color='r')\n",
    "plt.plot(partidas, porcentajeQPlayer,'bo',label='Q-Player')\n",
    "plt.plot(partidas, porcentajeQPlayer)\n",
    "plt.legend()\n",
    "\n",
    "#plt.plot(t4,t5, label=\"Linea 2\")\n",
    "plt.show()"
   ]
  },
  {
   "cell_type": "markdown",
   "metadata": {},
   "source": [
    "## Ejemplo de dos graficos juntos"
   ]
  },
  {
   "cell_type": "code",
   "execution_count": 115,
   "metadata": {
    "collapsed": false
   },
   "outputs": [],
   "source": [
    "\n",
    "\n",
    "partidas=[10,20,30,50,100,200,300,400,500]\n",
    "resultadosQPlayer=[8,17,21,33,76,149,226,311,385]\n",
    "porcentajeQPlayer=np.multiply(resultadosQPlayer,100)/partidas\n",
    "resultadosRPlayer=[2,3,9,17,24,51,84,99,115]\n",
    "porcentajeRPlayer=np.multiply(resultadosRPlayer,100)/partidas\n",
    "\n",
    "\n",
    "#print porcentajeQPlayer, porcentajeRPlayer\n",
    "\n",
    "#partidas=[10,20,30,50,100]\n",
    "#resultadosQPlayer=[7,14,23,38,74]\n",
    "#resultadosRPlayer=[3,6,7,12,26]\n",
    "\n",
    "\n",
    "#t3 = [0,1,-2,3]\n",
    "#t4 = [1,2,3,4]\n",
    "#t5 = [2,2,1,1]\n",
    "#print t3\n",
    "\n",
    "plt.figure()\n",
    "\n",
    "\n",
    "plt.xlim([0, 500])\n",
    "plt.ylim([0, 100])\n",
    "\n",
    "\n",
    "\n",
    "\n",
    "\n",
    "\n",
    "plt.subplot(211) #plt.subplot(num_fila num_columna num:graficp)\n",
    "plt.xlabel('CANTIDAD DE PARTIDAS')\n",
    "plt.ylabel('% PARTIDAS GANADAS')\n",
    "plt.plot(partidas, porcentajeRPlayer,'bo',color='r',label='Random Player')\n",
    "plt.plot(partidas, porcentajeRPlayer,color='r')\n",
    "plt.plot(partidas, porcentajeQPlayer,'bo',label='Q-Player')\n",
    "plt.plot(partidas, porcentajeQPlayer)\n",
    "plt.legend(loc='upper center', bbox_to_anchor=(0.5, 1.05),ncol=2, fancybox=True, shadow=True)\n",
    "plt.title('resultados')\n",
    "#plt.legend()\n",
    "\n",
    "plt.subplot(212)\n",
    "plt.xlabel('CANTIDAD DE PARTIDAS')\n",
    "plt.ylabel('% PARTIDAS GANADAS')\n",
    "plt.plot(partidas, porcentajeRPlayer,'bo',color='r',label='Random Player')\n",
    "plt.plot(partidas, porcentajeRPlayer,color='r')\n",
    "plt.plot(partidas, porcentajeQPlayer,'bo',label='Q-Player')\n",
    "plt.plot(partidas, porcentajeQPlayer)\n",
    "plt.legend()\n",
    "#plt.plot(t2, np.cos(2*np.pi*t2), 'r--')\n",
    "plt.show()"
   ]
  },
  {
   "cell_type": "markdown",
   "metadata": {},
   "source": [
    "Otra pregunta que ns hicimos fue, que ocurre si consideramos mas de un paso de profundidad? (Explicar bien profundidad) Consideramos 2 (mas era muy lento). Los resultados que obtuvimos fueron los siguientes:"
   ]
  },
  {
   "cell_type": "markdown",
   "metadata": {},
   "source": [
    "10 tiradas: {(1, 0.5): 8}\n",
    "20 tiradas: {(1, 0.5): 13}\n",
    "30 tiradas: {(1, 0.5): 21}\n",
    "40 tiradas:{(1, 0.5): 32}\n",
    "50 tiradas: {(1, 0.5): 40}\n",
    "100 tiradas:{(1, 0.5): 81}"
   ]
  },
  {
   "cell_type": "code",
   "execution_count": 134,
   "metadata": {
    "collapsed": false
   },
   "outputs": [],
   "source": [
    "\n",
    "\n",
    "partidas=[10,20,30,50,100]\n",
    "resultadosQPlayer=[8,13,21,40,81]\n",
    "porcentajeQPlayer=np.multiply(resultadosQPlayer,100)/partidas\n",
    "resultadosRPlayer=[2,7,9,10,19]\n",
    "porcentajeRPlayer=np.multiply(resultadosRPlayer,100)/partidas\n",
    "\n",
    "\n",
    "#print porcentajeQPlayer, porcentajeRPlayer\n",
    "\n",
    "#partidas=[10,20,30,50,100]\n",
    "#resultadosQPlayer=[7,14,23,38,74]\n",
    "#resultadosRPlayer=[3,6,7,12,26]\n",
    "\n",
    "\n",
    "#t3 = [0,1,-2,3]\n",
    "#t4 = [1,2,3,4]\n",
    "#t5 = [2,2,1,1]\n",
    "#print t3\n",
    "\n",
    "plt.figure()\n",
    "\n",
    "plt.xlim([0, 100])\n",
    "plt.ylim([0, 100])\n",
    "\n",
    "#plt.plot(t1, f(t1), 'bo', t2, f(t2), 'k')\n",
    "plt.xlabel('CANTIDAD DE PARTIDAS')\n",
    "plt.ylabel('% PARTIDAS GANADAS')\n",
    "plt.title('resultados')\n",
    "plt.plot(partidas, porcentajeRPlayer,'bo',color='r',label='Random Player')\n",
    "plt.plot(partidas, porcentajeRPlayer,color='r')\n",
    "plt.annotate('Random Player', xy=(10, 20), xytext=(12, 20),color='r')\n",
    "plt.plot(partidas, porcentajeQPlayer,'bo',label='Q-Player')\n",
    "plt.plot(partidas, porcentajeQPlayer)\n",
    "plt.annotate('Q-Player', xy=(11, 80), xytext=(12, 80),color='b')\n",
    "plt.legend()\n",
    "\n",
    "#plt.plot(t4,t5, label=\"Linea 2\")\n",
    "plt.show()"
   ]
  },
  {
   "cell_type": "markdown",
   "metadata": {},
   "source": [
    "Comparar con profundidad 1, hacer los dos graficos juntos y ver si se puede concluir algo. Nuestra hipotesis es que mejoraria."
   ]
  },
  {
   "cell_type": "markdown",
   "metadata": {},
   "source": [
    "Propuesta:\n",
    "comentar la eleccion de alpha y gamma. Influencio el cambio de taza de variacion? (o sea mirar para cada alpha que paso con los distintos gammas, esta es una pregunta que ponen en el enunciado)\n",
    "comparar Q vs R con Q vsQ\n",
    "Comparar Q vs R con distintas inicializaciones\n",
    "Comparar Q vs R con profundidad 1 profundidad 2."
   ]
  }
 ],
 "metadata": {
  "anaconda-cloud": {},
  "kernelspec": {
   "display_name": "Python [Root]",
   "language": "python",
   "name": "Python [Root]"
  },
  "language_info": {
   "codemirror_mode": {
    "name": "ipython",
    "version": 2
   },
   "file_extension": ".py",
   "mimetype": "text/x-python",
   "name": "python",
   "nbconvert_exporter": "python",
   "pygments_lexer": "ipython2",
   "version": "2.7.12"
  }
 },
 "nbformat": 4,
 "nbformat_minor": 0
}
