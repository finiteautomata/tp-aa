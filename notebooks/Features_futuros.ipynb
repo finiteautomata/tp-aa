{
 "cells": [
  {
   "cell_type": "code",
   "execution_count": 1,
   "metadata": {
    "collapsed": true
   },
   "outputs": [],
   "source": [
    "# Esto agrega al python path el directorio ..\n",
    "import sys\n",
    "sys.path.append(\"..\")\n",
    "\n",
    "import numpy as np\n",
    "import config\n",
    "from data_builder import load_test_data, load_dev_data, load_small_dev_data\n",
    "\n",
    "\n",
    "df, target = load_small_dev_data()\n",
    "from transformers import extractor\n",
    "\n",
    "\n",
    "\n",
    "extractor.fit(df)\n",
    "extractor.transform(df)\n",
    "\n",
    "texto=df.text\n"
   ]
  },
  {
   "cell_type": "code",
   "execution_count": 11,
   "metadata": {
    "collapsed": false
   },
   "outputs": [],
   "source": [
    "from sklearn.feature_extraction.text import TfidfVectorizer\n",
    "from sklearn.feature_extraction.text import TfidfVectorizer\n",
    "vectorizer = TfidfVectorizer(min_df=1,max_features=200)\n",
    "X = vectorizer.fit_transform(texto)\n"
   ]
  },
  {
   "cell_type": "code",
   "execution_count": 12,
   "metadata": {
    "collapsed": false
   },
   "outputs": [
    {
     "name": "stdout",
     "output_type": "stream",
     "text": [
      "[u'00', u'01', u'02', u'0500', u'06', u'0600', u'08', u'0800', u'09', u'10', u'11', u'110', u'12', u'13', u'14', u'15', u'16', u'168', u'17', u'18', u'19', u'192', u'20', u'2001', u'2002', u'21', u'2195', u'22', u'23', u'237', u'24', u'25', u'26', u'2966', u'30', u'3d', u'3d0', u'3d2', u'3darial', u'3dverdana', u'7bit', u'8859', u'aaaaaaaaaaaaaaaaaaaaaaaaaaaaaaaaaaaaaaaaaaaaaaaaaaaaaaaaaaaaaaaaaaaaaaaaaaaa', u'about', u'align', u'all', u'an', u'and', u'any', u'are', u'arial', u'as', u'ascii', u'at', u'be', u'been', u'bgcolor', u'body', u'border', u'br', u'but', u'by', u'can', u'cc', u'cellpadding', u'cellspacing', u'center', u'charset', u'class', u'cn', u'color', u'com', u'company', u'content', u'corp', u'date', u'div', u'ect', u'email', u'encoding', u'energy', u'enron', u'esmtp', u'exchange', u'face', u'family', u'font', u'for', u'fri', u'from', u'gas', u'gif', u'has', u'have', u'he', u'head', u'height', u'helvetica', u'href', u'html', u'http', u'id', u'if', u'images', u'img', u'in', u'information', u'is', u'iso', u'it', u'its', u'jan', u'john', u'left', u'mail', u'mailman', u'may', u'me', u'message', u'meta', u'microsoft', u'mime', u'mimeole', u'mon', u'more', u'ms', u'mscnx06p', u'msmbx01v', u'mso', u'my', u'na', u'nahou', u'name', u'nbsp', u'net', u'new', u'no', u'normal', u'not', u'nov', u'oct', u'of', u'on', u'one', u'or', u'ou', u'our', u'out', u'plain', u'please', u'priority', u'produced', u're', u'received', u'recipients', u'return', u'right', u'said', u'sans', u'serif', u'size', u'smtprs', u'smtpsvc', u'span', u'src', u'strong', u'style', u'subject', u'table', u'td', u'technologies', u'text', u'that', u'the', u'they', u'this', u'thread', u'thu', u'time', u'to', u'top', u'tr', u'transfer', u'tue', u'type', u'unverified', u'up', u'us', u'v6', u'version', u'was', u'we', u'wed', u'width', u'will', u'with', u'would', u'www', u'you', u'your']\n"
     ]
    }
   ],
   "source": [
    "print vectorizer.get_feature_names()"
   ]
  },
  {
   "cell_type": "code",
   "execution_count": null,
   "metadata": {
    "collapsed": true
   },
   "outputs": [],
   "source": []
  }
 ],
 "metadata": {
  "kernelspec": {
   "display_name": "Python [Root]",
   "language": "python",
   "name": "Python [Root]"
  },
  "language_info": {
   "codemirror_mode": {
    "name": "ipython",
    "version": 2
   },
   "file_extension": ".py",
   "mimetype": "text/x-python",
   "name": "python",
   "nbconvert_exporter": "python",
   "pygments_lexer": "ipython2",
   "version": "2.7.12"
  }
 },
 "nbformat": 4,
 "nbformat_minor": 0
}
