{
 "cells": [
  {
   "cell_type": "markdown",
   "metadata": {},
   "source": [
    "# Ejemplo de pandas-sklearn\n",
    "\n",
    "\n",
    "Import what you need from the sklearn_pandas package. The choices are:\n",
    "\n",
    "- `DataFrameMapper`, a class for mapping pandas data frame columns to different sklearn transformations\n",
    "- `cross_val_score`, similar to sklearn.cross_validation.cross_val_score but working on pandas DataFrames\n",
    "\n"
   ]
  },
  {
   "cell_type": "code",
   "execution_count": 72,
   "metadata": {
    "collapsed": true
   },
   "outputs": [],
   "source": [
    "import sys\n",
    "\n",
    "sys.path.append(\"../..\")"
   ]
  },
  {
   "cell_type": "code",
   "execution_count": 112,
   "metadata": {
    "collapsed": false
   },
   "outputs": [],
   "source": [
    "import numpy as np\n",
    "from sklearn_pandas import DataFrameMapper, cross_val_score\n",
    "from transformers import LenTransformer, SpaceTransformer, options, BaseTransformer\n",
    "from sklearn.pipeline import make_union\n",
    "from sklearn.feature_extraction.text import TfidfVectorizer\n",
    "\n",
    "from IPython.core.debugger import Tracer\n",
    "\n",
    "class LenTransformer(BaseTransformer):\n",
    "    \"\"\"Clase que agrega len al coso este.\"\"\"\n",
    "\n",
    "    def transform(self, data):\n",
    "        u\"\"\"Aplica la transformación.\"\"\"\n",
    "        return np.array([len(t) for t in ndarr]).reshape(-1, 1)\n",
    "\n",
    "class SpaceTransformer(BaseTransformer):\n",
    "    \"\"\"Clase que agrega len al coso este.\"\"\"\n",
    "\n",
    "    def transform(self, data):\n",
    "        u\"\"\"Aplica la transformación.\"\"\"\n",
    "        print data.shape\n",
    "        return np.array([t.count(\" \") for t in ndarr]).reshape(-1, 1)\n",
    "\n",
    "\n",
    "payload_transformer = make_union(\n",
    "    SpaceTransformer(),\n",
    "    LenTransformer(),\n",
    "    TfidfVectorizer(**options),\n",
    ")\n",
    "\n",
    "\n",
    "extractor = DataFrameMapper([\n",
    "    ('payload', payload_transformer)\n",
    "])"
   ]
  },
  {
   "cell_type": "code",
   "execution_count": 113,
   "metadata": {
    "collapsed": false
   },
   "outputs": [
    {
     "name": "stdout",
     "output_type": "stream",
     "text": [
      "8099 registros\n"
     ]
    }
   ],
   "source": [
    "print \"%s registros\" % df.shape[0]"
   ]
  },
  {
   "cell_type": "code",
   "execution_count": 114,
   "metadata": {
    "collapsed": true
   },
   "outputs": [],
   "source": [
    "from data_builder import load_test_data, load_dev_data, load_small_dev_data\n",
    "\n",
    "\n",
    "df, target = load_small_dev_data()\n"
   ]
  },
  {
   "cell_type": "code",
   "execution_count": 115,
   "metadata": {
    "collapsed": false
   },
   "outputs": [
    {
     "data": {
      "text/plain": [
       "DataFrameMapper(default=False,\n",
       "        features=[('payload', FeatureUnion(n_jobs=1,\n",
       "       transformer_list=[('spacetransformer', SpaceTransformer()), ('lentransformer', LenTransformer()), ('tfidfvectorizer', TfidfVectorizer(analyzer=u'word', binary=False, decode_error=u'strict',\n",
       "        dtype=<type 'numpy.int64'>, encoding=u'utf-8', input=u'content',\n",
       "        lowercase=True, max_df=0.75, ...        token_pattern=u'(?u)\\\\b\\\\w\\\\w+\\\\b', tokenizer=None, use_idf=True,\n",
       "        vocabulary=None))],\n",
       "       transformer_weights=None))],\n",
       "        sparse=False)"
      ]
     },
     "execution_count": 115,
     "metadata": {},
     "output_type": "execute_result"
    }
   ],
   "source": [
    "extractor.fit(df, target)"
   ]
  },
  {
   "cell_type": "code",
   "execution_count": 116,
   "metadata": {
    "collapsed": false
   },
   "outputs": [
    {
     "name": "stdout",
     "output_type": "stream",
     "text": [
      "(8099,)\n"
     ]
    },
    {
     "data": {
      "text/plain": [
       "(8099, 102)"
      ]
     },
     "execution_count": 116,
     "metadata": {},
     "output_type": "execute_result"
    }
   ],
   "source": [
    "X = extractor.transform(df)\n",
    "\n",
    "X.shape"
   ]
  },
  {
   "cell_type": "code",
   "execution_count": 117,
   "metadata": {
    "collapsed": false
   },
   "outputs": [],
   "source": [
    "ndarr = extractor._get_col_subset(df, 'payload')"
   ]
  },
  {
   "cell_type": "code",
   "execution_count": 118,
   "metadata": {
    "collapsed": true
   },
   "outputs": [],
   "source": [
    "np.ndarray?"
   ]
  },
  {
   "cell_type": "code",
   "execution_count": null,
   "metadata": {
    "collapsed": true
   },
   "outputs": [],
   "source": []
  }
 ],
 "metadata": {
  "kernelspec": {
   "display_name": "Python 2",
   "language": "python",
   "name": "python2"
  },
  "language_info": {
   "codemirror_mode": {
    "name": "ipython",
    "version": 2
   },
   "file_extension": ".py",
   "mimetype": "text/x-python",
   "name": "python",
   "nbconvert_exporter": "python",
   "pygments_lexer": "ipython2",
   "version": "2.7.11"
  }
 },
 "nbformat": 4,
 "nbformat_minor": 1
}
