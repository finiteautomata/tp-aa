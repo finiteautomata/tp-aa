{
 "cells": [
  {
   "cell_type": "markdown",
   "metadata": {},
   "source": [
    "# Arboles de Decisión\n"
   ]
  },
  {
   "cell_type": "code",
   "execution_count": 1,
   "metadata": {
    "collapsed": false
   },
   "outputs": [],
   "source": [
    "# Esto agrega al python path el directorio ..\n",
    "import sys\n",
    "sys.path.append(\"..\")\n",
    "\n",
    "import numpy as np\n",
    "import config\n",
    "from data_builder import load_test_data, load_dev_data, load_small_dev_data\n",
    "\n",
    "\n",
    "df, target = load_small_dev_data()\n"
   ]
  },
  {
   "cell_type": "markdown",
   "metadata": {},
   "source": [
    "# Optimización de hiperparámetros\n",
    "\n",
    "Busquemos los mejores (posibles) hiperparámetros\n",
    "\n",
    "Para eso, primero veamos qué hiperparámetros nos provee la implementación de SKLearn."
   ]
  },
  {
   "cell_type": "code",
   "execution_count": 2,
   "metadata": {
    "collapsed": false
   },
   "outputs": [
    {
     "data": {
      "text/plain": [
       "array([[ u'from: \"edwina dotson\" <iofigcodgojmqs#####>\\r\\nto: <paliourg#####>,\\r\\n\\t<sper#####>,\\r\\n\\t<vangelis#####>,\\r\\n\\t<vasvir#####>\\r\\nsubject:  why?\\r\\ndate: mon, 29 mar 2004 23:03:23 +0300\\r\\nmime-version: 1.0\\r\\ncontent-type: text/html;\\r\\n\\tcharset=\"iso-8859-7\"\\r\\ncontent-transfer-encoding: quoted-printable\\r\\nx-priority: 3\\r\\nx-msmail-priority: normal\\r\\nx-mimeole: produced by microsoft mimeole v6.00.2900.2527\\r\\n\\r\\n<!doctype html public \"-//w3c//dtd html 3.2//en\">\\r\\n<html>\\r\\n<head>\\r\\n<meta http-equiv=3d\"content-type\" content=3d\"text/html; =\\r\\ncharset=3diso-8859-7\">\\r\\n<meta name=3d\"generator\" content=3d\"ms exchange server version =\\r\\n6.5.7036.0\">\\r\\n<title> . why?</title>\\r\\n</head>\\r\\n<body>\\r\\n<!-- converted from text/plain format -->\\r\\n\\r\\n<p><font size=3d2>only real super viagdra called ciadlis is =\\r\\neffective!<br>\\r\\n&nbsp;annual sale: only $3 per dose<br>\\r\\ncheck out our website with disscounts and get your fdree bonus =\\r\\npillls<br>\\r\\n<a =\\r\\nhref=3d\"http://medsplace.net/sv/index.php?pid=3deph2660\">http://medsplace=\\r\\n.net/sv/index.php?pid=3deph2660</a><br>\\r\\n<br>\\r\\n<br>\\r\\n</font>\\r\\n</p>\\r\\n\\r\\n</body>\\r\\n</html>\\r\\n',\n",
       "        1071, 68, ..., '\"edwina dotson\" <iofigcodgojmqs#####>', 4, False],\n",
       "       [ u'Received: from nahou-mscnx06p.corp.enron.com ([192.168.110.237]) by nahou-msmbx01v.corp.enron.com with Microsoft SMTPSVC(5.0.2195.2966);\\n\\t Fri, 11 Jan 2002 20:17:02 -0600\\nReceived: from NAHOU-MSMSW06P.corp.enron.com ([192.168.110.228]) by nahou-mscnx06p.corp.enron.com with Microsoft SMTPSVC(5.0.2195.2966);\\n\\t Fri, 11 Jan 2002 20:17:02 -0600\\nReceived: from mailman.enron.com (unverified) by NAHOU-MSMSW06P.corp.enron.com\\n (Content Technologies SMTPRS 4.2.5) with ESMTP id <T58639af542c0a86ee487c@NAHOU-MSMSW06P.corp.enron.com>;\\n Fri, 11 Jan 2002 20:17:01 -0600\\nReceived: from ns1.i-cruise.com (ns1.i-cruise.com [209.73.247.25])\\n\\tby mailman.enron.com (8.11.4/8.11.4/corp-1.06) with ESMTP id g0C2H0900731;\\n\\tFri, 11 Jan 2002 20:17:00 -0600 (CST)\\nReceived: from smtp.com (IDENT:root@www.i-cruise.com [209.73.247.30])\\n\\tby ns1.i-cruise.com (8.12.1/8.12.1) with SMTP id g0C0qiBh007826;\\n\\tFri, 11 Jan 2002 21:16:22 -0500\\nMessage-Id: <200201120216.g0C0qiBh007826@ns1.i-cruise.com>\\nDate: Fri, 11 Jan 2002 18:27:01 +0000\\nFrom: specials@icruise.com\\nSubject: icruise Weekly Specials\\nTo: postmaster@your.smtp.com\\nPrecedence: list\\nX-Bulkmail: 2.05\\nReturn-Path: specials@icruise.com\\n\\n  Dear icruise Member, \\nICRUISE SPECIALS FOR WEEK OF Friday , Jan 11, 2002\\n\\nFor even  more 7 day cruises under $500 go to http://www.icruise.com/incredible.htm\\n\\n \\nCarnival Cruise Lines, Carnival Destiny, from $ 710   (Port Charges Included)\\nInside cabin or $849 Ocean View or $989 Balcony,\\n7 day Southern Caribbean cruise sailing roundtrip from San Juan ...  \\nSail date: 5/19/02 \\nhttp://www2.i-cruise.com/Specials.htm?787\\nLimited time!\\n\\nCelebrity Cruises Inc., Horizon, from $ 687   (Port Charges Included)\\nInside or $696 Ocean View,\\n7 day Western Caribbean cruise sailing roundtrip from Miami ...  \\nSail date: 2/15/02 \\nhttp://www2.i-cruise.com/Specials.htm?788\\nLimited time!\\n\\nCarnival Cruise Lines, Carnival Pride, from $ 724   (Port Charges Included)\\nInside or $882 Ocean View or $928 Balcony cabin ,\\n7 day Western Caribbean cruise sailing roundtrip from Pt. Canaveral ...  \\nSail date: 4/27/02 \\nhttp://www2.i-cruise.com/Specials.htm?789\\nLimited time!\\n\\nCunard, Queen Elizabeth 2, from $ 1573   (Port Charges Included)\\nInside Cabin..Includes Economy class one way air and $100 ship-board credit,\\n6 day Transatlantic crossing sailing from New York to Southampton ...  \\nSail date: 5/12/02,5/24/02 \\nhttp://www2.i-cruise.com/Specials.htm?791\\nLimited time!\\n\\nNorwegian Cruise Line, Norwegian Sun, from $ 599   (Port Charges Included)\\nInside Cabin or $749 Ocean view or $999 Balcony,\\n7 day Western Caribbean sailing roundtrip from Miami ...  \\nSail date: 4/6/02,4/13/02,4/20/02,4/27/02 \\nhttp://www2.i-cruise.com/Specials.htm?795\\nLimited time!\\n\\nCarnival Cruise Lines, Carnival Victory, from $ 668   (Port Charges Included)\\nInside with upper/lower or $854 Ocean view,\\n7 day Eastern Caribbean cruise sailing roundtrip from Miami ...  \\nSail date: 3/10/02 \\nhttp://www2.i-cruise.com/Specials.htm?796\\nLimited time!\\n\\nCelebrity Cruises Inc., Constellation, from $ 1447   (Port Charges Included)\\nInside or $1591 Ocean View,\\n13 day European cruise sailing from Dover to Barcelona ...  \\nSail date: 8/31/02 \\nhttp://www2.i-cruise.com/Specials.htm?797\\nLimited time!\\n\\nNorwegian Cruise Line, Norwegian Wind, from $ 861   (Port Charges Included)\\nInside Guarantee,\\n12 night sailing to Tahiti and Hawaii sailing from Papeete to Honolulu ...  \\nSail date: 3/17/02 \\nhttp://www2.i-cruise.com/Specials.htm?798\\nLimited time!\\n\\nCelebrity Cruises Inc., Millennium, from $ 1099   (Port Charges Included)\\nInside or $1291 Ocean View,\\n11 night Caribbean cruise sailing roundtrip from Ft. Lauderdale ...  \\nSail date: 4/29/02 \\nhttp://www2.i-cruise.com/Specials.htm?799\\nLimited time!\\n\\nNorwegian Cruise Line, Norwegian Sky, from $ 1358   (Port Charges Included)\\nInside Cabin,\\n16 day Panama canal cruise sailing from Miami to San Diego ...  \\nSail date: 4/6/02 \\nhttp://www2.i-cruise.com/Specials.htm?800\\nLimited time!\\n\\nNorwegian Cruise Line, Norwegian Sky, from $ 746   (Port Charges Included)\\nInside Guarantee,\\n7 day cruise to Alaska sailing roundtrip from Seattle ...  \\nSail date: 4/28/02,5/5/02,5/12/02 \\nhttp://www2.i-cruise.com/Specials.htm?803\\nLimited time!\\n\\nCelebrity Cruises Inc., Celebrity Summit, from $ 979   (Port Charges Included)\\nInside or $1123 Ocean View,\\n7 day cruise to Alaska sailing from Vancouver to Seward ...  \\nSail date: 5/24/02 \\nhttp://www2.i-cruise.com/Specials.htm?804\\nLimited time!\\n\\nNorwegian Cruise Line, Norwegian Dream, from $ 1724   (Port Charges Included)\\nInside or $1799 Ocean View,\\n12 day cruise to Northern Europe (Baltic) sailing roundtrip from Dover ...  \\nSail date: 8/17/02 \\nhttp://www2.i-cruise.com/Specials.htm?805\\nLimited time!\\n\\nCarnival Cruise Lines, Elation, from $ 736   (Port Charges Included)\\nInside with upper/lower birth or $821 port hole window,\\n7 day Mexican Riviera cruise sailing roundtrip from Los Angeles ...  \\nSail date: 6/2/02 \\nhttp://www2.i-cruise.com/Specials.htm?806\\nLimited time!\\n\\n \\nTo take yourself off our specials mailing list please go to \\nhttp://www2.i-cruise.com/unsubscribe.htm and follow instructions\\n\\n\\nAll prices are per person, subject to availability, change without\\nnotice, and are capacity controlled. Unless indicated, prices do not\\ninclude airfare, air taxes or government taxes/fees and port taxes. A\\n$11 shipping and handling fee will be added.\\n\\n\\n\\n',\n",
       "        5345, 625, ..., 'specials@icruise.com', 0, False],\n",
       "       [ u'Received: from nahou-mscnx06p.corp.enron.com ([192.168.110.237]) by napdx-msmbx01v.corp.enron.com with Microsoft SMTPSVC(5.0.2195.1600);\\n\\t Wed, 15 Aug 2001 01:53:02 -0800\\nReceived: from corp.enron.com ([192.168.110.226]) by nahou-mscnx06p.corp.enron.com with Microsoft SMTPSVC(5.0.2195.2966);\\n\\t Wed, 15 Aug 2001 03:52:45 -0600\\nReceived: from mailman.enron.com (unverified) by corp.enron.com\\n (Content Technologies SMTPRS 4.2.1) with ESMTP id <T5a0a457528c0a86ee241c@corp.enron.com> for <plucci@exchange.enron.com>;\\n Wed, 15 Aug 2001 03:52:13 -0600\\nReceived: from mx21.wecl-online.com ([222.122.15.241])\\n        by mailman.enron.com (8.11.4/8.11.4/corp-1.06) with ESMTP id g343Bbl88185\\n        for <PAUL.T.LUCCI@ENRON.COM>; Wed, 15 Aug 2001 04:50:32 -0500 (CDT)\\nReceived: by mx21.wecl-online.com (Postfix, from userid 151)\\n\\tid B7606520DA; Wed, 15 Aug 2001 18:52:50 +0900 (KST)\\nTo: PAUL.T.LUCCI@ENRON.COM\\nSubject: =?ISO-2022-JP?B?GyRCR3JJMT13O1I5O0pdN3IbKEI=?=\\n =?ISO-2022-JP?B?GyRCPDwkKyRpJE4kKiQ3JGkkOxsoQg==?=\\nFrom: =?ISO-2022-JP?B?GyRCOClOKUdySTE9dztSOTtKXTgxPDwbKEI=?= <spnews@wecl-online.com>\\nReply-To: mag+PAUL.T.LUCCI=em.ca@mx21.wecl-online.com\\nMime-Version: 1.0\\nContent-Type: text/plain; charset=ISO-2022-JP\\nContent-Transfer-Encoding: 7bit\\nMessage-Id: <20050123102100.B7606520DA@mx21.wecl-online.com>\\nDate: Wed, 15 Aug 2001 18:52:50 +0900 (KST)\\n\\n\\x1b$B$3$NA0$NG%?18!::$K$D$$$F\\x1b(B\\n\\x1b$B8)N)GrI1=w;R9b9;J]7r<<$+$i$N$*CN$i$;$G$9!#\\x1b(B\\n\\n\\x1b$B4V0c$C$F<u$1<h$C$?J}$O!\"\\x1b(B\\n\\x1b$B$*<j?t$G$9$,!\"GK4~$7$F$/$@$5$$!#\\x1b(B\\n\\x1b$B$*OM$SCW$7$^$9!#\\x1b(B\\n\\n\\x1b$B3:Ev$9$k?M$O\\x1b(B\\n\\x1b$B2<5-%j%s%/$h$jF~$C$F$*CN$i$;$r3NG\\'$7$F2<$5$$!#\\x1b(B\\nhttp://just-feed.net/shirahime/?mEOtN8ag2E-liEgtiEGC26BV2E\\n\\n\\n\\n\\n\\n\\n\\n\\n\\n\\n\\n\\n\\n\\n\\n\\n\\n\\n\\n\\n\\n\\n\\n\\n\\n\\n\\n\\n\\n\\n\\n\\n\\n\\n\\n\\n\\n\\n\\n\\n\\n\\n\\n\\n\\n\\n\\n\\n\\n\\n\\n\\n\\x1b$B\"!(,(,(,(,(,(,(,(,(,(,\"!\\x1b(B \\x1b$B!y\\x1b(B \\x1b$B96N,$*F@%5%$%H%^%,%8%s\\x1b(B VOL.201\\n\\x1b$B(-#W%*%s%i%$%s$*F@>pJs(-\\x1b(B \\x1b$B!y!z!y\\x1b(B \\x1b$B#1<~G/5-G0FCJL%a%k%^%,G[?.\\x1b(B\\n\\x1b$B\"!(,(,(,(,(,(,(,(,(,(,\"!\\x1b(B \\x1b$B!y!z!y!z!y!z!y!z!y!z!y!z!y!z!y!z!y!z\\x1b(B\\n\\x1b$B!2!2!2!2!2!2!2!2!2!2!2!2!2!2!2!2!2!2!2!2!2!2!2!2!2!2!2!2!2!2!2\\x1b(B\\n\\x1b$B\"(=EJ#!&$4ITMW$N$40FFb$K$J$j$^$7$?>l9g$O?<$/$*OM$SCW$7$^$9!#\\x1b(B\\n(\\x1b$B$4ITMW$NJ}$O:G2<It%j%s%/$h$j9XFI2r=|$N<jB3$-$r9T$C$F2<$5$$\\x1b(B)\\n\\x1b$B!1!1!1!1!1!1!1!1!1!1!1!1!1!1!1!1!1!1!1!1!1!1!1!1!1!1!1!1!1!1!1\\x1b(B\\n\\x1b$B!2!2!ZCm0U;v9`![!2!2!2!2!2!2!2!2!2!2!2!2!2!2!2!2!2!2!2!2!2!2!2\\x1b(B\\n\\x1b$B7G:\\\\$5$l$?FbMF$N0lItKt$OA4$F$r5v2D$J$/E>:\\\\$9$k;v$r6X;_$7$^$9!#\\x1b(B\\n\\x1b$BK\\\\%a!<%k%^%,%8%s7G:\\\\$N%j%s%/@h$K4X$7$F$O0l@Z@UG$$rIi$$$^$;$s!#\\x1b(B\\n\\x1b$B7G:\\\\%5%$%H$NMxMQ$N:]$7$F!\"3F?M$,<+J,$N@UG$$G9T$J$C$F2<$5$$!#\\x1b(B\\n\\x1b$B$$$+$J$kB;32$K4X$7$F$b0l@Z@UG$$rIi$$$+$M$^$9$N$G$4N;>52<$5$$!#\\x1b(B\\n\\x1b$B!1!1!1!1!1!1!1!1!1!1!1!1!1!1!1!1!1!1!1!1!1!1!1!1!1!1!1!1!1!1!1\\x1b(B\\n\\n\\x1b$B\".\".!Z2r=|$K$D$$$F![\".\".\".\".\".\".\".\".\".\".\".\".\".\".\".\".\".\".\".\".\".\\x1b(B\\n\\x1b$BK|$,0l\\x1b(B18\\x1b$B:PL$K~$NJ}$KFO$$$?>l9g$dEPO?2r=|$r$44uK>$NJ}$O$*<j?t\\x1b(B\\n\\x1b$B$G$9$,!\"2<5-$N%\"%I%l%9$h$j%\"%/%;%9$7$4<+?H$G$*<jB3$-2<$5$$!#\\x1b(B\\n\\x1b$B!Z#W%*%s%i%$%s%a!<%k%^%,%8%s2r=|%Z!<%8![\\x1b(B\\nhttp://wecl-online.com/regist/unregist?magid=1000108\\n\\x1b$B\".\".\".\".\".\".\".\".\".\".\".\".\".\".\".\".\".\".\".\".\".\".\".\".\".\".\".\".\".\".\".\\x1b(B\\n',\n",
       "        3002, 120, ...,\n",
       "        '=?ISO-2022-JP?B?GyRCOClOKUdySTE9dztSOTtKXTgxPDwbKEI=?= <spnews@wecl-online.com>',\n",
       "        0, False],\n",
       "       ..., \n",
       "       [ u\"message-id: <23242760.1075854303875.javamail.evans#####>\\r\\ndate: fri, 26 jan 2001 06:54:00 -0800 (pst)\\r\\nfrom: michael.mitcham#####\\r\\nto: david.bush#####, mark.diedrich#####, paul.fox#####, \\r\\n\\tdavid.johnson#####, robert.lee#####, \\r\\n\\tthomas.meers#####, maritta.mullet#####, \\r\\n\\tjames.prentice#####, sally.shuler#####, \\r\\n\\tdaren.farmer#####, lee.papayoti#####, \\r\\n\\tsteven.elliott#####, john.nowlan#####, \\r\\n\\tanita.luong#####, gregg.lenart#####\\r\\nsubject: natural gas nomination for february 2001\\r\\nmime-version: 1.0\\r\\ncontent-type: text/plain; charset=us-ascii\\r\\ncontent-transfer-encoding: 7bit\\r\\nx-from: michael mitcham\\r\\nx-to: david bush, mark diedrich, paul fox, david m johnson, robert lee, thomas meers, maritta mullet, james prentice, sally shuler, daren j farmer, lee l papayoti, steven m elliott, john l nowlan, anita luong, gregg lenart\\r\\nx-cc: \\r\\nx-bcc: \\r\\nx-origin: farmer-d\\r\\nx-filename: dfarmer.nsf\\r\\n\\r\\n##### methanol nominates the following natural gas requirements for the \\nmethanol plant for february 2001:\\n\\n32,000 mmbtu per day\\n\\negpfc nominates the following natural gas requirements for the mtbe plant at \\nmorgan's point for february 2001:\\n\\n6,000 mmbtu per day\",\n",
       "        1158, 111, ..., 'michael.mitcham#####', 0, False],\n",
       "       [ u'Recieved: from nahou-mscnx06p.corp.enron.com ([192.168.110.237]) by NAHOU-MSMBX01V.corp.enron.com with Microsoft SMTPSVC(5.0.2195.2966);\\n\\t Thu, 8 Nov 2001 11:31:03 -0600\\nReceived: from corp.enron.com ([192.168.110.226]) by nahou-mscnx06p.corp.enron.com with Microsoft SMTPSVC(5.0.2195.2966);\\n\\t Thu, 8 Nov 2001 11:31:03 -0600\\nReceived: from mailman.enron.com (unverified) by corp.enron.com\\n (Content Technologies SMTPRS 4.2.1) with ESMTP id <T571822506dc0a86ee27d4@corp.enron.com> for <ddavis@exchange.enron.com>;\\n Thu, 8 Nov 2001 11:30:56 -0600\\nReceived: from srvflexsmtp.flexitallic.com ([209.44.160.236])\\n\\tby mailman.enron.com (8.11.4/8.11.4/corp-1.06) with SMTP id fA8HUuV17312\\n\\tfor <Dana.Davis@ENRON.com>; Thu, 8 Nov 2001 11:30:56 -0600 (CST)\\nReceived: from mail pickup service by srvflexsmtp.flexitallic.com with Microsoft SMTPSVC;\\n\\t Thu, 8 Nov 2001 11:29:12 -0600\\nReceived: from srvflexmail.flexitallic.com ([209.44.160.232]) by srvflexsmtp.flexitallic.com with Microsoft SMTPSVC(5.0.2195.3779); Thu, 8 Nov 2001 11:29:09 -0600\\nReceived: by srvflexmail.flexitallic.com with Internet Mail Service (5.5.2653.19) id <WPPYXSM7>; Thu, 8 Nov 2001 11:31:50 -0600\\nMessage-ID: <827A852A00F29B4E867C18BEEB7A89913DE139@srvflexmail.flexitallic.com>\\nX-MimeOLE: Produced By Microsoft MimeOLE V5.50.4522.1200\\nFrom: \"Frank Telemaque\" <Frank_Telemaque@flexitallic.com>\\nTo: \"\\'Davis, Dana\\'\" <Dana.Davis@ENRON.com>\\nSubject: RE: \\nDate: Thu, 8 Nov 2001 11:31:49 -0600 \\nMIME-Version: 1.0\\nX-Mailer: Internet Mail Service (5.5.2653.19)\\nContent-Type: multipart/alternative;\\n\\tboundary=\"----_=_NextPart_001_01C1687B.3F667570\"\\nReturn-Path: Frank_Telemaque@flexitallic.com\\n\\nok baby.\\n\\n-----Original Message-----\\nFrom: Davis, Dana [mailto:Dana.Davis@ENRON.com]\\nSent: Thursday, November 08, 2001 11:29 AM\\nTo: Frank Telemaque\\nSubject: RE: \\n\\n\\nI wear the color downtown brown.\\n\\n-----Original Message-----\\nFrom: Frank Telemaque [mailto:Frank_Telemaque@flexitallic.com]\\nSent: Thursday, November 08, 2001 11:28 AM\\nTo: Davis, Dana\\nSubject: RE: \\n\\n\\nwhat.\\n\\n-----Original Message-----\\nFrom: Davis, Dana [mailto:Dana.Davis@ENRON.com]\\nSent: Thursday, November 08, 2001 11:18 AM\\nTo: Frank Telemaque\\nSubject: \\n\\n\\nWhat\\'cha doin over there?\\n\\n-----Original Message-----\\nFrom: Frank Telemaque [mailto:Frank_Telemaque@flexitallic.com]\\nSent: Thursday, November 08, 2001 8:34 AM\\nTo: Davis, Dana\\nSubject: RE: Good Morning\\n\\n\\ngood morning my love, i cannot oper it call me.\\n\\n-----Original Message-----\\nFrom: Davis, Dana [mailto:Dana.Davis@ENRON.com]\\nSent: Thursday, November 08, 2001 8:24 AM\\nTo: Frank Telemaque\\nSubject: Good Morning\\n\\n\\n    See if you can open this video clip.  Let me know.\\n\\n\\n**********************************************************************\\nThis e-mail is the property of Enron Corp. and/or its relevant affiliate and\\nmay contain confidential and privileged material for the sole use of the\\nintended recipient (s). Any review, use, distribution or disclosure by\\nothers is strictly prohibited. If you are not the intended recipient (or\\nauthorized to receive for the recipient), please contact the sender or reply\\nto Enron Corp. at enron.messaging.administration@enron.com and delete all\\ncopies of the message. This e-mail (and any attachments hereto) are not\\nintended to be an offer (or an acceptance) and do not create or evidence a\\nbinding and enforceable contract between Enron Corp. (or any of its\\naffiliates) and the intended recipient or any other party, and may not be\\nrelied on by anyone as the basis of a contract by estoppel or otherwise.\\nThank you. \\n**********************************************************************\\n\\n\\nINSIST UPON GENUINE FLEXITALLIC GASKETS!\\nAnything else is just a copy.\\n\\nINSIST UPON GENUINE FLEXITALLIC GASKETS!\\nAnything else is just a copy.\\n\\n\\n\\nINSIST UPON GENUINE FLEXITALLIC GASKETS!\\nAnything else is just a copy.\\n\\n',\n",
       "        3820, 391, ...,\n",
       "        '\"Frank Telemaque\" <Frank_Telemaque@flexitallic.com>', 1, False],\n",
       "       [ u\"message-id: <12435103.1075856567666.javamail.evans#####>\\r\\ndate: thu, 5 apr 2001 08:46:00 -0700 (pdt)\\r\\nfrom: shirley.crenshaw#####\\r\\nto: liz.taylor#####\\r\\nsubject: vince kaminski expense reports\\r\\ncc: vince.kaminski#####\\r\\nmime-version: 1.0\\r\\ncontent-type: text/plain; charset=us-ascii\\r\\ncontent-transfer-encoding: 7bit\\r\\nbcc: vince.kaminski#####\\r\\nx-from: shirley crenshaw\\r\\nx-to: liz m taylor\\r\\nx-cc: vince j kaminski\\r\\nx-bcc: \\r\\nx-origin: kaminski-v\\r\\nx-filename: vkamins.nsf\\r\\n\\r\\nhi liz:\\n\\nvince has two expense reports pending for approval from greg whalley.\\n\\nthey are:  london trip - 8,051.59\\n  philadelphia (wharton business school) - 2,067.47\\n\\nplease have greg approve these as soon as possible.\\n\\nthe wharton school will be cross-charged to christie patrick's cost center.\\nbut for expediency in getting this paid it was submitted on our cost center.\\n\\nthanks!\\n\\nshirley\",\n",
       "        858, 86, ..., 'shirley.crenshaw#####', 0, False]], dtype=object)"
      ]
     },
     "execution_count": 2,
     "metadata": {},
     "output_type": "execute_result"
    }
   ],
   "source": [
    "from transformers import extractor\n",
    "\n",
    "\n",
    "\n",
    "extractor.fit(df)\n",
    "extractor.transform(df)\n"
   ]
  },
  {
   "cell_type": "markdown",
   "metadata": {},
   "source": [
    "\n",
    "Algunas observaciones previas:\n",
    "\n",
    "El árbol que se genera no es usando ID3 sino CART. Una pequeña introducción\n",
    "se puede ver en\n",
    "\n",
    "http://scikit-learn.org/stable/modules/tree.html#tree-algorithms-id3-c4-5-c5-0-and-cart\n",
    "\n",
    "No está muy completo el asunto ahí, habría que hurgar algún paper extra\n",
    "\n",
    "Opciones:\n",
    "\n",
    "- criterion: gini o entropy. Son dos medidas distintas\n",
    "- splitter: No estoy muy seguro\n",
    "- max_depth: máxima profundidad del árbol\n",
    "- max_features: qué porcentaje de variables tomo a la hora de partir un nodo.\n",
    "  Estas variables se eligen aleatoriamente\n",
    "- min_samples_split: cuántos elementos tengo que tener en un nodo para decidir\n",
    "  partirlo"
   ]
  },
  {
   "cell_type": "code",
   "execution_count": 3,
   "metadata": {
    "collapsed": false
   },
   "outputs": [
    {
     "name": "stdout",
     "output_type": "stream",
     "text": [
      "Buscando parámetros para DecisionTreeClassifier\n",
      "Mejor combinación: {'min_samples_split': 92, 'splitter': 'best', 'criterion': 'gini', 'max_depth': 26, 'max_features': 0.50000000000000011}\n",
      "Mejor valor: 0.977309522806\n",
      "\n",
      "\n"
     ]
    }
   ],
   "source": [
    "from search import find_best_classifier\n",
    "from sklearn.tree import DecisionTreeClassifier\n",
    "\n",
    "options = {\n",
    "    'criterion': ['gini', 'entropy'],\n",
    "    'splitter': ['best', 'random'],\n",
    "    'max_depth': range(2, 52, 8),\n",
    "    'max_features': np.arange(0.1, 1.0, 0.2),\n",
    "    'min_samples_split': range(2, 102, 10),\n",
    "}\n",
    "\n",
    "X = df._get_numeric_data().values\n",
    "y = target\n",
    "classifier = find_best_classifier(\n",
    "    X, y, DecisionTreeClassifier, param_distributions=options, \n",
    "    scoring='roc_auc', cv=10, n_jobs=6, n_iter=10)    "
   ]
  },
  {
   "cell_type": "code",
   "execution_count": 4,
   "metadata": {
    "collapsed": false
   },
   "outputs": [
    {
     "data": {
      "text/html": [
       "<div>\n",
       "<table border=\"1\" class=\"dataframe\">\n",
       "  <thead>\n",
       "    <tr style=\"text-align: right;\">\n",
       "      <th></th>\n",
       "      <th>precision_score</th>\n",
       "      <th>accuracy_score</th>\n",
       "      <th>f1_score</th>\n",
       "      <th>recall_score</th>\n",
       "      <th>roc_auc_score</th>\n",
       "    </tr>\n",
       "  </thead>\n",
       "  <tbody>\n",
       "    <tr>\n",
       "      <th>DecisionTreeClassifier</th>\n",
       "      <td>0.933525</td>\n",
       "      <td>0.936222</td>\n",
       "      <td>0.93642</td>\n",
       "      <td>0.939333</td>\n",
       "      <td>0.936222</td>\n",
       "    </tr>\n",
       "  </tbody>\n",
       "</table>\n",
       "</div>"
      ],
      "text/plain": [
       "                        precision_score  accuracy_score  f1_score  \\\n",
       "DecisionTreeClassifier         0.933525        0.936222   0.93642   \n",
       "\n",
       "                        recall_score  roc_auc_score  \n",
       "DecisionTreeClassifier      0.939333       0.936222  "
      ]
     },
     "execution_count": 4,
     "metadata": {},
     "output_type": "execute_result"
    }
   ],
   "source": [
    "from helpers import get_scores\n",
    "\n",
    "get_scores(classifier)"
   ]
  },
  {
   "cell_type": "code",
   "execution_count": 5,
   "metadata": {
    "collapsed": true
   },
   "outputs": [],
   "source": []
  }
 ],
 "metadata": {
  "anaconda-cloud": {},
  "kernelspec": {
   "display_name": "Python 2",
   "language": "python",
   "name": "python2"
  },
  "language_info": {
   "codemirror_mode": {
    "name": "ipython",
    "version": 2
   },
   "file_extension": ".py",
   "mimetype": "text/x-python",
   "name": "python",
   "nbconvert_exporter": "python",
   "pygments_lexer": "ipython2",
   "version": "2.7.12"
  }
 },
 "nbformat": 4,
 "nbformat_minor": 1
}
