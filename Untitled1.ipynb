{
 "cells": [
  {
   "cell_type": "code",
   "execution_count": null,
   "metadata": {
    "collapsed": true
   },
   "outputs": [],
   "source": [
    "from sklearn.svm import NuSVC\n",
    "\n",
    "NuSVC(nu=0.5, kernel='rbf', degree=3, gamma='auto', coef0=0.0, shrinking=True, probability=False, tol=0.001,\n",
    "      cache_size=200, class_weight=None, verbose=False, max_iter=-1, decision_function_shape=None, random_state=None)\n",
    "\n",
    "nu : float, optional (default=0.5)\n",
    "An upper bound on the fraction of training errors and a lower bound of the fraction of support vectors.\n",
    "Should be in the interval (0, 1].\n",
    "\n",
    "                                                                                                                                   \n",
    "                                                                                                                                   \n",
    "                                                                                                                                   ernel : string, optional (default=’rbf’)\n",
    "Specifies the kernel type to be used in the algorithm. It must be one of ‘linear’, ‘poly’, ‘rbf’, ‘sigmoid’, ‘precomputed’ or \n",
    "a callable. If none is given, ‘rbf’ will be used. If a callable is given it is used to precompute the kernel matrix.\n",
    "                           \n",
    "degree : int, optional (default=3)\n",
    "Degree of the polynomial kernel function (‘poly’). Ignored by all other kernels.\n",
    "                           \n",
    "gamma : float, optional (default=’auto’)\n",
    "Kernel coefficient for ‘rbf’, ‘poly’ and ‘sigmoid’. If gamma is ‘auto’ then 1/n_features will be used instead.\n",
    "\n",
    "                           \n",
    "coef0 : float, optional (default=0.0)\n",
    "Independent term in kernel function. It is only significant in ‘poly’ and ‘sigmoid’.\n",
    "\n",
    "                           \n",
    "probability : boolean, optional (default=False)\n",
    "Whether to enable probability estimates. This must be enabled prior to calling fit, and will slow down that method.\n",
    "\n",
    "                           shrinking : boolean, optional (default=True)\n",
    "Whether to use the shrinking heuristic.\n",
    "\n",
    "                           tol : float, optional (default=1e-3)\n",
    "Tolerance for stopping criterion.\n",
    "\n",
    "                           cache_size : float, optional\n",
    "Specify the size of the kernel cache (in MB).\n",
    "\n",
    "                           class_weight : {dict, ‘auto’}, optional\n",
    "Set the parameter C of class i to class_weight[i]*C for SVC. If not given, all classes are supposed to have weight one. The ‘auto’ mode uses the values of y to automatically adjust weights inversely proportional to class frequencies.\n",
    "verbose : bool, default: False\n",
    "Enable verbose output. Note that this setting takes advantage of a per-process runtime setting in libsvm that, if enabled, may not work properly in a multithreaded context.\n",
    "max_iter : int, optional (default=-1)\n",
    "Hard limit on iterations within solver, or -1 for no limit.\n",
    "\n",
    "                           decision_function_shape : ‘ovo’, ‘ovr’ or None, default=None\n",
    "Whether to return a one-vs-rest (‘ovr’) ecision function of shape (n_samples, n_classes) as all other classifiers, or the original one-vs-one (‘ovo’) decision function of libsvm which has shape (n_samples, n_classes * (n_classes - 1) / 2). The default of None will currently behave as ‘ovo’ for backward compatibility and raise a deprecation warning, but will change ‘ovr’ in 0.18.\n",
    "New in version 0.17: decision_function_shape=’ovr’ is recommended.\n",
    "Changed in version 0.17: Deprecated decision_function_shape=’ovo’ and None.\n",
    "\n",
    "                           \n",
    "                           random_state : int seed, RandomState instance, or None (default)\n",
    "The seed of the pseudo random number generator to use when shuffling the data for probability estimation."
   ]
  }
 ],
 "metadata": {
  "anaconda-cloud": {},
  "kernelspec": {
   "display_name": "Python [Root]",
   "language": "python",
   "name": "Python [Root]"
  },
  "language_info": {
   "codemirror_mode": {
    "name": "ipython",
    "version": 2
   },
   "file_extension": ".py",
   "mimetype": "text/x-python",
   "name": "python",
   "nbconvert_exporter": "python",
   "pygments_lexer": "ipython2",
   "version": "2.7.12"
  }
 },
 "nbformat": 4,
 "nbformat_minor": 0
}
