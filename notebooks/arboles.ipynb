{
 "cells": [
  {
   "cell_type": "markdown",
   "metadata": {},
   "source": [
    "# Arboles de Decisión\n"
   ]
  },
  {
   "cell_type": "code",
   "execution_count": 1,
   "metadata": {
    "collapsed": false
   },
   "outputs": [
    {
     "name": "stdout",
     "output_type": "stream",
     "text": [
      "(8099, 173)\n"
     ]
    }
   ],
   "source": [
    "# Esto agrega al python path el directorio ..\n",
    "import sys\n",
    "sys.path.append(\"..\")\n",
    "\n",
    "import numpy as np\n",
    "import config\n",
    "from helpers import get_scores\n",
    "from sklearn.grid_search import RandomizedSearchCV\n",
    "from transformers import transformer\n",
    "from data_builder import load_test_data, load_dev_data, load_small_dev_data\n",
    "\n",
    "df, target = load_small_dev_data()\n",
    "X = transformer.fit_transform(df)\n",
    "\n",
    "print(X.shape)"
   ]
  },
  {
   "cell_type": "markdown",
   "metadata": {},
   "source": [
    "# Optimización de hiperparámetros\n",
    "\n",
    "Busquemos los mejores (posibles) hiperparámetros\n",
    "\n",
    "Para eso, primero veamos qué hiperparámetros nos provee la implementación de SKLearn."
   ]
  },
  {
   "cell_type": "markdown",
   "metadata": {},
   "source": [
    "\n",
    "Algunas observaciones previas:\n",
    "\n",
    "El árbol que se genera no es usando ID3 sino CART. Una pequeña introducción\n",
    "se puede ver en\n",
    "\n",
    "http://scikit-learn.org/stable/modules/tree.html#tree-algorithms-id3-c4-5-c5-0-and-cart\n",
    "\n",
    "No está muy completo el asunto ahí, habría que hurgar algún paper extra\n",
    "\n",
    "Opciones:\n",
    "\n",
    "- criterion: gini o entropy. Son dos medidas distintas\n",
    "- splitter: No estoy muy seguro\n",
    "- max_depth: máxima profundidad del árbol\n",
    "- max_features: qué porcentaje de variables tomo a la hora de partir un nodo.\n",
    "  Estas variables se eligen aleatoriamente\n",
    "- min_samples_split: cuántos elementos tengo que tener en un nodo para decidir\n",
    "  partirlo"
   ]
  },
  {
   "cell_type": "code",
   "execution_count": 2,
   "metadata": {
    "collapsed": false
   },
   "outputs": [
    {
     "name": "stdout",
     "output_type": "stream",
     "text": [
      "Fitting 10 folds for each of 20 candidates, totalling 200 fits\n"
     ]
    },
    {
     "name": "stderr",
     "output_type": "stream",
     "text": [
      "[Parallel(n_jobs=4)]: Done  76 tasks      | elapsed:    6.0s\n",
      "[Parallel(n_jobs=4)]: Done 200 out of 200 | elapsed:   14.4s finished\n"
     ]
    },
    {
     "name": "stdout",
     "output_type": "stream",
     "text": [
      "Mejores parámetros: {'min_samples_split': 92, 'splitter': 'best', 'criterion': 'entropy', 'max_depth': 26, 'max_features': 0.50000000000000011}\n"
     ]
    },
    {
     "data": {
      "text/html": [
       "<div>\n",
       "<table border=\"1\" class=\"dataframe\">\n",
       "  <thead>\n",
       "    <tr style=\"text-align: right;\">\n",
       "      <th></th>\n",
       "      <th>precision_score</th>\n",
       "      <th>accuracy_score</th>\n",
       "      <th>f1_score</th>\n",
       "      <th>recall_score</th>\n",
       "      <th>roc_auc_score</th>\n",
       "    </tr>\n",
       "  </thead>\n",
       "  <tbody>\n",
       "    <tr>\n",
       "      <th>DecisionTreeClassifier</th>\n",
       "      <td>0.939307</td>\n",
       "      <td>0.942333</td>\n",
       "      <td>0.942531</td>\n",
       "      <td>0.945778</td>\n",
       "      <td>0.942333</td>\n",
       "    </tr>\n",
       "  </tbody>\n",
       "</table>\n",
       "</div>"
      ],
      "text/plain": [
       "                        precision_score  accuracy_score  f1_score  \\\n",
       "DecisionTreeClassifier         0.939307        0.942333  0.942531   \n",
       "\n",
       "                        recall_score  roc_auc_score  \n",
       "DecisionTreeClassifier      0.945778       0.942333  "
      ]
     },
     "execution_count": 2,
     "metadata": {},
     "output_type": "execute_result"
    }
   ],
   "source": [
    "from search import find_best_classifier\n",
    "from sklearn.tree import DecisionTreeClassifier\n",
    "\n",
    "options = {\n",
    "    'criterion': ['gini', 'entropy'],\n",
    "    'splitter': ['best', 'random'],\n",
    "    'max_depth': range(2, 52, 8),\n",
    "    'max_features': np.arange(0.1, 1.0, 0.2),\n",
    "    'min_samples_split': range(2, 102, 10),\n",
    "}\n",
    "\n",
    "search_options = {\n",
    "    'cv': 10,\n",
    "    'scoring': 'roc_auc',\n",
    "    'n_jobs': 4,\n",
    "    'n_iter': 20,\n",
    "}\n",
    "\n",
    "search = RandomizedSearchCV(DecisionTreeClassifier(), options, verbose=1, **search_options)\n",
    "\n",
    "search.fit(X, target)\n",
    "\n",
    "print(\"Mejores parámetros: {}\".format(search.best_params_))\n",
    "\n",
    "get_scores(search.best_estimator_, transformer)"
   ]
  },
  {
   "cell_type": "markdown",
   "metadata": {
    "collapsed": true
   },
   "source": [
    "# Haciendo PCA\n",
    "\n",
    "\n",
    "Probemos ahora haciendo PCA sobre las variables, y luego aplicando el clasificador.\n",
    "\n",
    "La reducción de dimensionalidad será una variable más del proceso de búsqueda de parámetros. Nos quedamos sólo con las variables de mayor componente principal. No sé si necesariamente es lo mejor esto..."
   ]
  },
  {
   "cell_type": "code",
   "execution_count": 3,
   "metadata": {
    "collapsed": false
   },
   "outputs": [
    {
     "data": {
      "text/plain": [
       "Pipeline(steps=[('pca', PCA(copy=True, n_components=None, whiten=False)), ('tree', DecisionTreeClassifier(class_weight=None, criterion='gini', max_depth=None,\n",
       "            max_features=None, max_leaf_nodes=None, min_samples_leaf=1,\n",
       "            min_samples_split=2, min_weight_fraction_leaf=0.0,\n",
       "            presort=False, random_state=None, splitter='best'))])"
      ]
     },
     "execution_count": 3,
     "metadata": {},
     "output_type": "execute_result"
    }
   ],
   "source": [
    "from sklearn.decomposition import PCA\n",
    "from sklearn.pipeline import Pipeline\n",
    "\n",
    "clf = Pipeline([\n",
    "    ('pca', PCA()),\n",
    "    ('tree', DecisionTreeClassifier()),\n",
    "])\n",
    "clf"
   ]
  },
  {
   "cell_type": "markdown",
   "metadata": {},
   "source": [
    "Uso todas las opciones anteriores de árboles, pero tengo que agregarle un prefijo porque los meto en un pipeline (prefijo `tree__` para opciones del árbol, `pca__` para las de pca)\n",
    "\n",
    "Voy a tomar como posibles dimensiones 20, 30, ..., n_dims - 10, n_dims"
   ]
  },
  {
   "cell_type": "code",
   "execution_count": 4,
   "metadata": {
    "collapsed": false
   },
   "outputs": [
    {
     "name": "stdout",
     "output_type": "stream",
     "text": [
      "Fitting 10 folds for each of 20 candidates, totalling 200 fits\n"
     ]
    },
    {
     "name": "stderr",
     "output_type": "stream",
     "text": [
      "[Parallel(n_jobs=4)]: Done  42 tasks      | elapsed:   17.7s\n",
      "[Parallel(n_jobs=4)]: Done 192 tasks      | elapsed:  1.4min\n",
      "[Parallel(n_jobs=4)]: Done 200 out of 200 | elapsed:  1.4min finished\n"
     ]
    },
    {
     "name": "stdout",
     "output_type": "stream",
     "text": [
      "Mejores parámetros: {'tree__criterion': 'entropy', 'tree__splitter': 'best', 'tree__min_samples_split': 62, 'pca__n_components': 50, 'tree__max_features': 0.90000000000000013, 'tree__max_depth': 10}\n"
     ]
    },
    {
     "data": {
      "text/html": [
       "<div>\n",
       "<table border=\"1\" class=\"dataframe\">\n",
       "  <thead>\n",
       "    <tr style=\"text-align: right;\">\n",
       "      <th></th>\n",
       "      <th>precision_score</th>\n",
       "      <th>accuracy_score</th>\n",
       "      <th>f1_score</th>\n",
       "      <th>recall_score</th>\n",
       "      <th>roc_auc_score</th>\n",
       "    </tr>\n",
       "  </thead>\n",
       "  <tbody>\n",
       "    <tr>\n",
       "      <th>Pipeline</th>\n",
       "      <td>0.932785</td>\n",
       "      <td>0.920667</td>\n",
       "      <td>0.91954</td>\n",
       "      <td>0.906667</td>\n",
       "      <td>0.920667</td>\n",
       "    </tr>\n",
       "  </tbody>\n",
       "</table>\n",
       "</div>"
      ],
      "text/plain": [
       "          precision_score  accuracy_score  f1_score  recall_score  \\\n",
       "Pipeline         0.932785        0.920667   0.91954      0.906667   \n",
       "\n",
       "          roc_auc_score  \n",
       "Pipeline       0.920667  "
      ]
     },
     "execution_count": 4,
     "metadata": {},
     "output_type": "execute_result"
    }
   ],
   "source": [
    "from helpers import add_prefix\n",
    "\n",
    "new_options = add_prefix(options, 'tree__')\n",
    "\n",
    "no_features = X.shape[1]\n",
    "\n",
    "new_options.update({\n",
    "    'pca__n_components' : range(20, no_features, 10)\n",
    "})\n",
    "\n",
    "\n",
    "search = RandomizedSearchCV(clf, new_options, verbose=1, **search_options)\n",
    "\n",
    "search.fit(X, target)\n",
    "\n",
    "print(\"Mejores parámetros: {}\".format(search.best_params_))\n",
    "\n",
    "get_scores(search.best_estimator_, transformer)"
   ]
  }
 ],
 "metadata": {
  "anaconda-cloud": {},
  "kernelspec": {
   "display_name": "Python 2",
   "language": "python",
   "name": "python2"
  },
  "language_info": {
   "codemirror_mode": {
    "name": "ipython",
    "version": 2
   },
   "file_extension": ".py",
   "mimetype": "text/x-python",
   "name": "python",
   "nbconvert_exporter": "python",
   "pygments_lexer": "ipython2",
   "version": "2.7.11"
  }
 },
 "nbformat": 4,
 "nbformat_minor": 1
}
