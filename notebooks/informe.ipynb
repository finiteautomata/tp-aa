{
 "cells": [
  {
   "cell_type": "markdown",
   "metadata": {},
   "source": [
    "#  Aprendizaje Automático\n",
    "\n",
    "# Trabajo Práctico 1 - Detección de Spam\n",
    "\n",
    "# Estudiantes: Juan Manuel Perez, Mariela Rajngewerc, Tomás Freilij\n",
    "\n",
    "\n",
    "\n"
   ]
  },
  {
   "cell_type": "markdown",
   "metadata": {},
   "source": [
    "#  Ayudas para nosotros\n",
    "\n",
    "# https://sourceforge.net/p/jupiter/wiki/markdown_syntax/#md_ex_text\n",
    "\n",
    "\n",
    " PREGUNTA: ¿Cómo debe ser el informe?\n",
    "\n",
    "RESPUESTA: Recomendamos armar el informe con las siguientes secciones:\n",
    "\n",
    "    Extracción de atributos: Describir en castellano los atributos extraidos de los mails, en forma concisa.\n",
    "    Modelos: Listar los algoritmos de aprendizaje elegidos para experimentar. Describir cualquier decisión que hayan tomado (p.ej., elección de hiperparámetros).\n",
    "    Reducción de dimensionalidad: Describir brevemente las técnicas empleadas.\n",
    "    Resultados: Describir los resultados conseguidos por los distintos modelos y conjuntos de atributos considerados. Preferentemente, resumir los resultados en tablas/figuras. Mencionar los tiempos de ejecución aproximados de cada técnica.\n",
    "    Discusión: Analizar los resultados, buscando responder cuestiones como, por ejemplo: ¿cuáles son los atributos encontrados con mayor poder predictivo?, ¿cuán sensibles fueron los algoritmos a las técnicas de reducción de dimensionalidad consideradas?, ¿resultó clara la elección del algoritmo para la competencia, o hubo que poner en la balanza distintos factores?\n",
    "\n",
    "La longitud sugerida del informe es de entre 3 y 5 páginas de texto (sin contar tablas o figuras). Además pueden incluirse tablas y figuras, pero siempre deben ser referenciadas y explicadas en el texto.\n",
    "\n",
    "Si se tomaron ideas de la literatura (papers, libros, blogs, wikipedia o lo que sea), citar claramente las fuentes (autor, título, tipo de publicación, año de publicación, URL si corresponde, etc.).\n",
    "\n",
    "No incluir código. Si es necesario describir un algoritmo, hacerlo en pseudocódigo"
   ]
  },
  {
   "cell_type": "code",
   "execution_count": 1,
   "metadata": {
    "collapsed": false
   },
   "outputs": [
    {
     "name": "stdout",
     "output_type": "stream",
     "text": [
      "Populating the interactive namespace from numpy and matplotlib\n"
     ]
    }
   ],
   "source": [
    "%pylab inline\n",
    "# Esto agrega al python path el directorio ..\n",
    "import sys\n",
    "sys.path.append(\"..\")\n",
    "import re\n",
    "import numpy as np\n",
    "import config\n",
    "import dateutil\n",
    "import random\n",
    "from transformers import transformer\n",
    "from data_builder import load_test_data, load_dev_data, load_small_dev_data\n",
    "\n",
    "\n",
    "df, target = load_small_dev_data()\n",
    "\n",
    "\n",
    "\"\"\"\n",
    "Todo esto está en los transformers, pero como me convierten todo a una matriz\n",
    "de numpy prefiero hacerlo acá a mano (ok, no es lo más lindo, pero es lo que hay)\n",
    "\"\"\"\n",
    "\n",
    "receivers = df.parsed_emails.apply(lambda p: p.get_all(\"To\") or p.get_all(\"to\") or [])\n",
    "senders = df.parsed_emails.apply(lambda p: p.get_all(\"From\") or p.get_all(\"from\") or [])\n",
    "\n",
    "def join_mails(t):\n",
    "    return \";\".join(t)\n",
    "\n",
    "def is_ascii(s):\n",
    "    try:\n",
    "        s.encode('ascii')\n",
    "        return True\n",
    "    except UnicodeDecodeError:\n",
    "        return False\n",
    "    \n",
    "def parse_date(parsed_mail):\n",
    "    try:\n",
    "        date = parsed_mail.get('Date') or parsed_mail.get('date')\n",
    "        return dateutil.parser.parse(date, fuzzy_with_tokens=True)[0]\n",
    "    except (ValueError, AttributeError):\n",
    "        return None\n",
    "\n",
    "\n",
    "df['from_text'] = senders.apply(join_mails)\n",
    "df['to_text'] = receivers.apply(join_mails)\n",
    "df['number_of_receivers'] = df['to_text'].apply(lambda t: len(re.findall(r'<.*>', t)))\n",
    "df['from_non_ascii'] = df.from_text.apply(lambda f: not is_ascii(f))\n",
    "\n",
    "dates = df.parsed_emails.apply(parse_date)\n",
    "\n",
    "df['hour'] = dates.apply(lambda t: t.hour if t else random.choice(range(24)))\n",
    "df['hour_between_7_and_20'] = df['hour'].apply(lambda h: h >= 7 and h <= 21)\n",
    "\n",
    "\n",
    "df['day_of_month'] = dates.apply(\n",
    "    lambda d: d.day if d else random.choice(range(29))\n",
    ")\n",
    "\n",
    "df['weekday'] = dates.apply(\n",
    "    lambda d: d.weekday() if d else random.choice(range(6))\n",
    ")\n",
    "\n",
    "df['is_weekend'] = df.weekday >= 5\n",
    "\n",
    "df['year'] = dates.apply(\n",
    "    lambda d: d.year if d else random.choice(range(1990, 2005))\n",
    ")\n",
    "\n",
    "spam = df[target].sample(30)\n",
    "ham = df[target == False].sample(30)"
   ]
  },
  {
   "cell_type": "markdown",
   "metadata": {},
   "source": []
  },
  {
   "cell_type": "markdown",
   "metadata": {},
   "source": [
    "# Resumen del trabajo"
   ]
  },
  {
   "cell_type": "markdown",
   "metadata": {},
   "source": [
    "El objetivo de este trabajo fue explorar la performance de distintos clasificadores en la tarea de detección de spam. Se procedió, sobre un corpus de mails etiquetados positiva o negativamente como spam, primeramente a elegir un conjunto de atributos. \n",
    "\n",
    "Para cada uno de los tipos de clasificadores explorados (`Decision Tree`, `Random Forest`, `KNN`, `Näive Bayes`, y `Support Vector Machine`) optimizamos sus parámetros para mejorar la performance sobre el dataset, a la vez que investigamos cómo afectaba a su rendimiento la utilización de `Principal Component Analysis`.\n"
   ]
  },
  {
   "cell_type": "markdown",
   "metadata": {},
   "source": [
    "# Métodos y Materiales\n",
    "\n",
    "## Dataset  \n",
    "\n",
    "El dataset constó de 90000 mails, equilibrados entre `spam` y `ham`. De este total de mails, separamos un 10% para test, y usamos el 90% restante como desarrollo.\n",
    "\n",
    "\n",
    "## Extracción de Atributos\n",
    "\n",
    "Los atributos principales que se extrajeron de los mails fueron:\n",
    "\n",
    "- Atributos generados por TF-IDF (poner referencia)\n",
    "- Atributos escogidos manualmente\n",
    "\n",
    "Los atributos extraídos mediante `TF-IDF` fueron realizados sobre el payload del mail y no sobre el texto completo. Para el parsing de los mails en texto plano utilizamos la librería estándar `email`[cita de Python mientras que para la generación de los atributos con `TF-IDF` utilizamos el vectorizador correspondiente de `sklearn`.\n",
    "\n",
    "Los atributos manuales que extrajimos fueron tanto del header como otros del payload, luego de un análisis observacional del dataset. Del encabezado del mensaje extrajimos:\n",
    "\n",
    "- El `content-type` del mail: si son texto, imágenes, html, etc o bien una mezcla de estos\n",
    "- La hora en la que fue enviado\n",
    "- ¿El mail fue enviado entre las 7 y las 20hs?\n",
    "- El día de la semana (Lunes a Domingo)\n",
    "- ¿Fue enviado el fin de semana?\n",
    "- El día del mes (1-31)\n",
    "- El año en el que fue enviado \n",
    "- La cantidad de receptores del mail\n",
    "- ¿El nombre del sender tiene algún caracter no ASCII?\n",
    "\n",
    "Los atributos temporales del mail fueron extraídos luego de analizar el dataset. Por ejemplo, podemos ver en las figuras siguientes que la distribución horaria del ham tiene casi el 77% concentrado en el rango de 7 a 20 hs, mientras que el spam se reparte uniformemente. También puede observarse como el 95% del ham se envía durante los días de semana, mientras que el spam también se reparte de igual manera en cada día.\n"
   ]
  },
  {
   "cell_type": "code",
   "execution_count": 79,
   "metadata": {
    "collapsed": false
   },
   "outputs": [
    {
     "name": "stdout",
     "output_type": "stream",
     "text": [
      "Frecuencia de Ham entre 5 y 20 hs = 0.77037037037\n"
     ]
    },
    {
     "data": {
      "image/png": "[encoded data removed]",
      "text/plain": [
       "<matplotlib.figure.Figure at 0x7f762cdf8b90>"
      ]
     },
     "metadata": {},
     "output_type": "display_data"
    }
   ],
   "source": [
    "ham = df[np.logical_not(target)]\n",
    "spam = df[target]\n",
    "\n",
    "fig, ax = subplots(2, 1, sharex=True)\n",
    "\n",
    "nbins = 8\n",
    "\n",
    "ax[0].hist(ham.hour, bins=nbins, range=[0, 23], color=\"blue\");\n",
    "ax[0].set_title(u\"Ham\");\n",
    "ax[1].hist(spam.hour, bins=nbins, range=[0, 23], color=\"red\");\n",
    "ax[1].set_title(u\"Spam\");\n",
    "\n",
    "xlabel(u\"Hora del día\");\n",
    "ylabel(u\"Cantidad de mails\");\n",
    "suptitle(u\"Distribución horaria de los mails\");\n",
    "\n",
    "\n",
    "ham_hours =  ham.hour.value_counts(normalize=True)\n",
    "\n",
    "ham_hours.sort_index(0, inplace=True)\n",
    "\n",
    "\n",
    "print \"Frecuencia de Ham entre 5 y 20 hs = %s\" % sum(ham_hours[7:20])"
   ]
  },
  {
   "cell_type": "code",
   "execution_count": 89,
   "metadata": {
    "collapsed": false
   },
   "outputs": [
    {
     "name": "stdout",
     "output_type": "stream",
     "text": [
      "Frecuencia de Ham en día de semana 0.94962962963\n"
     ]
    },
    {
     "data": {
      "image/png": "[encoded data removed]",
      "text/plain": [
       "<matplotlib.figure.Figure at 0x7f762d571f50>"
      ]
     },
     "metadata": {},
     "output_type": "display_data"
    }
   ],
   "source": [
    "fig, ax = subplots(2, 1, sharex=True)\n",
    "\n",
    "nbins = 7\n",
    "\n",
    "ax[0].hist(ham.weekday, bins=nbins, color=\"blue\");\n",
    "ax[0].set_title(u\"Ham\");\n",
    "ax[1].hist(spam.weekday, bins=nbins, color=\"red\");\n",
    "ax[1].set_title(u\"Spam\");\n",
    "\n",
    "xlabel(u\"Día de la semana\");\n",
    "ylabel(u\"Cantidad de mails\");\n",
    "suptitle(u\"Distribución por día de semana de los mails\");\n",
    "\n",
    "\n",
    "ham_weekdays =  ham.weekday.value_counts(normalize=True)\n",
    "\n",
    "ham_weekdays.sort_index(0, inplace=True)\n",
    "\n",
    "print \"Frecuencia de Ham en día de semana %s\" % sum(ham_weekdays[0:5])"
   ]
  },
  {
   "cell_type": "markdown",
   "metadata": {},
   "source": [
    "## Clasificadores Utilizados\n",
    "\n",
    "Los tipos de clasificadores explorados en este trabajo fueron los siguientes:\n",
    "\n",
    "- Decision Tree\n",
    "- Random Forest\n",
    "- KNN \n",
    "- Naive Bayes\n",
    "- Support Vector Machines\n",
    "\n",
    "Veamos brevemente los hiperparámetros de cada uno de estos modelos.\n",
    "\n",
    "### Decision Trees\n",
    "\n",
    "La implementación de árboles de decisión en `sklearn` implementa [CART](http://scikit-learn.org/stable/modules/tree.html#tree-algorithms-id3-c4-5-c5-0-and-cart). Los hiperparámetros que elegimos optimizar fueron:\n",
    "\n",
    "- min_samples_split\n",
    "- splitter\n",
    "- criterion\n",
    "- max_depth\n",
    "- max_features\n",
    "\n",
    "### Random Forest\n",
    "\n",
    "### KNN (Okus)\n",
    "\n",
    "### SVM (Okus)\n",
    "\n",
    "### Naive Bayes (Okus)\n",
    "\n",
    "\n",
    "### Optimización de hiperparámetros\n",
    "\n",
    "- ROC AUC\n",
    "- Cross validation (10 vs SVM 3)\n",
    "- Usamos Randomized (vs Grid)\n",
    "- PCA (JM)\n",
    "\n",
    "\n",
    "# Resultados y Discusión\n",
    "\n",
    "- TABLAS\n",
    "- Cómo se comportaron con PCA\n",
    "- \n",
    "\n",
    "# Conclusiones\n",
    "\n"
   ]
  },
  {
   "cell_type": "code",
   "execution_count": null,
   "metadata": {
    "collapsed": true
   },
   "outputs": [],
   "source": []
  },
  {
   "cell_type": "markdown",
   "metadata": {},
   "source": [
    "# Decision Trees"
   ]
  },
  {
   "cell_type": "markdown",
   "metadata": {},
   "source": [
    "# Los hiperparámetros que nos parecieron interesantes, provistos por la librería fueron.\n",
    "\n",
    "** Criterio de partición ('criterion')** \n",
    "\n",
    "Establece la función que mide la calidad de una partición de los nodos del árbol. \n",
    "Existen dos provistos por la librería, \"Gini\" y \"Entropía\". El último responde al Information Gain visto en la materia.\n",
    "\n",
    "**Profundidad máxima ('max_depth')**\n",
    "\n",
    "Permite hacer una poda sobre el árbol. \n",
    "\n",
    "**Splitter**\n",
    "\n",
    "Tiene dos opciones, best y random. Establece si se utiliza el mejor criterio de partición o usa un mecanismo aleatorio para buscarlo. Como ya dijimos antes, la calidad de la partición estará dada por el hiperparámetro 'criterion'\n",
    "\n",
    "**Subconjunto de valores de un atributo('max_features')**\n",
    "\n",
    "Establece el máximo de valores de un atributo que se tiene en cuenta. Visto más gráficamente, establece el ancho del árbol.\n",
    "Se puede establecer un número fijo, o un porcentaje, entre otras posibilidades.\n",
    "\n",
    "**Criterio de corte para un nodo('min_samples_split')**\n",
    "\n",
    "La mínima cantidad de muestras necesarias para que se justifique la partición en un nodo. \n",
    "\n",
    "\n",
    "** La mejor combinación de hiperparámetros fue **\n",
    "\n",
    "'min_samples_split' = 82 \n",
    "\n",
    "'splitter' = 'best' \n",
    "\n",
    "'criterion' = 'entropy' \n",
    "\n",
    "'max_depth'= 18 \n",
    "\n",
    "'max_features' = 0.90000000000000013\n",
    "\n",
    "El valor fue 0.987803482259 con el scoring roc_auc.\n",
    "\n",
    " \n",
    "# VER QUE ONDA CON EL ROC AUC SCORE QUE VARIA CON EL ANTERIOR MOSTRADO \n",
    "\n",
    "\n",
    "| precision_score | accuracy_score   |    f1_score \t| recall_score |\troc_auc_score |\n",
    "|-----------------|------------------|--------------|--------------|------------------|\n",
    "| 0.956531        | 0.957444         |    0.957487 \t|  0.958444    |     0.957444     |\n",
    "\n",
    "\n",
    "\n",
    " \t   \t\n",
    "\n",
    " \t             \t    \n"
   ]
  },
  {
   "cell_type": "markdown",
   "metadata": {},
   "source": [
    "# Naive Bayes\n",
    "   "
   ]
  },
  {
   "cell_type": "markdown",
   "metadata": {},
   "source": [
    "Dada la naturaleza del clasificador, hay que tener también en cuenta la distribución de las muestras. En ese sentido, la librería provee tres clasificadores de Naive Bayes, usando una distribución Gaussiana, una de Bernoulli y una Multinomial.\n",
    "\n",
    "Las primeras pruebas arrojaron resultados nulos con la multinomial y la de bernoulli. Cuando hablamos de resultados nulos nos referimos a que, con pruebas varias que hacíamos, la clasificación era completamente errada.\n",
    "\n",
    "Dado que la Gaussiana no arrojaba ese tipo de resultado, decidimos trabajar con esa propuesta.\n",
    "\n",
    "Ahora bien, cuando graficábamos la distribución de algunos atributos en los mails veíamos que se parecía más a una Exponencial que a una Gaussiana. Además, los gráficos perdían proporcionalidad y no se podían entender. Al intentar aplicarle logaritmo a los datos para darle otra escala vimos que tomaban una forma de campa de gauss.\n",
    "\n",
    "Como además aplicar el logaritmo preserva las desigualdades, nos parecía razonable usar esta conversión previa para trabajar con el clasificador.\n",
    "\n",
    "Este clasificador no tiene parámetros así que no tuvimos que hacer pruebas variadas en relación a modificación de hiperparámetros.\n",
    "\n",
    "Los resultados obtenidos sin previa normalización usando logaritmo fueron:\n",
    "\n",
    " |\tprecision_score  | accuracy_score  |\tf1_score  |\trecall_score  |\troc_auc_score | \n",
    " |-------------------|-----------------|--------------|---------------|---------------|  \n",
    " |\t0.504766 \t     |0.509222 \t       |    0.665556  |\t0.976667 \t  | 0.509222      |  \n",
    " \n",
    " Con normalización fueron:\n",
    " \n",
    "| precision_score |\taccuracy_score | f1_score |\trecall_score | roc_auc_score |\n",
    "|-----------------|----------------|----------|--------------|---------------|\n",
    "| 1.0 \t          | 0.500778 \t   | 0.003106 |\t0.001556 \t |  0.500778     |            \n",
    " "
   ]
  },
  {
   "cell_type": "markdown",
   "metadata": {},
   "source": [
    "# AGREGAR LO DE BERNOULLI QUE APARECIÓ DESPUÉS"
   ]
  },
  {
   "cell_type": "markdown",
   "metadata": {},
   "source": [
    "# KNN"
   ]
  },
  {
   "cell_type": "markdown",
   "metadata": {},
   "source": [
    "# SVM"
   ]
  },
  {
   "cell_type": "markdown",
   "metadata": {},
   "source": [
    "# RANDOM FOREST"
   ]
  },
  {
   "cell_type": "code",
   "execution_count": null,
   "metadata": {
    "collapsed": true
   },
   "outputs": [],
   "source": []
  }
 ],
 "metadata": {
  "anaconda-cloud": {},
  "kernelspec": {
   "display_name": "Python 2",
   "language": "python",
   "name": "python2"
  },
  "language_info": {
   "codemirror_mode": {
    "name": "ipython",
    "version": 2
   },
   "file_extension": ".py",
   "mimetype": "text/x-python",
   "name": "python",
   "nbconvert_exporter": "python",
   "pygments_lexer": "ipython2",
   "version": "2.7.12"
  }
 },
 "nbformat": 4,
 "nbformat_minor": 0
}
