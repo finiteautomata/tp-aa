{
 "cells": [
  {
   "cell_type": "code",
   "execution_count": 16,
   "metadata": {
    "collapsed": false
   },
   "outputs": [
    {
     "name": "stdout",
     "output_type": "stream",
     "text": [
      "  (0, 4055647)\t2\n",
      "  (0, 3332474)\t1\n",
      "  (0, 119066)\t1\n",
      "  (0, 106544)\t1\n",
      "  (0, 3517670)\t1\n",
      "  (0, 2682842)\t1\n",
      "  (0, 2332133)\t1\n",
      "  (0, 4110465)\t1\n",
      "  (0, 234105)\t1\n",
      "  (0, 3616855)\t1\n",
      "  (0, 212781)\t1\n",
      "  (0, 121612)\t1\n",
      "  (0, 224241)\t1\n",
      "  (0, 0)\t1\n",
      "  (0, 14738)\t1\n",
      "  (0, 4572279)\t1\n",
      "  (0, 2859928)\t3\n",
      "  (0, 5740224)\t5\n",
      "  (0, 5402382)\t5\n",
      "  (0, 2170048)\t3\n",
      "  (0, 5248062)\t1\n",
      "  (0, 4982907)\t1\n",
      "  (0, 2648298)\t1\n",
      "  (0, 1751957)\t3\n",
      "  (0, 2123980)\t2\n",
      "  :\t:\n",
      "  (44999, 5203721)\t1\n",
      "  (44999, 116947)\t1\n",
      "  (44999, 226710)\t1\n",
      "  (44999, 1954123)\t8\n",
      "  (44999, 222813)\t2\n",
      "  (44999, 234620)\t2\n",
      "  (44999, 3922828)\t1\n",
      "  (44999, 2167232)\t1\n",
      "  (44999, 1772352)\t1\n",
      "  (44999, 5203722)\t2\n",
      "  (44999, 2635624)\t12\n",
      "  (44999, 242174)\t2\n",
      "  (44999, 4132969)\t1\n",
      "  (44999, 4131365)\t2\n",
      "  (44999, 4133091)\t3\n",
      "  (44999, 2167233)\t2\n",
      "  (44999, 2563281)\t2\n",
      "  (44999, 2663610)\t1\n",
      "  (44999, 2114670)\t1\n",
      "  (44999, 2240969)\t2\n",
      "  (44999, 5303569)\t1\n",
      "  (44999, 2915948)\t1\n",
      "  (44999, 2915947)\t1\n",
      "  (44999, 2846952)\t1\n",
      "  (44999, 2135590)\t1\n"
     ]
    }
   ],
   "source": [
    "from sklearn.feature_extraction.text import CountVectorizer\n",
    "import json\n",
    "import numpy as np\n",
    "import pandas as pd\n",
    "\n",
    "# Leo los mails (poner los paths correctos).\n",
    "ham_txt= json.load(open('../data/ham_dev.json'))\n",
    "#spam_txt= json.load(open('../data/spam_dev.json'))\n",
    "\n",
    "\n",
    "count_vect = CountVectorizer()\n",
    "\n",
    "ham_counts = count_vect.fit_transform(ham_txt)\n",
    "\n",
    "print ham_counts\n"
   ]
  },
  {
   "cell_type": "code",
   "execution_count": 17,
   "metadata": {
    "collapsed": false
   },
   "outputs": [
    {
     "data": {
      "text/plain": [
       "scipy.sparse.csr.csr_matrix"
      ]
     },
     "execution_count": 17,
     "metadata": {},
     "output_type": "execute_result"
    }
   ],
   "source": [
    "type(ham_counts)"
   ]
  },
  {
   "cell_type": "code",
   "execution_count": null,
   "metadata": {
    "collapsed": true
   },
   "outputs": [],
   "source": []
  }
 ],
 "metadata": {
  "anaconda-cloud": {},
  "kernelspec": {
   "display_name": "Python [Root]",
   "language": "python",
   "name": "Python [Root]"
  },
  "language_info": {
   "codemirror_mode": {
    "name": "ipython",
    "version": 2
   },
   "file_extension": ".py",
   "mimetype": "text/x-python",
   "name": "python",
   "nbconvert_exporter": "python",
   "pygments_lexer": "ipython2",
   "version": "2.7.12"
  }
 },
 "nbformat": 4,
 "nbformat_minor": 0
}
