{
 "cells": [
  {
   "cell_type": "code",
   "execution_count": 1,
   "metadata": {
    "collapsed": false
   },
   "outputs": [
    {
     "name": "stdout",
     "output_type": "stream",
     "text": [
      "Creando dataframe...\n",
      "Listo\n"
     ]
    }
   ],
   "source": [
    "# Esto agrega al python path el directorio ..\n",
    "import sys\n",
    "sys.path.append(\"..\")\n",
    "\n",
    "import numpy as np\n",
    "import config\n",
    "\n",
    "\n",
    "from dataframe_builder import DataFrameBuilder\n",
    "# Ignorar Warning de sklearn (no es importante)\n",
    "import warnings\n",
    "warnings.filterwarnings('ignore',\n",
    "                        message='Changing the shape of non-C contiguous array')\n",
    "\n",
    "\n",
    "print \"Creando dataframe...\"\n",
    "\n",
    "\n",
    "builder = DataFrameBuilder()\n",
    "df = builder.build()\n",
    "\n",
    "print \"Listo\""
   ]
  },
  {
   "cell_type": "markdown",
   "metadata": {
    "collapsed": false
   },
   "source": [
    "\n",
    "Conjunto a probar\n",
    "\n",
    "1)C in range [0:20] Dice el manual:Por default es uno. If you have a lot of noisy observations you should decrease it. It corresponds to regularize more the estimation.\n",
    "\n",
    "2)Kernels {'rbf ' ,' linear' ,' poly' ,'sigmoid'}  \n",
    "\n",
    "3) para poly podemos hacer un range de degrees, esa opcion va a ser ignorada por los otros kernels asi que podemos hacer degree in range[2:5]. Podemos elegis=r ademas si agregamos un coef0, o sea el termino independiente, no veo por que seria importnte por ahora eso.\n",
    "\n",
    "4)(REVISAR)Por default hay un parametro epsilon=0.1. Epsilon indica un rango de distancia que no sera considerado como penalidad, si el vector esta a espilon--ver\n",
    "\n",
    "decision_function(X)[source]\n",
    "Distance of the samples X to the separating hyperplane.\n",
    "Parameters:\t\n",
    "X : array-like, shape (n_samples, n_features)\n",
    "returns:\t\n",
    "X : array-like, shape (n_samples, n_classes * (n_classes-1) / 2)\n",
    "Returns the decision function of the sample for each class in the model. If decision_function_shape=’ovr’, the shape is (n_samples, n_classes)\n",
    "\n",
    "-Cuando fiteamos este modelo podemos elegir un sample weight, pero no creo que lo necesitemos ya que estan balanceados.\n",
    "\n"
   ]
  },
  {
   "cell_type": "code",
   "execution_count": 2,
   "metadata": {
    "collapsed": false
   },
   "outputs": [],
   "source": [
    "from sklearn.svm import SVC\n",
    "from sklearn.metrics.pairwise import chi2_kernel\n",
    "from sklearn.metrics.pairwise import laplacian_kernel\n",
    "\n",
    "\n",
    "options={\n",
    "    'kernel' :['rbf ',' linear', 'poly', 'sigmoid'], # poly tarda mucho, por ahi seria mejor hacerlo aparte\n",
    "    'C' : range(1,10),\n",
    "    'degree' : range(0,4),\n",
    "    'gamma' : np.arange(0,1,0.1)\n",
    "}\n",
    "\n",
    "options_2={\n",
    "    'kernel' :[chi2_kernel, laplacian_kernel],\n",
    "    'C' : range(1,10),\n",
    "    'gamma' : np.arange(0,1,0.1)\n",
    "}"
   ]
  },
  {
   "cell_type": "markdown",
   "metadata": {},
   "source": [
    "Pendiente: buscar un kernel adecuado, mas alla de las opciones que da sklearn. Recordar para el informe poner la cantidad de vectores de soporte, esos son los vectores sobre los cuales esta basado el hiperplano. Se puede obtener con los atributos.\n",
    "\n",
    "En el manual de sklearn dice: Proper choice of C and gamma is critical to the SVM’s performance. One is advised to use sklearn.grid_search.GridSearchCV with C and gamma spaced exponentially far apart to choose good values.\n",
    "\n",
    "\n",
    "Attributes:\t\n",
    "n_support_ : array-like, dtype=int32, shape = [n_class]\n",
    "Number of support vectors for each class.\n"
   ]
  },
  {
   "cell_type": "code",
   "execution_count": null,
   "metadata": {
    "collapsed": false
   },
   "outputs": [
    {
     "name": "stdout",
     "output_type": "stream",
     "text": [
      "     len  spaces  has_html  has_original_message  has_multipart  has_dear  \\\n",
      "0  21272    1195         1                     0              1         0   \n",
      "1   1385      48         1                     0              0         0   \n",
      "2   2282     158         1                     0              0         0   \n",
      "3   2734     268         1                     0              1         0   \n",
      "4   1024     112         1                     0              0         0   \n",
      "5   2695     175         1                     0              0         0   \n",
      "6   1732     115         1                     0              0         0   \n",
      "7   3013     485         0                     0              1         1   \n",
      "8   6123     141         1                     0              1         0   \n",
      "9   4794     447         1                     0              0         0   \n",
      "\n",
      "   has_Friend  has_hello  has_$  has_earn      ...        has_bill  \\\n",
      "0           0          0     13         0      ...               0   \n",
      "1           0          0      0         0      ...               0   \n",
      "2           0          0      0         0      ...               0   \n",
      "3           0          0      0         0      ...               0   \n",
      "4           0          0      2         0      ...               0   \n",
      "5           0          0      4         0      ...               0   \n",
      "6           0          0      0         0      ...               0   \n",
      "7           0          0      1         0      ...               0   \n",
      "8           0          0      2         0      ...               0   \n",
      "9           0          0      0         0      ...               0   \n",
      "\n",
      "   has_it's time  has_sale  has_hi  has_-->  has_weight  has_lose  \\\n",
      "0              0         5       1        0           2         0   \n",
      "1              0         0       0        0           0         0   \n",
      "2              0         2       4        0           0         0   \n",
      "3              0         0       5        0           0         0   \n",
      "4              0         0       1        0           0         0   \n",
      "5              0         0       9        0           0         0   \n",
      "6              0         0       7        1           0         0   \n",
      "7              0         0      12        0           0         2   \n",
      "8              0         0      10        0           0         0   \n",
      "9              0         0       5        0           0         0   \n",
      "\n",
      "   has_administrator  has_order  has_clearance  \n",
      "0                  0         49              0  \n",
      "1                  0          4              0  \n",
      "2                  0          0              0  \n",
      "3                  0          0              0  \n",
      "4                  0          1              0  \n",
      "5                  0          0              0  \n",
      "6                  0          0              0  \n",
      "7                  0          0              0  \n",
      "8                  0          1              0  \n",
      "9                  0          6              0  \n",
      "\n",
      "[10 rows x 55 columns] 0    True\n",
      "1    True\n",
      "2    True\n",
      "3    True\n",
      "4    True\n",
      "5    True\n",
      "6    True\n",
      "7    True\n",
      "8    True\n",
      "9    True\n",
      "Name: class, dtype: bool\n"
     ]
    }
   ],
   "source": [
    "from sklearn.grid_search import RandomizedSearchCV, GridSearchCV\n",
    "# Preparo data para clasificar\n",
    "X = df.design_matrix\n",
    "y = df.outcomes\n",
    "\n",
    "print X[:10], y[:10]"
   ]
  },
  {
   "cell_type": "code",
   "execution_count": null,
   "metadata": {
    "collapsed": false
   },
   "outputs": [
    {
     "name": "stdout",
     "output_type": "stream",
     "text": [
      "================================================================================\n",
      "\n",
      "Scoring precision\n"
     ]
    }
   ],
   "source": [
    "from sklearn.grid_search import RandomizedSearchCV, GridSearchCV\n",
    "# Preparo data para clasificar\n",
    "X = df.design_matrix\n",
    "y = df.outcomes\n",
    "\n",
    "scoring_methods = ['precision', 'accuracy', 'f1', 'recall', 'roc_auc']\n",
    "\n",
    "for scoring in scoring_methods:\n",
    "    clf = SVC()\n",
    "\n",
    "    print(\"=\" * 80 + \"\\n\")\n",
    "    print(\"Scoring {}\".format(scoring))\n",
    "\n",
    "    #search = GridSearchCV(clf, scoring=scoring, param_grid=options, n_jobs=4)\n",
    "    search = RandomizedSearchCV(clf, scoring=\"f1\", param_distributions=options, cv=10, n_jobs=4, n_iter=2)\n",
    "        \n",
    "    search.fit(X, y)\n",
    "    \n",
    "    print \"Mejor combinación: {}\".format(search.best_params_)\n",
    "    print \"Mejor valor: {}\\n\\n\".format(search.best_score_)\n",
    "\n",
    "    \"\"\"\n",
    "    Esto puede no tener mucho sentido. Estamos corriendo nuevamente cross_val_score... \n",
    "    \"\"\"\n",
    "    for other_scorer in scoring_methods:\n",
    "        print \"Valor para {} = {}\".format(\n",
    "            other_scorer,\n",
    "            cross_val_score(search.best_estimator_, X, y, scoring=other_scorer, cv=10).mean()\n",
    "        )\n",
    "        \n",
    "    "
   ]
  },
  {
   "cell_type": "code",
   "execution_count": null,
   "metadata": {
    "collapsed": true
   },
   "outputs": [],
   "source": []
  }
 ],
 "metadata": {
  "anaconda-cloud": {},
  "kernelspec": {
   "display_name": "Python [Root]",
   "language": "python",
   "name": "Python [Root]"
  },
  "language_info": {
   "codemirror_mode": {
    "name": "ipython",
    "version": 2
   },
   "file_extension": ".py",
   "mimetype": "text/x-python",
   "name": "python",
   "nbconvert_exporter": "python",
   "pygments_lexer": "ipython2",
   "version": "2.7.12"
  }
 },
 "nbformat": 4,
 "nbformat_minor": 1
}
