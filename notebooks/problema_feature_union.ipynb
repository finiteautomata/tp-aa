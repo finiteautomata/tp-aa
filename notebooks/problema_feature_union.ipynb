{
 "cells": [
  {
   "cell_type": "markdown",
   "metadata": {},
   "source": [
    "\n",
    "# Problema feature union\n",
    "\n",
    "Tengo un problema con el feature union. Si no pongo el reshape que menciono abajo, me dice que tiene dimensiones incompatibles \n",
    "\n",
    "La solución que encontré fue hacer un `reshape(-1, 1)` al array que devuelvo en el transformer, si no tira dimensiones incompatibles."
   ]
  },
  {
   "cell_type": "code",
   "execution_count": 27,
   "metadata": {
    "collapsed": false
   },
   "outputs": [
    {
     "name": "stdout",
     "output_type": "stream",
     "text": [
      "(4049, 2)\n",
      "(4049, 1)\n"
     ]
    },
    {
     "data": {
      "text/plain": [
       "<4049x101 sparse matrix of type '<type 'numpy.float64'>'\n",
       "\twith 100555 stored elements in Compressed Sparse Row format>"
      ]
     },
     "execution_count": 27,
     "metadata": {},
     "output_type": "execute_result"
    }
   ],
   "source": [
    "import sys\n",
    "sys.path.append(\"..\")\n",
    "\n",
    "\n",
    "from sklearn.base import BaseEstimator, TransformerMixin\n",
    "from sklearn.pipeline import FeatureUnion\n",
    "from data_builder import load_test_data, load_dev_data, load_small_dev_data\n",
    "from IPython.core.debugger import Tracer\n",
    "\n",
    "class BaseTransformer(BaseEstimator, TransformerMixin):\n",
    "    \"\"\"Clase base para todos nuestros transformers.\"\"\"\n",
    "\n",
    "    def fit(self, x, y=None):\n",
    "        u\"\"\"Este método no hace nada, pero debe estar.\"\"\"\n",
    "        return self\n",
    "\n",
    "\n",
    "\n",
    "class LenTransformer(BaseTransformer):\n",
    "    \"\"\"Clase que agrega len al dataframe.\"\"\"\n",
    "\n",
    "    def transform(self, data):\n",
    "        u\"\"\"Aplica la transformación.\"\"\"\n",
    "        ret = np.array(data.apply(len)).reshape(-1, 1)\n",
    "        print ret.shape\n",
    "        return ret\n",
    "\n",
    "\n",
    "my_extr = FeatureUnion([\n",
    "    ('len', LenTransformer()),\n",
    "    ('tfidf', TfidfVectorizer(max_features=100))\n",
    "])\n",
    "\n",
    "print df.shape\n",
    "\n",
    "df, target = load_small_dev_data()\n",
    "\n",
    "my_extr.fit_transform(df.payload)"
   ]
  }
 ],
 "metadata": {
  "kernelspec": {
   "display_name": "Python 2",
   "language": "python",
   "name": "python2"
  },
  "language_info": {
   "codemirror_mode": {
    "name": "ipython",
    "version": 2
   },
   "file_extension": ".py",
   "mimetype": "text/x-python",
   "name": "python",
   "nbconvert_exporter": "python",
   "pygments_lexer": "ipython2",
   "version": "2.7.11"
  }
 },
 "nbformat": 4,
 "nbformat_minor": 1
}
