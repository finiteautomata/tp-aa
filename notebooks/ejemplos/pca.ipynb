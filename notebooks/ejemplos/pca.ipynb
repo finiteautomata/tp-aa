{
 "cells": [
  {
   "cell_type": "code",
   "execution_count": 2,
   "metadata": {
    "collapsed": false
   },
   "outputs": [
    {
     "name": "stdout",
     "output_type": "stream",
     "text": [
      "RandomizedPCA(copy=True, iterated_power=3, n_components=2, random_state=None,\n",
      "       whiten=False)\n",
      "[ 0.99244291  0.00755711]\n"
     ]
    }
   ],
   "source": [
    "\n",
    "# coding: utf-8\n",
    "\n",
    "# In[2]:\n",
    "\n",
    "import numpy as np\n",
    "from sklearn.decomposition import RandomizedPCA\n",
    "X = np.array([[-1, -1], [-2, -1], [-3, -2], [1, 1], [2, 1], [3, 2]])\n",
    "pca = RandomizedPCA(n_components=2)\n",
    "a= pca.fit(X)                 \n",
    "print a\n",
    "\n",
    "print(pca.explained_variance_ratio_) \n",
    "\n",
    "\n",
    "# In[3]:\n",
    "\n",
    "#!/usr/bin/python\n",
    "\n",
    "import numpy as np\n",
    "from matplotlib import pyplot\n",
    "from sklearn.decomposition import PCA\n",
    "\n",
    "np.random.seed(10)\n",
    "\n",
    "# Genero n puntos (x,y) a distancia e de la recta y=m*x+b,\n",
    "# donde e=rand[0,1]*d.\n",
    "def genDatos(n, b, m, d):\n",
    "  tmp = []\n",
    "  alfa = np.arctan(m)\n",
    "  for x in range(n):\n",
    "    y = m * x + b\n",
    "    e = np.random.uniform(0.0, 1.0) * d\n",
    "    x -= e * np.sin(alfa)\n",
    "    y += e * np.cos(alfa)\n",
    "    tmp.append([x,y])\n",
    "  return np.array(tmp)\n",
    "\n",
    "# Genero dos muestras de puntos y las ploteo.\n",
    "rojo = genDatos(100, 0, 1, 10)\n",
    "azul = genDatos(100, 0, 1, -10)\n",
    "pyplot.plot(rojo[:,0], rojo[:,1], 'ro')\n",
    "pyplot.plot(azul[:,0], azul[:,1], 'bs')\n",
    "pyplot.show()\n",
    "\n",
    "# Computo PCA sobre todos los puntos.\n",
    "# http://scikit-learn.org/stable/modules/generated/sklearn.decomposition.PCA.html\n",
    "todos = np.concatenate((rojo, azul))\n",
    "pca = PCA(n_components=2)\n",
    "pca.fit(todos)\n",
    "\n",
    "# Transformo las muestras originales al nuevo sistema de coordenadas,\n",
    "# y las ploteo.\n",
    "rojo_transf = pca.transform(rojo)\n",
    "azul_transf = pca.transform(azul)\n",
    "pyplot.plot(rojo_transf[:,0], rojo_transf[:,1], 'ro')\n",
    "pyplot.plot(azul_transf[:,0], azul_transf[:,1], 'bs')\n",
    "pyplot.show()\n",
    "\n",
    "\n",
    "\n",
    "# ### Aplico Decision Tree a los datos sin PCA\n",
    "# \n",
    "\n",
    "# In[127]:\n",
    "\n",
    "#len(todos)\n",
    "#type(todos[1])\n",
    "#a=todos[1].tolist()\n",
    "#a.extend([1])\n",
    "#print len(rojo)\n",
    "\n",
    "#rojos_1=[]\n",
    "#for i in range(0,100):\n",
    "#    a=rojo[i].tolist()\n",
    "#    a.extend([1])\n",
    "#    rojos_1.append(a)\n",
    "\n",
    "\n",
    "#azules_0=[]\n",
    "#for i in range(0,100):\n",
    "#    a=azul[i].tolist()\n",
    "#    a.extend([1])\n",
    "#    azules_0.append(a)\n",
    "    \n"
   ]
  },
  {
   "cell_type": "code",
   "execution_count": 3,
   "metadata": {
    "collapsed": false
   },
   "outputs": [
    {
     "name": "stdout",
     "output_type": "stream",
     "text": [
      "0.515151515152 [ 0.5         0.53030303  0.51515152]\n",
      "0.985145573381 [ 0.97058824  1.          0.98484848]\n"
     ]
    }
   ],
   "source": [
    "\n",
    "\n",
    "# In[122]:\n",
    "\n",
    "from sklearn import tree\n",
    "clf = tree.DecisionTreeClassifier()\n",
    "y=np.ones(100).tolist() + np.zeros(100).tolist()\n",
    "clf = clf.fit(todos, y)\n",
    "\n",
    "\n",
    "# In[123]:\n",
    "\n",
    "from sklearn import cross_validation\n",
    "\n",
    "scores = cross_validation.cross_val_score(clf, todos, y)\n",
    "print scores.mean(), scores\n",
    "\n",
    "\n",
    "# ### Aplico Decision Tree a los datos con PCA\n",
    "\n",
    "# In[124]:\n",
    "\n",
    "from sklearn.decomposition import PCA\n",
    "pca = PCA()\n",
    "pca.fit(todos)\n",
    "\n",
    "rojo_transf = pca.transform(rojo)\n",
    "azul_transf = pca.transform(azul)\n",
    "\n",
    "\n",
    "# In[126]:\n",
    "\n",
    "clf_pca = tree.DecisionTreeClassifier()\n",
    "y=np.ones(100).tolist() + np.zeros(100).tolist()\n",
    "todos_trans = np.concatenate((rojo_transf, azul_transf))\n",
    "clf_pca = clf_pca.fit(todos_trans, y)\n",
    "\n",
    "scores_pca = cross_validation.cross_val_score(clf_pca, todos_trans, y)\n",
    "print scores_pca.mean(),scores_pca\n",
    "\n",
    "\n",
    "# In[ ]:\n",
    "\n",
    "\n",
    "\n"
   ]
  },
  {
   "cell_type": "code",
   "execution_count": null,
   "metadata": {
    "collapsed": true
   },
   "outputs": [],
   "source": []
  }
 ],
 "metadata": {
  "kernelspec": {
   "display_name": "Python 2",
   "language": "python",
   "name": "python2"
  },
  "language_info": {
   "codemirror_mode": {
    "name": "ipython",
    "version": 2
   },
   "file_extension": ".py",
   "mimetype": "text/x-python",
   "name": "python",
   "nbconvert_exporter": "python",
   "pygments_lexer": "ipython2",
   "version": "2.7.11"
  }
 },
 "nbformat": 4,
 "nbformat_minor": 0
}
