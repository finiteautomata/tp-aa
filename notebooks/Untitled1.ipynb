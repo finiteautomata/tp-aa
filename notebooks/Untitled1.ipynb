{
 "cells": [
  {
   "cell_type": "markdown",
   "metadata": {},
   "source": [
    "## Informe TP"
   ]
  },
  {
   "cell_type": "markdown",
   "metadata": {},
   "source": [
    "### Extraccion de atributos"
   ]
  },
  {
   "cell_type": "markdown",
   "metadata": {},
   "source": [
    "La extraccion de atributos la hicimos de la siguientes formas\n",
    "1. Caracteristicas del mail\n",
    "Consideramos longitud y cantidad de espacios. HTML y Original message.\n",
    "2. Palabras\n",
    "Consideramos algunas palabras relacionas a los campos lexicos de: saludos, inversiones, promociones y sexo.\n",
    "3.\n",
    "En los casos 1 y 2, a cada atributo le asignamos la fecuencia."
   ]
  },
  {
   "cell_type": "markdown",
   "metadata": {},
   "source": [
    "### Modelos"
   ]
  },
  {
   "cell_type": "markdown",
   "metadata": {},
   "source": [
    "Los modelos seleccionados para experimentar fueron: arboles de decision, random forest, SVM, knn y naive Bayes.\n",
    "\n",
    "1. Arboles de decision:\n",
    "Realizamos distintos experimentos modificando la profundidad de los arboles, los criterios para elegir atributos en cada nodo, qué porcentaje de variables tomo al momento de partir un nodo y la cantidad minima de elementos que tengo que tener en un nodo para  decidir partilo. Aplicamos GridSearch y conseguimos como mejor combinacion:\n",
    "2. Random forest:\n",
    "En este caso consideramos distintas cantidades de arboles, los criterios para elegir atributos en cada nodo, qué porcentaje de variables tomo al momento de partir un nodo y la cantidad minima de elementos que tengo que tener en un nodo para  decidir partilo:\n",
    "\n"
   ]
  },
  {
   "cell_type": "markdown",
   "metadata": {},
   "source": [
    "options = {\n",
    "    'n_estimators': range(10, 100, 5),\n",
    "    'criterion': ['gini', 'entropy'],\n",
    "    'max_depth': range(2, 52, 8),\n",
    "    'max_features': np.arange(0.1, 1.0, 0.2),\n",
    "    'min_samples_split': range(2, 102, 10),\n",
    "}\n"
   ]
  },
  {
   "cell_type": "markdown",
   "metadata": {},
   "source": [
    "\n",
    "Aplicamos GridSearch y obtuvimos como mejor combinacion (medida= area bajo la curva roc) :\n",
    "3. Naive Bayes:\n",
    "Consideramos distintas distribuciones de los datos: Gausianos, Multinomiales y Bernoulli.\n",
    "Obtuvimos la mejor performance con el calisificador:\n",
    "4. KNN:\n",
    "Experimentamos considerando distintos valores para la cantidad de vecinos mas cercanos, \n",
    "\n",
    "5. SVM\n",
    "\n",
    "\n"
   ]
  },
  {
   "cell_type": "code",
   "execution_count": 2,
   "metadata": {
    "collapsed": false
   },
   "outputs": [
    {
     "ename": "SyntaxError",
     "evalue": "invalid syntax (<ipython-input-2-730c9c48b2b8>, line 2)",
     "output_type": "error",
     "traceback": [
      "\u001b[1;36m  File \u001b[1;32m\"<ipython-input-2-730c9c48b2b8>\"\u001b[1;36m, line \u001b[1;32m2\u001b[0m\n\u001b[1;33m    Reducción de dimensionalidad: Describir brevemente las técnicas empleadas.\u001b[0m\n\u001b[1;37m           ^\u001b[0m\n\u001b[1;31mSyntaxError\u001b[0m\u001b[1;31m:\u001b[0m invalid syntax\n"
     ]
    }
   ],
   "source": [
    "\n",
    "\n"
   ]
  },
  {
   "cell_type": "markdown",
   "metadata": {},
   "source": [
    "### Reduccion de dimensionalidad"
   ]
  },
  {
   "cell_type": "code",
   "execution_count": null,
   "metadata": {
    "collapsed": true
   },
   "outputs": [],
   "source": []
  },
  {
   "cell_type": "code",
   "execution_count": null,
   "metadata": {
    "collapsed": true
   },
   "outputs": [],
   "source": [
    "Resultados: Describir los resultados conseguidos por los distintos modelos y conjuntos de atributos considerados. Preferentemente, resumir los resultados en tablas/figuras. Mencionar los tiempos de ejecución aproximados de cada técnica.\n",
    "Discusión: Analizar los resultados, buscando responder cuestiones como, por ejemplo: ¿cuáles son los atributos encontrados con mayor poder predictivo?, ¿cuán sensibles fueron los algoritmos a las técnicas de reducción de dimensionalidad consideradas?, ¿resultó clara la elección del algoritmo para la competencia, o hubo que poner en la balanza distintos factores?\n"
   ]
  }
 ],
 "metadata": {
  "anaconda-cloud": {},
  "kernelspec": {
   "display_name": "Python [Root]",
   "language": "python",
   "name": "Python [Root]"
  },
  "language_info": {
   "codemirror_mode": {
    "name": "ipython",
    "version": 2
   },
   "file_extension": ".py",
   "mimetype": "text/x-python",
   "name": "python",
   "nbconvert_exporter": "python",
   "pygments_lexer": "ipython2",
   "version": "2.7.12"
  }
 },
 "nbformat": 4,
 "nbformat_minor": 0
}
