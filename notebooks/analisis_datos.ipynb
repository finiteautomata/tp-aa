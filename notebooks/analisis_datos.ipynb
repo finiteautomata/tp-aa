{
 "cells": [
  {
   "cell_type": "markdown",
   "metadata": {},
   "source": [
    "# Análisis de los datos\n",
    "\n",
    "Parecen ser log-normales los datos. Eso significa que al momento de aplicar logaritmo, se vuelven normales...\n",
    "\n",
    "Vamos entonces a hacer pruebas con eso."
   ]
  },
  {
   "cell_type": "code",
   "execution_count": 1,
   "metadata": {
    "collapsed": false
   },
   "outputs": [
    {
     "name": "stdout",
     "output_type": "stream",
     "text": [
      "Leyendo archivos...\n",
      "Construyendo datos\n"
     ]
    },
    {
     "ename": "TypeError",
     "evalue": "build() got an unexpected keyword argument 'spam'",
     "output_type": "error",
     "traceback": [
      "\u001b[0;31m---------------------------------------------------------------------------\u001b[0m",
      "\u001b[0;31mTypeError\u001b[0m                                 Traceback (most recent call last)",
      "\u001b[0;32m<ipython-input-1-cb1b44354a4e>\u001b[0m in \u001b[0;36m<module>\u001b[0;34m()\u001b[0m\n\u001b[1;32m     18\u001b[0m \u001b[0;32mprint\u001b[0m \u001b[0;34m\"Construyendo datos\"\u001b[0m\u001b[0;34m\u001b[0m\u001b[0m\n\u001b[1;32m     19\u001b[0m \u001b[0mbuilder\u001b[0m \u001b[0;34m=\u001b[0m \u001b[0mDataFrameBuilder\u001b[0m\u001b[0;34m(\u001b[0m\u001b[0;34m)\u001b[0m\u001b[0;34m\u001b[0m\u001b[0m\n\u001b[0;32m---> 20\u001b[0;31m \u001b[0mdf\u001b[0m \u001b[0;34m=\u001b[0m \u001b[0mbuilder\u001b[0m\u001b[0;34m.\u001b[0m\u001b[0mbuild\u001b[0m\u001b[0;34m(\u001b[0m\u001b[0mspam\u001b[0m\u001b[0;34m=\u001b[0m\u001b[0mspam\u001b[0m\u001b[0;34m,\u001b[0m \u001b[0mham\u001b[0m\u001b[0;34m=\u001b[0m\u001b[0mham\u001b[0m\u001b[0;34m)\u001b[0m\u001b[0;34m\u001b[0m\u001b[0m\n\u001b[0m\u001b[1;32m     21\u001b[0m \u001b[0;34m\u001b[0m\u001b[0m\n\u001b[1;32m     22\u001b[0m \u001b[0;32mprint\u001b[0m \u001b[0;34m\"Listo\"\u001b[0m\u001b[0;34m\u001b[0m\u001b[0m\n",
      "\u001b[0;31mTypeError\u001b[0m: build() got an unexpected keyword argument 'spam'"
     ]
    }
   ],
   "source": [
    "# Esto agrega al python path el directorio ..\n",
    "import sys\n",
    "sys.path.append(\"..\")\n",
    "\n",
    "import json\n",
    "import numpy as np\n",
    "from dataframe_builder import DataFrameBuilder\n",
    "# Ignorar Warning de sklearn (no es importante)\n",
    "import warnings\n",
    "warnings.filterwarnings('ignore',\n",
    "                        message='Changing the shape of non-C contiguous array')\n",
    "\n",
    "\n",
    "print \"Construyendo datos\"\n",
    "builder = DataFrameBuilder()\n",
    "df = builder.build()\n",
    "\n",
    "print \"Listo\""
   ]
  },
  {
   "cell_type": "code",
   "execution_count": 24,
   "metadata": {
    "collapsed": false
   },
   "outputs": [
    {
     "name": "stdout",
     "output_type": "stream",
     "text": [
      "Index([u'class', u'len', u'spaces', u'has_html', u'has_original_message',\n",
      "       u'has_multipart', u'has_dear', u'has_Friend', u'has_hello', u'has_$',\n",
      "       u'has_earn', u'has_investment', u'has_profit', u'has_profits',\n",
      "       u'has_credit', u'has_opportunity', u'has_income', u'has_cost',\n",
      "       u'has_promotion', u'has_why pay more?', u'has_f r e e', u'has_click',\n",
      "       u'has_add', u'has_meet singles', u'has_viagra', u'has_sex',\n",
      "       u'has_penis', u'has_vagina', u'has_pussy', u'has_fuck', u'has_girl',\n",
      "       u'has_erect', u'has_enlargement', u'has_free', u'has_cc:', u'has_gif',\n",
      "       u'has_help', u'has_photo', u'has_video', u'has_http', u'has_dollar',\n",
      "       u'has_million', u'has_|', u'has_nigeria', u'has_password', u'has_of',\n",
      "       u'has_bill', u'has_it's time', u'has_sale', u'has_hi', u'has_-->',\n",
      "       u'has_weight', u'has_lose', u'has_administrator', u'has_order',\n",
      "       u'has_clearance'],\n",
      "      dtype='object')\n",
      "Help on function hist in module matplotlib.pyplot:\n",
      "\n",
      "hist(x, bins=10, range=None, normed=False, weights=None, cumulative=False, bottom=None, histtype=u'bar', align=u'mid', orientation=u'vertical', rwidth=None, log=False, color=None, label=None, stacked=False, hold=None, data=None, **kwargs)\n",
      "    Plot a histogram.\n",
      "    \n",
      "    Compute and draw the histogram of *x*. The return value is a\n",
      "    tuple (*n*, *bins*, *patches*) or ([*n0*, *n1*, ...], *bins*,\n",
      "    [*patches0*, *patches1*,...]) if the input contains multiple\n",
      "    data.\n",
      "    \n",
      "    Multiple data can be provided via *x* as a list of datasets\n",
      "    of potentially different length ([*x0*, *x1*, ...]), or as\n",
      "    a 2-D ndarray in which each column is a dataset.  Note that\n",
      "    the ndarray form is transposed relative to the list form.\n",
      "    \n",
      "    Masked arrays are not supported at present.\n",
      "    \n",
      "    Parameters\n",
      "    ----------\n",
      "    x : (n,) array or sequence of (n,) arrays\n",
      "        Input values, this takes either a single array or a sequency of\n",
      "        arrays which are not required to be of the same length\n",
      "    \n",
      "    bins : integer or array_like, optional\n",
      "        If an integer is given, `bins + 1` bin edges are returned,\n",
      "        consistently with :func:`numpy.histogram` for numpy version >=\n",
      "        1.3.\n",
      "    \n",
      "        Unequally spaced bins are supported if `bins` is a sequence.\n",
      "    \n",
      "        default is 10\n",
      "    \n",
      "    range : tuple or None, optional\n",
      "        The lower and upper range of the bins. Lower and upper outliers\n",
      "        are ignored. If not provided, `range` is (x.min(), x.max()). Range\n",
      "        has no effect if `bins` is a sequence.\n",
      "    \n",
      "        If `bins` is a sequence or `range` is specified, autoscaling\n",
      "        is based on the specified bin range instead of the\n",
      "        range of x.\n",
      "    \n",
      "        Default is ``None``\n",
      "    \n",
      "    normed : boolean, optional\n",
      "        If `True`, the first element of the return tuple will\n",
      "        be the counts normalized to form a probability density, i.e.,\n",
      "        ``n/(len(x)`dbin)``, i.e., the integral of the histogram will sum\n",
      "        to 1. If *stacked* is also *True*, the sum of the histograms is\n",
      "        normalized to 1.\n",
      "    \n",
      "        Default is ``False``\n",
      "    \n",
      "    weights : (n, ) array_like or None, optional\n",
      "        An array of weights, of the same shape as `x`.  Each value in `x`\n",
      "        only contributes its associated weight towards the bin count\n",
      "        (instead of 1).  If `normed` is True, the weights are normalized,\n",
      "        so that the integral of the density over the range remains 1.\n",
      "    \n",
      "        Default is ``None``\n",
      "    \n",
      "    cumulative : boolean, optional\n",
      "        If `True`, then a histogram is computed where each bin gives the\n",
      "        counts in that bin plus all bins for smaller values. The last bin\n",
      "        gives the total number of datapoints.  If `normed` is also `True`\n",
      "        then the histogram is normalized such that the last bin equals 1.\n",
      "        If `cumulative` evaluates to less than 0 (e.g., -1), the direction\n",
      "        of accumulation is reversed.  In this case, if `normed` is also\n",
      "        `True`, then the histogram is normalized such that the first bin\n",
      "        equals 1.\n",
      "    \n",
      "        Default is ``False``\n",
      "    \n",
      "    bottom : array_like, scalar, or None\n",
      "        Location of the bottom baseline of each bin.  If a scalar,\n",
      "        the base line for each bin is shifted by the same amount.\n",
      "        If an array, each bin is shifted independently and the length\n",
      "        of bottom must match the number of bins.  If None, defaults to 0.\n",
      "    \n",
      "        Default is ``None``\n",
      "    \n",
      "    histtype : {'bar', 'barstacked', 'step',  'stepfilled'}, optional\n",
      "        The type of histogram to draw.\n",
      "    \n",
      "        - 'bar' is a traditional bar-type histogram.  If multiple data\n",
      "          are given the bars are aranged side by side.\n",
      "    \n",
      "        - 'barstacked' is a bar-type histogram where multiple\n",
      "          data are stacked on top of each other.\n",
      "    \n",
      "        - 'step' generates a lineplot that is by default\n",
      "          unfilled.\n",
      "    \n",
      "        - 'stepfilled' generates a lineplot that is by default\n",
      "          filled.\n",
      "    \n",
      "        Default is 'bar'\n",
      "    \n",
      "    align : {'left', 'mid', 'right'}, optional\n",
      "        Controls how the histogram is plotted.\n",
      "    \n",
      "            - 'left': bars are centered on the left bin edges.\n",
      "    \n",
      "            - 'mid': bars are centered between the bin edges.\n",
      "    \n",
      "            - 'right': bars are centered on the right bin edges.\n",
      "    \n",
      "        Default is 'mid'\n",
      "    \n",
      "    orientation : {'horizontal', 'vertical'}, optional\n",
      "        If 'horizontal', `~matplotlib.pyplot.barh` will be used for\n",
      "        bar-type histograms and the *bottom* kwarg will be the left edges.\n",
      "    \n",
      "    rwidth : scalar or None, optional\n",
      "        The relative width of the bars as a fraction of the bin width.  If\n",
      "        `None`, automatically compute the width.\n",
      "    \n",
      "        Ignored if `histtype` is 'step' or 'stepfilled'.\n",
      "    \n",
      "        Default is ``None``\n",
      "    \n",
      "    log : boolean, optional\n",
      "        If `True`, the histogram axis will be set to a log scale. If `log`\n",
      "        is `True` and `x` is a 1D array, empty bins will be filtered out\n",
      "        and only the non-empty (`n`, `bins`, `patches`) will be returned.\n",
      "    \n",
      "        Default is ``False``\n",
      "    \n",
      "    color : color or array_like of colors or None, optional\n",
      "        Color spec or sequence of color specs, one per dataset.  Default\n",
      "        (`None`) uses the standard line color sequence.\n",
      "    \n",
      "        Default is ``None``\n",
      "    \n",
      "    label : string or None, optional\n",
      "        String, or sequence of strings to match multiple datasets.  Bar\n",
      "        charts yield multiple patches per dataset, but only the first gets\n",
      "        the label, so that the legend command will work as expected.\n",
      "    \n",
      "        default is ``None``\n",
      "    \n",
      "    stacked : boolean, optional\n",
      "        If `True`, multiple data are stacked on top of each other If\n",
      "        `False` multiple data are aranged side by side if histtype is\n",
      "        'bar' or on top of each other if histtype is 'step'\n",
      "    \n",
      "        Default is ``False``\n",
      "    \n",
      "    Returns\n",
      "    -------\n",
      "    n : array or list of arrays\n",
      "        The values of the histogram bins. See **normed** and **weights**\n",
      "        for a description of the possible semantics. If input **x** is an\n",
      "        array, then this is an array of length **nbins**. If input is a\n",
      "        sequence arrays ``[data1, data2,..]``, then this is a list of\n",
      "        arrays with the values of the histograms for each of the arrays\n",
      "        in the same order.\n",
      "    \n",
      "    bins : array\n",
      "        The edges of the bins. Length nbins + 1 (nbins left edges and right\n",
      "        edge of last bin).  Always a single array even when multiple data\n",
      "        sets are passed in.\n",
      "    \n",
      "    patches : list or list of lists\n",
      "        Silent list of individual patches used to create the histogram\n",
      "        or list of such list if multiple input datasets.\n",
      "    \n",
      "    Other Parameters\n",
      "    ----------------\n",
      "    kwargs : `~matplotlib.patches.Patch` properties\n",
      "    \n",
      "    See also\n",
      "    --------\n",
      "    hist2d : 2D histograms\n",
      "    \n",
      "    Notes\n",
      "    -----\n",
      "    Until numpy release 1.5, the underlying numpy histogram function was\n",
      "    incorrect with `normed`=`True` if bin sizes were unequal.  MPL\n",
      "    inherited that error.  It is now corrected within MPL when using\n",
      "    earlier numpy versions.\n",
      "    \n",
      "    Examples\n",
      "    --------\n",
      "    .. plot:: mpl_examples/statistics/histogram_demo_features.py\n",
      "    \n",
      "    Notes\n",
      "    -----\n",
      "    \n",
      "    In addition to the above described arguments, this function can take a\n",
      "    **data** keyword argument. If such a **data** argument is given, the\n",
      "    following arguments are replaced by **data[<arg>]**:\n",
      "    \n",
      "    * All arguments with the following names: 'x', 'weights'.\n",
      "    \n",
      "    \n",
      "    \n",
      "    \n",
      "    Additional kwargs: hold = [True|False] overrides default hold state\n",
      "\n",
      "None\n"
     ]
    }
   ],
   "source": [
    "print df.columns\n",
    "print help(hist)"
   ]
  },
  {
   "cell_type": "code",
   "execution_count": 25,
   "metadata": {
    "collapsed": false
   },
   "outputs": [
    {
     "name": "stdout",
     "output_type": "stream",
     "text": [
      "Populating the interactive namespace from numpy and matplotlib\n"
     ]
    },
    {
     "data": {
      "text/plain": [
       "(array([  3.84000000e+03,   3.94970000e+04,   2.82920000e+04,\n",
       "          6.50400000e+03,   2.00700000e+03,   5.60000000e+02,\n",
       "          1.61000000e+02,   7.70000000e+01,   4.30000000e+01,\n",
       "          1.40000000e+01]),\n",
       " array([  8.20945337,   9.71235799,  11.21526262,  12.71816725,\n",
       "         14.22107188,  15.7239765 ,  17.22688113,  18.72978576,\n",
       "         20.23269039,  21.73559502,  23.23849964]),\n",
       " <a list of 10 Patch objects>)"
      ]
     },
     "execution_count": 25,
     "metadata": {},
     "output_type": "execute_result"
    },
    {
     "data": {
      "image/png": "[encoded data removed]",
      "text/plain": [
       "<matplotlib.figure.Figure at 0x7fc8dca6e450>"
      ]
     },
     "metadata": {},
     "output_type": "display_data"
    }
   ],
   "source": [
    "%pylab inline\n",
    "\n",
    "hist(np.log2(1+df.spaces))\n",
    "hist(np.log2(1+df.len))"
   ]
  },
  {
   "cell_type": "code",
   "execution_count": 26,
   "metadata": {
    "collapsed": false
   },
   "outputs": [
    {
     "data": {
      "text/plain": [
       "(array([ 62813.,   9181.,   4412.,   1963.,   1447.,    365.,    347.,\n",
       "           135.,    149.,    183.]),\n",
       " array([  0.        ,   1.02008986,   2.04017972,   3.06026958,\n",
       "          4.08035944,   5.1004493 ,   6.12053916,   7.14062902,\n",
       "          8.16071888,   9.18080874,  10.20089861]),\n",
       " <a list of 10 Patch objects>)"
      ]
     },
     "execution_count": 26,
     "metadata": {},
     "output_type": "execute_result"
    },
    {
     "data": {
      "image/png": "[encoded data removed]",
      "text/plain": [
       "<matplotlib.figure.Figure at 0x7fc8bdbe5210>"
      ]
     },
     "metadata": {},
     "output_type": "display_data"
    }
   ],
   "source": [
    "hist(np.log2(1+df['has_$']))"
   ]
  },
  {
   "cell_type": "code",
   "execution_count": null,
   "metadata": {
    "collapsed": true
   },
   "outputs": [],
   "source": []
  }
 ],
 "metadata": {
  "kernelspec": {
   "display_name": "Python 2",
   "language": "python",
   "name": "python2"
  },
  "language_info": {
   "codemirror_mode": {
    "name": "ipython",
    "version": 2
   },
   "file_extension": ".py",
   "mimetype": "text/x-python",
   "name": "python",
   "nbconvert_exporter": "python",
   "pygments_lexer": "ipython2",
   "version": "2.7.11"
  }
 },
 "nbformat": 4,
 "nbformat_minor": 1
}
