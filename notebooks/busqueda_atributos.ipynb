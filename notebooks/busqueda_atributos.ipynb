{
 "cells": [
  {
   "cell_type": "markdown",
   "metadata": {},
   "source": [
    "# Búsqueda de atributos\n",
    "\n",
    "Esta notebook es para generar nuevos atributos para el dataframe\n"
   ]
  },
  {
   "cell_type": "code",
   "execution_count": 3,
   "metadata": {
    "collapsed": false
   },
   "outputs": [
    {
     "name": "stdout",
     "output_type": "stream",
     "text": [
      "Populating the interactive namespace from numpy and matplotlib\n"
     ]
    }
   ],
   "source": [
    "%pylab inline\n",
    "# Esto agrega al python path el directorio ..\n",
    "import sys\n",
    "sys.path.append(\"..\")\n",
    "import re\n",
    "import numpy as np\n",
    "import config\n",
    "import dateutil\n",
    "from transformers import transformer\n",
    "from data_builder import load_test_data, load_dev_data, load_small_dev_data\n",
    "\n",
    "\n",
    "df, target = load_small_dev_data()"
   ]
  },
  {
   "cell_type": "markdown",
   "metadata": {},
   "source": [
    "# From y to\n",
    "\n",
    "Veamos la pinta de los remitentes y recipientes\n",
    "\n",
    "Primero, agarro algo de spam y ham.\n",
    "\n",
    "Acá seteo muchos atributos que están metidos en `transformers`"
   ]
  },
  {
   "cell_type": "code",
   "execution_count": 4,
   "metadata": {
    "collapsed": false
   },
   "outputs": [],
   "source": [
    "receivers = df.parsed_emails.apply(lambda p: p.get_all(\"To\") or p.get_all(\"to\") or [])\n",
    "senders = df.parsed_emails.apply(lambda p: p.get_all(\"From\") or p.get_all(\"from\") or [])\n",
    "\n",
    "def join_mails(t):\n",
    "    return \";\".join(t)\n",
    "\n",
    "def is_ascii(s):\n",
    "    try:\n",
    "        s.encode('ascii')\n",
    "        return True\n",
    "    except UnicodeDecodeError:\n",
    "        return False\n",
    "    \n",
    "def parse_date(parsed_mail):\n",
    "    try:\n",
    "        date = parsed_mail.get('Date') or parsed_mail.get('date')\n",
    "        return dateutil.parser.parse(date, fuzzy_with_tokens=True)[0]\n",
    "    except (ValueError, AttributeError):\n",
    "        return None\n",
    "\n",
    "\n",
    "df['from_text'] = senders.apply(join_mails)\n",
    "df['to_text'] = receivers.apply(join_mails)\n",
    "df['number_of_receivers'] = df['to_text'].apply(lambda t: len(re.findall(r'<.*>', t)))\n",
    "df['from_non_ascii'] = df.from_text.apply(lambda f: not is_ascii(f))"
   ]
  },
  {
   "cell_type": "code",
   "execution_count": 5,
   "metadata": {
    "collapsed": false
   },
   "outputs": [],
   "source": [
    "import random\n",
    "dates = df.parsed_emails.apply(parse_date)\n",
    "\n",
    "df['hour'] = dates.apply(lambda t: t.hour if t else random.choice(range(24)))\n",
    "df['hour_between_7_and_20'] = df['hour'].apply(lambda h: h >= 7 and h <= 21)\n",
    "\n",
    "\n",
    "df['day_of_month'] = dates.apply(\n",
    "    lambda d: d.day if d else random.choice(range(29))\n",
    ")\n",
    "\n",
    "df['weekday'] = dates.apply(\n",
    "    lambda d: d.weekday() if d else random.choice(range(6))\n",
    ")\n",
    "\n",
    "df['is_weekend'] = df.weekday >= 5\n",
    "\n",
    "df['year'] = dates.apply(\n",
    "    lambda d: d.year if d else random.choice(range(1990, 2005))\n",
    ")\n"
   ]
  },
  {
   "cell_type": "code",
   "execution_count": 6,
   "metadata": {
    "collapsed": false
   },
   "outputs": [],
   "source": [
    "spam = df[target].sample(30)\n",
    "ham = df[target == False].sample(30)\n",
    "\n"
   ]
  },
  {
   "cell_type": "code",
   "execution_count": 7,
   "metadata": {
    "collapsed": false
   },
   "outputs": [
    {
     "name": "stdout",
     "output_type": "stream",
     "text": [
      "Enviadores de spam\n",
      "====================================================================================================\n",
      "kryak@rknxnjf.imail.ru\n",
      "\"KT event\" <Xroshot@ktpda.w3ip.co.kr>\n",
      "leila harrison <daskewnlwapgsu#####>\n",
      "engeorgeogbedi <engeorgeogbedi@zwallet.com>\n",
      "\"doug newman\" <vyzjg#####>\n",
      "\"emerging growth alert\" <obdp#####>\n",
      "\"luke harmon\" <jeriseward#####-laajakaista.fi>\n",
      "\"dianne \" <clpxiyauclatq#####>\n",
      "\"Eliseo Blake\" <FLQCYCWCIBJBI@eudoramail.com>\n",
      "\"citizens bank\" <support#####>\n",
      "\"playstation2\" <7iutgnd#####>\n",
      "\"ila \" <gmeldhxhieeov#####>\n",
      "\"jobslog.com\" <jobslog#####>\n",
      "Alex Madeline  <alex_chep@spark.krasnoyarsk.su>\n",
      "\"tami white\" <wahgkrzgaa#####>\n",
      "vanessa j. smith <55anna#####>\n",
      "\"danial kistler\" <pialoma@inonesearch.com>\n",
      "\"Dallas Weir\" <rnrlrxqy@visitweb.com>\n",
      "\"Maddison Hallam\" <kailyndigby@gaoland.net>\n",
      "\"½Å¼Ó´ëÃâ100%\" <yhtnquipv@nudegirl.w3ip.co.kr>\n",
      "\"drh\" <kuhkjhkh@ns1.freebit.net>\n",
      "\"Julianne Burr\" <uukwpjbvtiys@ehdi.net>\n",
      "\"Torsten Pritchett\" <Torsten3764@jbugs.com>\n",
      "\"NETPATAGONIA\" <cellgprs@iespana.es>\n",
      "\"business skills seminar\" <mbaseminar#####>\n",
      "\"Reilly Aidan\" <Krasimirov@wlf.de>\n",
      "\"Moises Fitzgerald\" <mqwsblr@wavecraft.com>\n",
      "eBay Account Review Team <noreply@ebay.com>\n",
      "\"Cara Jacobs\" <jacobsvd@afb1.ssc.edinburgh.ac.uk>\n",
      "info@aceprintwear.com\n",
      "\n",
      "\n",
      "Enviadores de ham\n",
      "====================================================================================================\n",
      "\"Graves, Jerry\" <Jerry.Graves@ENRON.com>\n",
      "\"Smith, Will\" <Will.Smith@ENRON.com>\n",
      "monica.l.brown@accenture.com\n",
      "\"Imai, Rika\" <Rika.Imai@ENRON.com>\n",
      "<enerfaxdaily@enerfax.com>\n",
      "\"Moscoso, Michael E.\" <Michael.E.Moscoso@ENRON.com>\n",
      "\"Forster, David\" <David.Forster@ENRON.com>\n",
      "josie.call#####\n",
      "\"Gayle Rodgers - Rodgers, Ramsey, Inc.\" <gayle@rodgers-ramsey.com>\n",
      "vance.taylor#####\n",
      "LeslieWmAdams@aol.com\n",
      "maritta.mullet#####\n",
      "\"Samantha Slater\" <SSLATER@epsa.org>\n",
      "\"Dan Douglass\" <douglass@energyattorney.com>\n",
      "vince.kaminski#####\n",
      "announcements.##########\n",
      "\"Presto, Kevin M.\" <Kevin.M.Presto@ENRON.com>\n",
      "\"Ramesh, Ganapathy\" <Ganapathy.Ramesh@ENRON.com>\n",
      "tconvery#####\n",
      "\"Milnthorp, Rob\" <Rob.Milnthorp@ENRON.com>\n",
      "dorie.hitchcock#####\n",
      "pete.davis#####\n",
      "\"Hughes, Llewelyn\" <Llewelyn.Hughes@ENRON.com>\n",
      "mike.jordan#####\n",
      "\"Hansen, Leslie\" <Leslie.Hansen@ENRON.com>\n",
      "charlotte.hawkins#####\n",
      "\"Ortiz, Lucy\" <Lucy.Ortiz@ENRON.com>\n",
      "\"Commissioner.COM\" <noreply@ccomad3.uu.commissioner.com>\n",
      "julie.gomez#####\n",
      "\"Wei, Zhiyong\" <Zhiyong.Wei@ENRON.com>\n"
     ]
    }
   ],
   "source": [
    "print \"Enviadores de spam\"\n",
    "print \"=\"* 100\n",
    "print \"\\n\".join(spam.from_text)\n",
    "print \"\\n\\nEnviadores de ham\"\n",
    "print \"=\"* 100\n",
    "print \"\\n\".join(ham.from_text)\n"
   ]
  },
  {
   "cell_type": "code",
   "execution_count": 8,
   "metadata": {
    "collapsed": false,
    "scrolled": false
   },
   "outputs": [
    {
     "name": "stdout",
     "output_type": "stream",
     "text": [
      "Receptores de spam\n",
      "====================================================================================================\n",
      "dennis@ectisp.net\n",
      "<Bill.Williams.III@ENRON.com>\n",
      "##########\n",
      "\n",
      "\"derm\" <derm#####>\n",
      "##########\n",
      "\"clive garrett\" <paliourg#####>\n",
      "\"paliourg\" <paliourg#####>\n",
      "<csemper@ect.enron.com>\n",
      "\"paliourg\" <paliourg#####>\n",
      "<jkoutsi#####>\n",
      "\"sigletos\" <sigletos#####>\n",
      "##########\n",
      "larry_campbell@enron.com\n",
      "<abazis#####>\n",
      "##########\n",
      "\"Jorge Norskog\" <Shelley.Corman@ENRON.com>\n",
      "kkeiser@ect.enron.com, shelley.corman@ENRON.COM, Theresa.Staab@enron.com\n",
      "tori.kuykendall@enron.com\n",
      "Susan.Bailey@enron.com\n",
      "mwhitt@enron.com\n",
      "<greg.whalley@enron.com>\n",
      "\"Amilia Glover\" <Mike.Swerzbin@enron.com>\n",
      "<Andy.Zipper@ENRON.com>\n",
      "##########\n",
      "\"Morawska Agnieszka\" <Michael.e.taylor@enron.com>\n",
      "\"Mark.whitt\" <Mark.whitt@enron.com>\n",
      "vpimenov <vpimenov@enron.com>\n",
      "LISA.GANG@enron.com\n",
      "PLucci@enron.com\n",
      "\n",
      "Receptores de ham\n",
      "====================================================================================================\n",
      "\"Anderson, Gary E.\" <Gary.Anderson@ENRON.com>,\n",
      "\t\"Anderson, Ken\" <Ken.Anderson@ENRON.com>,\n",
      "\t\"Beck, Judy\" <Judy.Beck@ENRON.com>,\n",
      "\t\"DL-ETS Gas Controllers\" <DL-ETSGasControllers@ENRON.com>,\n",
      "\t\"Frazier, Perry\" <Perry.Frazier@ENRON.com>,\n",
      "\t\"Good, Chuck\" <Chuck.Good@ENRON.com>,\n",
      "\t\"Gottsponer, Morgan\" <Morgan.Gottsponer@ENRON.com>,\n",
      "\t\"Graves, Jerry\" <Jerry.Graves@ENRON.com>,\n",
      "\t\"Kolarik, David\" <David.Kolarik@ENRON.com>,\n",
      "\t\"Macpherson, Sigrid\" <Sigrid.MacPherson@ENRON.com>,\n",
      "\t\"Maestas, Gary\" <Gary.Maestas@ENRON.com>,\n",
      "\t\"Matthews, Ron\" <Ronald.Matthews@ENRON.com>,\n",
      "\t\"McClain, Jim\" <Jim.McClain@ENRON.com>,\n",
      "\t\"Ramsaran, Gale\" <Gale.Ramsaran@ENRON.com>,\n",
      "\t\"Sommer, Carol\" <Carol.Sommer@ENRON.com>,\n",
      "\t\"Stephens, LD\" <LD.Stephens@ENRON.com>,\n",
      "\t\"Sturn, John\" <John.Sturn@ENRON.com>,\n",
      "\t\"Thomas, Steve\" <Steve.Thomas@ENRON.com>,\n",
      "\t\"Westfall, Roger\" <Roger.Westfall@ENRON.com>,\n",
      "\t\"bbender\" <bbender@oneok.com>,\n",
      "\t\"ccrawford\" <ccrawford@oneok.com>,\n",
      "\t\"crobertson\" <crobertson@oneok.com>,\n",
      "\t\"David Moon (E-mail)\" <ddmoon@dke-energy.com>,\n",
      "\t\"dkurth\" <dkurth@oneok.com>,\n",
      "\t\"Don Hickey\" <don_r_hickey@email.mobil.com>,\n",
      "\t\"jay muse\" <jay_muse@oxy.com>,\n",
      "\t\"jknight\" <jknight@ong.com>,\n",
      "\t\"jrburdge\" <jrburdge@duke-energy.com>,\n",
      "\t\"jschulz\" <jschulz@oneok.com>,\n",
      "\t\"Kevin Willts\" <kwillt@oneok.com>,\n",
      "\t\"ray hoggatt\" <p_r_ hoggatt@email.mobil.com>,\n",
      "\t\"rvargo\" <rvargo@oneok.com>,\n",
      "\t\"Teresa Juergens (E-mail)\" <tjuergens@duke-energy.com>,\n",
      "\t\"Boothe, David\" <David.Boothe@ENRON.com>,\n",
      "\t\"Brown, Ricky\" <Ricky.Brown@ENRON.com>,\n",
      "\t\"Dietz, Laverne\" <Laverne.Dietz@ENRON.com>,\n",
      "\t\"Howard, Randy\" <Randy.Howard@ENRON.com>,\n",
      "\t\"Jordan, Fred\" <Fred.Jordan@ENRON.com>,\n",
      "\t\"Miller, Dave W. (Holcomb)\" <Dave.W.Miller@ENRON.com>,\n",
      "\t\"Noyes, David\" <David.Noyes@ENRON.com>,\n",
      "\t\"Pyle, Carl\" <Carl.Pyle@ENRON.com>,\n",
      "\t\"Reed, Ray\" <Ray.Reed@ENRON.com>,\n",
      "\t\"Ashland, Team\" <Team.Ashland@ENRON.com>,\n",
      "\t\"Beaver-Mach-Shop, Team\" <Team.Beaver-Mach-Shop@ENRON.com>,\n",
      "\t\"Beaver-Plant, Team\" <Team.Beaver-Plant@ENRON.com>,\n",
      "\t\"Besecker, Bob\" <Bob.Besecker@ENRON.com>,\n",
      "\t\"Burdett, Team\" <Team.Burdett@ENRON.com>,\n",
      "\t\"Bushton-Maintenance, Team\" <Team.Bushton-Maintenance@ENRON.com>,\n",
      "\t\"Bushton-Operations, Team\" <Team.Bushton-Operations@ENRON.com>,\n",
      "\t\"Bushton-Safety, Team\" <Team.Bushton-Safety@ENRON.com>,\n",
      "\t\"Cunningham, Team\" <Team.Cunningham@ENRON.com>,\n",
      "\t\"Cunningham-Safety, Team\" <Team.Cunningham-Safety@ENRON.com>,\n",
      "\t\"Dyer, Bill\" <Bill.Dyer@ENRON.com>,\n",
      "\t\"Ellis2, Team\" <Team.Ellis2@ENRON.com>,\n",
      "\t\"Ford, John\" <John.Ford@ENRON.com>,\n",
      "\t\"Foresman, Bill\" <Bill.Foresman@ENRON.com>,\n",
      "\t\"Hallowell, Dean\" <Dean.Hallowell@ENRON.com>,\n",
      "\t\"Haydock, Sandy\" <Sandy.Haydock@ENRON.com>,\n",
      "\t\"Holcomb-Fld-Comp, Team\" <Team.Holcomb-Fld-Comp@ENRON.com>,\n",
      "\t\"Holcomb-Maint, Team\" <Team.Holcomb-Maint@ENRON.com>,\n",
      "\t\"Holcomb-Oper, Team\" <Team.Holcomb-Oper@ENRON.com>,\n",
      "\t\"Hugoton-Field, Team\" <Team.Hugoton-Field@ENRON.com>,\n",
      "\t\"Hugoton-Plant, Team\" <Team.Hugoton-Plant@ENRON.com>,\n",
      "\t\"Hugoton-SE, Team\" <Team.Hugoton-SE@ENRON.com>,\n",
      "\t\"Hugoton-SW-MTCO, Team\" <Team.Hugoton-SW-MTCO@ENRON.com>,\n",
      "\t\"Hugoton-SW-TXCO, Team\" <Team.Hugoton-SW-TXCO@ENRON.com>,\n",
      "\t\"Lewis, Joy\" <Joy.Lewis@ENRON.com>,\n",
      "\t\"Lewis, Kelly\" <Kelly.Lewis@ENRON.com>,\n",
      "\t\"Lowe, Mickey\" <Mickey.Lowe@ENRON.com>,\n",
      "\t\"Lyons, Team\" <Team.Lyons@ENRON.com>,\n",
      "\t\"Lyons-Safety, Team\" <Team.Lyons-Safety@ENRON.com>,\n",
      "\t\"Macksville, Team\" <Team.Macksville@ENRON.com>,\n",
      "\t\"Mall, Greg\" <Greg.Mall@ENRON.com>,\n",
      "\t\"Mullinville Pipeline Team\" <Team.Mullinville-Pipeline@ENRON.com>,\n",
      "\t\"Mullinville-Maintenance, Team\" <Team.Mullinville-Maintenance@ENRON.com>,\n",
      "\t\"Mullinville-Operations, Team\" <Team.Mullinville-Operations@ENRON.com>,\n",
      "\t\"Mullinville-Safety, Team\" <Team.Mullinville-Safety@ENRON.com>,\n",
      "\t\"Noland, John\" <John.Noland@ENRON.com>,\n",
      "\t\"Pampa, Team\" <Team.Pampa@ENRON.com>,\n",
      "\t\"Pampa-Overhaul, Team\" <Team.Pampa-Overhaul@ENRON.com>,\n",
      "\t\"Perryton, Team\" <Team.Perryton@ENRON.com>,\n",
      "\t\"Pool, Eddie\" <Eddie.Pool@ENRON.com>,\n",
      "\t\"Poston, Tom\" <Tom.Poston@ENRON.com>,\n",
      "\t\"Pribble, Dan\" <Dan.Pribble@ENRON.com>,\n",
      "\t\"Smith, Jimmie\" <Jimmie.Smith@ENRON.com>,\n",
      "\t\"Spearman, Team\" <Team.Spearman@ENRON.com>,\n",
      "\t\"Sublette, Team\" <Team.Sublette@ENRON.com>,\n",
      "\t\"Sunray-Compressor, Team\" <Team.Sunray-Compressor@ENRON.com>,\n",
      "\t\"Sunray-Field, Team\" <Team.Sunray-Field@ENRON.com>,\n",
      "\t\"Tate, Team\" <Team.Tate@ENRON.com>,\n",
      "\t\"Trujillo, Will\" <Will.Trujillo@ENRON.com>,\n",
      "\t\"Williams, Walt\" <Walt.Williams@ENRON.com>\n",
      "\"Bentley, Corry\" <Corry.Bentley@ENRON.com>,\n",
      "\t\"Atta, Asem\" <Asem.Atta@ENRON.com>,\n",
      "\t\"Venkataswami, Vishwanatha\" <Vishwanatha.Venkataswami@ENRON.com>\n",
      "errol.mclauglin@enron.com\n",
      "\"Arora, Harry\" <Harry.Arora@ENRON.com>,\n",
      "\t\"Benson, Robert\" <Robert.Benson@ENRON.com>,\n",
      "\t\"Davis, Mark Dana\" <Mark.Dana.Davis@ENRON.com>,\n",
      "\t\"Gilbert-smith, Doug\" <Doug.Gilbert-Smith@ENRON.com>,\n",
      "\t\"Herndon, Rogers\" <Rogers.Herndon@ENRON.com>,\n",
      "\t\"Presto, Kevin M.\" <Kevin.M.Presto@ENRON.com>,\n",
      "\t\"Sturm, Fletcher J.\" <Fletcher.J.Sturm@ENRON.com>,\n",
      "\t\"Will, Lloyd\" <Lloyd.Will@ENRON.com>\n",
      "<scorman@enron.com>\n",
      "\"Scott, Susan M.\" <Susan.M.Scott@ENRON.com>\n",
      "\"Taylor, Mark E (Legal)\" <Mark.Taylor@ENRON.com>,\n",
      "\t\"Keohane, Peter\" <Peter.Keohane@ENRON.com>,\n",
      "\t\"Hedstrom, Peggy\" <Peggy.Hedstrom@ENRON.com>\n",
      "nancy.bagot#####, mike.barry#####, vicki.berg#####, \r\n",
      "\tjoni.bollinger#####, mike.bonnstetter#####, \r\n",
      "\tjanet.bowers#####, lorna.brennan#####, \r\n",
      "\tkaren.brostad#####, ricky.brown#####, \r\n",
      "\tcraig.buehler#####, bob.burleson#####, \r\n",
      "\tjanet.butler#####, greg.cade#####, \r\n",
      "\tfrank.carriere#####, james.centilli#####, \r\n",
      "\tbob.chandler#####, david.clements#####, \r\n",
      "\tjohn.cobb#####, shelley.corman#####, \r\n",
      "\tmary.darveaux#####, lindy.donoho#####, \r\n",
      "\tdari.dornan#####, john.dushinske#####, \r\n",
      "\teric.faucheaux#####, jeffery.fawcett#####, \r\n",
      "\tbill.fowler#####, tracy.geaccone#####, \r\n",
      "\tsteve.gilbert#####, tom.gilbert#####, \r\n",
      "\tmorgan.gottsponer#####, charlie.graham#####, \r\n",
      "\tmike.guinane#####, tom.halpin#####, \r\n",
      "\tsteven.harris#####, joe.hartsoe#####, glen.hass#####, \r\n",
      "\trod.hayslett#####, stephen.herber#####, \r\n",
      "\tlee.huber#####, steven.january#####, \r\n",
      "\ttim.johanson#####, rich.jolly#####, r..keller#####, \r\n",
      "\tsteve.kirk#####, tim.kissner#####, david.kolarik#####, \r\n",
      "\tkaren.lagerstrom#####, randy.lebeau#####, \r\n",
      "\tlorraine.lindberg#####, michael.loeffler#####, \r\n",
      "\tmichelle.lokay#####, phil.lowry#####, \r\n",
      "\tdonna.martens#####, penny.mccarran#####, \r\n",
      "\tdanny.mccarty#####, mike.mccracken#####, \r\n",
      "\tjohnny.mcgee#####, rr.mcgillivray#####, \r\n",
      "\tw..mcgowan#####, vernon.mercaldo#####, tom.mertz#####, \r\n",
      "\tkent.miller#####, kay.miller#####, michel.nelson#####, \r\n",
      "\tdave.neubauer#####, sue.neville#####, \r\n",
      "\tjeff.nielsen#####, dave.odneal#####, \r\n",
      "\tfrank.oldenhuis#####, maria.pavlou#####, \r\n",
      "\tloren.penkava#####, keith.petersen#####, \r\n",
      "\tgregory.porter#####, ken.powers#####, \r\n",
      "\tpatty.prigmore#####, tony.pryor#####, randy.rice#####, \r\n",
      "\tted.ritchey#####, danny.russell#####, \r\n",
      "\tchris.sebesta#####, frank.semin#####, \r\n",
      "\tjohn.shafer#####, louis.soldano#####, \r\n",
      "\tnorm.spalding#####, gail.spevak#####, g..stage#####, \r\n",
      "\tlon.stanton#####, ld.stephens#####, bob.stevens#####, \r\n",
      "\tjim.talcott#####, steve.thomas#####, \r\n",
      "\tdeaun.trayer#####, linda.trevino#####, \r\n",
      "\tmike.underwood#####, michael.van#####, \r\n",
      "\tdonald.vignaroli#####, kimberly.watson#####, \r\n",
      "\tdave.waymire#####, steve.weller#####, kim.wilkie#####, \r\n",
      "\tchuck.wilkinson#####, walt.williams#####, \r\n",
      "\tmichele.winckowski#####\n",
      "emca@yahoogroups.com\n",
      "daren.farmer#####, robert.cotten#####\n",
      "Deborah_Adams@oxy.com, LeslieWmAdams@aol.com, LKBVEB@aol.com,\n",
      "   sarah2u@swbell.net, sarahbalinskas@yahoo.com, bankston@neosoft.com,\n",
      "   sandyb@ruf.rice.edu, bowie1@ev1.net, paige_beach@mhhs.org,\n",
      "   tbeasley1@houston.rr.com, rblackwelder@houston.rr.com, gbonner@csi.com,\n",
      "   carlisle@hal-pc.org, changang@swbell.net, pchisholm@psp.com, TEXLAW@aol.com,\n",
      "   crossonhouston@sprintmail.com, EDOUGLA1@houstonisd.org,\n",
      "   vdriscoll@houston.rr.com, Brucef67@aol.com, bfester@swbell.net,\n",
      "   rogerfowler@houston.rr.com, frazier@neosoft.com,\n",
      "   stephanie_goettle@mckinsey.com, eedwards@neosoft.com (DGonzales),\n",
      "   rwgray2000@pdq.net, bgreer@mailbmc.com, joe_d_gresham@reliantenergy.com,\n",
      "   jgwin@bigcity.net, Bharmes@aol.com, Linda@hibit.com, Belindah@swbell.net,\n",
      "   mhast@mdanderson.org, benjamin_hertzog@mckinsey.com, mrhiers@yahoo.com,\n",
      "   rob.hobbs@worldnet.att.net, aggiej99@hotmail.com,\n",
      "   Elbert.s.johnson@accenture.com, dgjones@equiva.com, kenjon@webtv.net,\n",
      "   jeffklemm@hotmail.com, jekoch@flash.net, skubik@houston.rr.com,\n",
      "   robert.lashinger@reliant.com, ericlee@rice.edu, Amloden@aol.com,\n",
      "   jrloper@prodigy.net, RMahlst488@aol.com,\n",
      "   mmahlstedt@consolidatedgraphics.com, alethia@wt.net,\n",
      "   mark.mcconnell@enron.com, miracle@ev1.net, ameyers@totalsem.com,\n",
      "   Patrickmullens@aol.com, michaelmullens@yahoo.com, pnoble@bcm.tmc.edu,\n",
      "   terryabridaldesigner@yahoo.com, cdnovak@yahoo.com, freeliv2000@yahoo.com,\n",
      "   danielp@nwebs.com, cprzygocki@aol.com\n",
      "david.bush#####, paul.clayton#####, mark.diedrich#####, \r\n",
      "\tdaren.farmer#####, paul.fox#####, john.harrison#####, \r\n",
      "\tw.hicks#####, david.johnson#####, dan.masters#####, \r\n",
      "\talan.mcgaughy#####, michael.mitcham#####, \r\n",
      "\tina.norman#####, lee.papayoti#####, \r\n",
      "\tjames.prentice#####, ted.robinson#####, \r\n",
      "\tkerry.roper#####, kenneth.seaman#####\n",
      "<bhueter@enron.com>, <Elizabeth.Linnell@enron.com>,\n",
      "   <harry.kingerski@enron.com>, <jmigden@enron.com>, <jsteffe@enron.com>,\n",
      "   <Marchris.Robinson@enron.com>, <Mona.L.Petrochko@enron.com>,\n",
      "   <Paul.Kaufman@enron.com>, <rboston@enron.com>, <rshapiro@enron.com>,\n",
      "   <snord@enron.com>, <steve.montovano@enron.com>,\n",
      "   <Susan.M.Landwehr@enron.com>, <Tom.Chapman@enron.com>\n",
      "\"Jeff Dasovich\" <jeff.dasovich@enron.com>,\n",
      "   \"Tamara Johnson\" <tjohnso8@enron.com>, \"Sue Mara\" <susan.j.mara@enron.com>,\n",
      "   \"Robert Neustaedter\" <robert.neustaedter@enron.com>,\n",
      "   \"Timothy Coffing\" <tcoffing@enron.com>,\n",
      "   \"David Frost\" <david.frost@enron.com>, \"Gordon Savage\" <gsavage@enron.com>,\n",
      "   \"Stephen Swain\" <Stephen.Swain@enron.com>\n",
      "lynn.dunphy#####\n",
      "\n",
      "\"Kitchen, Louise\" <Louise.Kitchen@ENRON.com>\n",
      "\"Keiser, Kam\" <Kam.Keiser@ENRON.com>\n",
      "vkamins#####\n",
      "\"Kitchen, Louise\" <Louise.Kitchen@ENRON.com>\n",
      "louise.kitchen#####, john.lavorato#####\n",
      "pete.davis#####\n",
      "\"Anai, Rousseau\" <rousseau.anai@enron.com>,\n",
      "\t\"Crowther, Mark\" <mark.crowther@enron.com>,\n",
      "\t\"Gentle, Jackie\" <jackie.gentle@enron.com>,\n",
      "\t\"Grimes, Michael\" <michael.grimes@enron.com>,\n",
      "\t\"Hirl, Joseph\" <joseph.p.hirl@enron.com>,\n",
      "\t\"Nath, Tani\" <tani.nath@enron.com>,\n",
      "\t\"O'Day, Nicholas\" <nicholas.o'day@enron.com>,\n",
      "\t\"Shapiro, Richard\" <Richard.Shapiro@ENRON.com>,\n",
      "\t\"Sherriff, John\" <john.sherriff@enron.com>,\n",
      "\t\"Thirsk, Jeremy\" <jeremy.thirsk@enron.com>,\n",
      "\t\"Watanabe, Mika\" <mika.watanabe@enron.com>\n",
      "sally.beck#####\n",
      "\"Jones, Tana\" <Tana.Jones@ENRON.com>\n",
      "daren.farmer#####\n",
      "\"Griffith, John\" <John.Griffith@ENRON.com>\n",
      "Mike Grigsby <Mike.Grigsby@ENRON.COM>\n",
      "vince.kaminski#####\n",
      "\"Kitchen, Louise\" <Louise.Kitchen@ENRON.com>,\n",
      "\t\"Storey, Geoff\" <Geoff.Storey@ENRON.com>,\n",
      "\t\"Perlman, Beth\" <Beth.Perlman@ENRON.com>,\n",
      "\t\"Stock, Stephen\" <Stephen.Stock@ENRON.com>\n"
     ]
    }
   ],
   "source": [
    "print \"Receptores de spam\"\n",
    "print \"=\"* 100\n",
    "print \"\\n\".join(spam.to_text)\n",
    "print \"\\nReceptores de ham\"\n",
    "print \"=\"* 100\n",
    "print \"\\n\".join(ham.to_text)\n"
   ]
  },
  {
   "cell_type": "code",
   "execution_count": 9,
   "metadata": {
    "collapsed": false
   },
   "outputs": [
    {
     "name": "stdout",
     "output_type": "stream",
     "text": [
      "[  4   0   1   2   5   3   7  10   6  28   9  13  18   8  38  14  11  16\n",
      "  15  27  82  39  12  24  56  63  17  34  25  42  52  20  22  41  32  86\n",
      "  40  43  33  69  23  76  77 124  47 125  29  26 135  85  19 101  71 110\n",
      "  83  48 138  68  74  21  37  36  31  53  50 107  72  49  84  35  96  30\n",
      "  92 112  66  44  75  57  46  64  73  54 148 126 123  99 114  79 150 111\n",
      "  91  80 102]\n"
     ]
    }
   ],
   "source": [
    "import re\n",
    "\n",
    "first_ham = ham.iloc[0]\n",
    "\n",
    "re.findall(r'<.*>', first_ham.to_text)\n",
    "\n",
    "print df.number_of_receivers.unique()"
   ]
  },
  {
   "cell_type": "code",
   "execution_count": 10,
   "metadata": {
    "collapsed": false
   },
   "outputs": [
    {
     "name": "stdout",
     "output_type": "stream",
     "text": [
      "NON ASCII totales: 240\n",
      "NON ASCII (spam): 240\n",
      "NON ASCII (ham): 0\n"
     ]
    }
   ],
   "source": [
    "\n",
    "print \"NON ASCII totales: {}\".format(np.count_nonzero(df.from_non_ascii))\n",
    "\n",
    "target\n",
    "\n",
    "print \"NON ASCII (spam): {}\".format(np.count_nonzero(df.from_non_ascii & target))\n",
    "print \"NON ASCII (ham): {}\".format( np.count_nonzero(df.from_non_ascii & np.logical_not(target)))\n",
    "\n"
   ]
  },
  {
   "cell_type": "markdown",
   "metadata": {},
   "source": [
    "# Distribución horaria y por día\n"
   ]
  },
  {
   "cell_type": "code",
   "execution_count": 11,
   "metadata": {
    "collapsed": false
   },
   "outputs": [
    {
     "data": {
      "text/plain": [
       "(array([ 305.,  287.,  675.,  888.,  739.,  710.,  314.,  132.]),\n",
       " array([  0.   ,   2.875,   5.75 ,   8.625,  11.5  ,  14.375,  17.25 ,\n",
       "         20.125,  23.   ]),\n",
       " <a list of 8 Patch objects>)"
      ]
     },
     "execution_count": 11,
     "metadata": {},
     "output_type": "execute_result"
    },
    {
     "data": {
      "image/png": "[encoded data removed]",
      "text/plain": [
       "<matplotlib.figure.Figure at 0x7ff91b93dad0>"
      ]
     },
     "metadata": {},
     "output_type": "display_data"
    }
   ],
   "source": [
    "ham = df[np.logical_not(target)]\n",
    "spam = df[target]\n",
    "\n",
    "hist(ham.hour, range=[0, 23], bins=8)"
   ]
  },
  {
   "cell_type": "code",
   "execution_count": 12,
   "metadata": {
    "collapsed": false
   },
   "outputs": [
    {
     "data": {
      "text/plain": [
       "(array([ 525.,  503.,  525.,  508.,  506.,  481.,  521.,  480.]),\n",
       " array([  0.   ,   2.875,   5.75 ,   8.625,  11.5  ,  14.375,  17.25 ,\n",
       "         20.125,  23.   ]),\n",
       " <a list of 8 Patch objects>)"
      ]
     },
     "execution_count": 12,
     "metadata": {},
     "output_type": "execute_result"
    },
    {
     "data": {
      "image/png": "[encoded data removed]",
      "text/plain": [
       "<matplotlib.figure.Figure at 0x7ff91c7e9850>"
      ]
     },
     "metadata": {},
     "output_type": "display_data"
    }
   ],
   "source": [
    "\n",
    "hist(spam.hour, range=[0, 23], bins=8)"
   ]
  },
  {
   "cell_type": "markdown",
   "metadata": {},
   "source": [
    "Podemos observar en los dos histogramas anteriores que mientras el spam se distribuye "
   ]
  },
  {
   "cell_type": "markdown",
   "metadata": {},
   "source": [
    "# Día del mes"
   ]
  },
  {
   "cell_type": "code",
   "execution_count": 13,
   "metadata": {
    "collapsed": false
   },
   "outputs": [
    {
     "data": {
      "text/plain": [
       "(array([ 711.,  773.,  682.,  702.,  753.,  829.,  996.,  832.,  869.,  952.]),\n",
       " array([  0. ,   3.1,   6.2,   9.3,  12.4,  15.5,  18.6,  21.7,  24.8,\n",
       "         27.9,  31. ]),\n",
       " <a list of 10 Patch objects>)"
      ]
     },
     "execution_count": 13,
     "metadata": {},
     "output_type": "execute_result"
    },
    {
     "data": {
      "image/png": "[encoded data removed]",
      "text/plain": [
       "<matplotlib.figure.Figure at 0x7ff91c8cf250>"
      ]
     },
     "metadata": {},
     "output_type": "display_data"
    }
   ],
   "source": [
    "hist(df.day_of_month)"
   ]
  },
  {
   "cell_type": "code",
   "execution_count": 14,
   "metadata": {
    "collapsed": false
   },
   "outputs": [
    {
     "data": {
      "text/plain": [
       "(array([ 373.,  412.,  332.,  382.,  388.,  399.,  489.,  451.,  364.,  459.]),\n",
       " array([  0. ,   3.1,   6.2,   9.3,  12.4,  15.5,  18.6,  21.7,  24.8,\n",
       "         27.9,  31. ]),\n",
       " <a list of 10 Patch objects>)"
      ]
     },
     "execution_count": 14,
     "metadata": {},
     "output_type": "execute_result"
    },
    {
     "data": {
      "image/png": "[encoded data removed]",
      "text/plain": [
       "<matplotlib.figure.Figure at 0x7ff91b8e7210>"
      ]
     },
     "metadata": {},
     "output_type": "display_data"
    }
   ],
   "source": [
    "hist(spam.day_of_month)"
   ]
  },
  {
   "cell_type": "code",
   "execution_count": 15,
   "metadata": {
    "collapsed": false
   },
   "outputs": [
    {
     "data": {
      "text/plain": [
       "(array([ 338.,  361.,  350.,  320.,  365.,  430.,  507.,  381.,  505.,  493.]),\n",
       " array([  1.,   4.,   7.,  10.,  13.,  16.,  19.,  22.,  25.,  28.,  31.]),\n",
       " <a list of 10 Patch objects>)"
      ]
     },
     "execution_count": 15,
     "metadata": {},
     "output_type": "execute_result"
    },
    {
     "data": {
      "image/png": "[encoded data removed]",
      "text/plain": [
       "<matplotlib.figure.Figure at 0x7ff91d01dfd0>"
      ]
     },
     "metadata": {},
     "output_type": "display_data"
    }
   ],
   "source": [
    "hist(ham.day_of_month)"
   ]
  },
  {
   "cell_type": "markdown",
   "metadata": {
    "collapsed": false
   },
   "source": [
    "# Día de la semana\n",
    "\n",
    "Veamos la distribución de spam en los días de la semana\n"
   ]
  },
  {
   "cell_type": "code",
   "execution_count": 16,
   "metadata": {
    "collapsed": false
   },
   "outputs": [
    {
     "data": {
      "text/plain": [
       "(array([ 546.,  656.,  625.,  636.,  599.,  502.,  485.]),\n",
       " array([ 0.        ,  0.85714286,  1.71428571,  2.57142857,  3.42857143,\n",
       "         4.28571429,  5.14285714,  6.        ]),\n",
       " <a list of 7 Patch objects>)"
      ]
     },
     "execution_count": 16,
     "metadata": {},
     "output_type": "execute_result"
    },
    {
     "data": {
      "image/png": "[encoded data removed]",
      "text/plain": [
       "<matplotlib.figure.Figure at 0x7ff91d303850>"
      ]
     },
     "metadata": {},
     "output_type": "display_data"
    }
   ],
   "source": [
    "\n",
    "hist(spam['weekday'], bins=7)"
   ]
  },
  {
   "cell_type": "code",
   "execution_count": 17,
   "metadata": {
    "collapsed": false
   },
   "outputs": [
    {
     "data": {
      "text/plain": [
       "(array([ 809.,  774.,  763.,  817.,  683.,   94.,  110.]),\n",
       " array([ 0.        ,  0.85714286,  1.71428571,  2.57142857,  3.42857143,\n",
       "         4.28571429,  5.14285714,  6.        ]),\n",
       " <a list of 7 Patch objects>)"
      ]
     },
     "execution_count": 17,
     "metadata": {},
     "output_type": "execute_result"
    },
    {
     "data": {
      "image/png": "[encoded data removed]",
      "text/plain": [
       "<matplotlib.figure.Figure at 0x7ff91d49db50>"
      ]
     },
     "metadata": {},
     "output_type": "display_data"
    }
   ],
   "source": [
    "hist(ham['weekday'], bins=7)"
   ]
  },
  {
   "cell_type": "markdown",
   "metadata": {},
   "source": [
    "# Año"
   ]
  },
  {
   "cell_type": "code",
   "execution_count": 18,
   "metadata": {
    "collapsed": false
   },
   "outputs": [
    {
     "data": {
      "text/plain": [
       "(array([  6.00000000e+00,   1.20000000e+01,   7.00000000e+00,\n",
       "          9.00000000e+00,   4.00000000e+00,   1.00000000e+01,\n",
       "          1.00000000e+01,   1.20000000e+01,   1.10000000e+01,\n",
       "          1.90000000e+01,   6.41000000e+02,   3.64400000e+03,\n",
       "          1.95400000e+03,   4.60000000e+01,   6.81000000e+02,\n",
       "          1.00400000e+03,   2.00000000e+00,   0.00000000e+00,\n",
       "          0.00000000e+00,   1.00000000e+00]),\n",
       " array([ 1990.,  1991.,  1992.,  1993.,  1994.,  1995.,  1996.,  1997.,\n",
       "         1998.,  1999.,  2000.,  2001.,  2002.,  2003.,  2004.,  2005.,\n",
       "         2006.,  2007.,  2008.,  2009.,  2010.]),\n",
       " <a list of 20 Patch objects>)"
      ]
     },
     "execution_count": 18,
     "metadata": {},
     "output_type": "execute_result"
    },
    {
     "data": {
      "image/png": "[encoded data removed]",
      "text/plain": [
       "<matplotlib.figure.Figure at 0x7ff91d2c9c10>"
      ]
     },
     "metadata": {},
     "output_type": "display_data"
    }
   ],
   "source": [
    "hist(df.year, range=[1990, 2010], bins=20, log=True)"
   ]
  },
  {
   "cell_type": "code",
   "execution_count": 19,
   "metadata": {
    "collapsed": false
   },
   "outputs": [
    {
     "data": {
      "text/plain": [
       "(array([  1.10000000e+01,   1.00000000e+00,   1.00000000e+00,\n",
       "          0.00000000e+00,   1.00000000e+00,   7.00000000e+00,\n",
       "          0.00000000e+00,   0.00000000e+00,   0.00000000e+00,\n",
       "          0.00000000e+00,   0.00000000e+00,   0.00000000e+00,\n",
       "          0.00000000e+00,   4.80000000e+01,   2.24100000e+03,\n",
       "          1.73300000e+03,   1.00000000e+00,   0.00000000e+00,\n",
       "          0.00000000e+00,   5.00000000e+00]),\n",
       " array([ 1898.,  1905.,  1912.,  1919.,  1926.,  1933.,  1940.,  1947.,\n",
       "         1954.,  1961.,  1968.,  1975.,  1982.,  1989.,  1996.,  2003.,\n",
       "         2010.,  2017.,  2024.,  2031.,  2038.]),\n",
       " <a list of 20 Patch objects>)"
      ]
     },
     "execution_count": 19,
     "metadata": {},
     "output_type": "execute_result"
    },
    {
     "data": {
      "image/png": "[encoded data removed]",
      "text/plain": [
       "<matplotlib.figure.Figure at 0x7ff91da95f90>"
      ]
     },
     "metadata": {},
     "output_type": "display_data"
    }
   ],
   "source": [
    "hist(spam.year, bins=20, log=True)"
   ]
  },
  {
   "cell_type": "code",
   "execution_count": 20,
   "metadata": {
    "collapsed": false
   },
   "outputs": [
    {
     "data": {
      "text/plain": [
       "(array([   10.,     0.,     0.,   626.,     0.,     0.,  2577.,     0.,\n",
       "            0.,   837.]),\n",
       " array([ 1999. ,  1999.3,  1999.6,  1999.9,  2000.2,  2000.5,  2000.8,\n",
       "         2001.1,  2001.4,  2001.7,  2002. ]),\n",
       " <a list of 10 Patch objects>)"
      ]
     },
     "execution_count": 20,
     "metadata": {},
     "output_type": "execute_result"
    },
    {
     "data": {
      "image/png": "[encoded data removed]",
      "text/plain": [
       "<matplotlib.figure.Figure at 0x7ff91c7c4190>"
      ]
     },
     "metadata": {},
     "output_type": "display_data"
    }
   ],
   "source": [
    "hist(ham.year, log=True)"
   ]
  },
  {
   "cell_type": "code",
   "execution_count": 21,
   "metadata": {
    "collapsed": false
   },
   "outputs": [
    {
     "data": {
      "text/plain": [
       "array([2000, 2001, 2002, 1999])"
      ]
     },
     "execution_count": 21,
     "metadata": {},
     "output_type": "execute_result"
    }
   ],
   "source": [
    "ham.year.unique()"
   ]
  },
  {
   "cell_type": "code",
   "execution_count": null,
   "metadata": {
    "collapsed": true
   },
   "outputs": [],
   "source": []
  },
  {
   "cell_type": "code",
   "execution_count": null,
   "metadata": {
    "collapsed": true
   },
   "outputs": [],
   "source": []
  }
 ],
 "metadata": {
  "kernelspec": {
   "display_name": "Python 2",
   "language": "python",
   "name": "python2"
  },
  "language_info": {
   "codemirror_mode": {
    "name": "ipython",
    "version": 2
   },
   "file_extension": ".py",
   "mimetype": "text/x-python",
   "name": "python",
   "nbconvert_exporter": "python",
   "pygments_lexer": "ipython2",
   "version": "2.7.12"
  }
 },
 "nbformat": 4,
 "nbformat_minor": 1
}
