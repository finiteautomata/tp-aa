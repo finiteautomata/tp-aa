{
 "cells": [
  {
   "cell_type": "code",
   "execution_count": 1,
   "metadata": {
    "collapsed": false
   },
   "outputs": [
    {
     "name": "stdout",
     "output_type": "stream",
     "text": [
      "Populating the interactive namespace from numpy and matplotlib\n",
      "Buscando dataframe en /home/marat/projects/tp-aa/cache/dataframe.pickle\n",
      "Encontrado. Dimensiones: (80995, 56)\n"
     ]
    }
   ],
   "source": [
    "# Esto agrega al python path el directorio ..\n",
    "#! coding: utf-8\n",
    "%pylab inline\n",
    "# Esto agrega al python path el directorio ..\n",
    "import sys\n",
    "sys.path.append(\"..\")\n",
    "\n",
    "import numpy as np\n",
    "import config\n",
    "from dataframe_builder import DataFrameBuilder\n",
    "\n",
    "builder = DataFrameBuilder()\n",
    "df = builder.build()"
   ]
  },
  {
   "cell_type": "markdown",
   "metadata": {
    "collapsed": false
   },
   "source": [
    "\n",
    "Conjunto a probar\n",
    "\n",
    "1)C in range [0:20] Dice el manual:Por default es uno. If you have a lot of noisy observations you should decrease it. It corresponds to regularize more the estimation.\n",
    "\n",
    "2)Kernels {'rbf ' ,' linear' ,' poly' ,'sigmoid'}  \n",
    "\n",
    "3) para poly podemos hacer un range de degrees, esa opcion va a ser ignorada por los otros kernels asi que podemos hacer degree in range[2:5]. Podemos elegis=r ademas si agregamos un coef0, o sea el termino independiente, no veo por que seria importnte por ahora eso.\n",
    "\n",
    "4)(REVISAR)Por default hay un parametro epsilon=0.1. Epsilon indica un rango de distancia que no sera considerado como penalidad, si el vector esta a espilon--ver\n",
    "\n",
    "decision_function(X)[source]\n",
    "Distance of the samples X to the separating hyperplane.\n",
    "Parameters:\t\n",
    "X : array-like, shape (n_samples, n_features)\n",
    "returns:\t\n",
    "X : array-like, shape (n_samples, n_classes * (n_classes-1) / 2)\n",
    "Returns the decision function of the sample for each class in the model. If decision_function_shape=’ovr’, the shape is (n_samples, n_classes)\n",
    "\n",
    "-Cuando fiteamos este modelo podemos elegir un sample weight, pero no creo que lo necesitemos ya que estan balanceados.\n",
    "\n"
   ]
  },
  {
   "cell_type": "code",
   "execution_count": 2,
   "metadata": {
    "collapsed": false
   },
   "outputs": [],
   "source": [
    "from sklearn.svm import SVC\n",
    "from sklearn.metrics.pairwise import chi2_kernel\n",
    "from sklearn.metrics.pairwise import laplacian_kernel\n",
    "\n",
    "\n",
    "options={\n",
    "    'kernel': ['rbf', 'linear', 'poly', 'sigmoid'], # poly tarda mucho, por ahi seria mejor hacerlo aparte\n",
    "    'C' : np.arange(0.1, 3, 0.1),\n",
    "    'degree' : range(2, 9),\n",
    "    #'gamma' : np.arange(0,1,0.1)\n",
    "}\n"
   ]
  },
  {
   "cell_type": "markdown",
   "metadata": {},
   "source": [
    "con los atributos.\n",
    "\n",
    "En el manual de sklearn dice: Proper choice of C and gamma is critical to the SVM’s performance. One is advised to use sklearn.grid_search.GridSearchCV with C and gamma spaced exponentially far apart to choose good values.\n",
    "\n",
    "\n",
    "Attributes:\t\n",
    "n_support_ : array-like, dtype=int32, shape = [n_class]\n",
    "Number of support vectors for each class.\n"
   ]
  },
  {
   "cell_type": "code",
   "execution_count": null,
   "metadata": {
    "collapsed": false
   },
   "outputs": [
    {
     "name": "stdout",
     "output_type": "stream",
     "text": [
      "Buscando parámetros para SVC\n"
     ]
    },
    {
     "name": "stderr",
     "output_type": "stream",
     "text": [
      "Process PoolWorker-14:\n",
      "Process PoolWorker-13:\n",
      "Traceback (most recent call last):\n",
      "Traceback (most recent call last):\n",
      "  File \"/home/marat/.pyenv/versions/2.7.11/lib/python2.7/multiprocessing/process.py\", line 258, in _bootstrap\n",
      "  File \"/home/marat/.pyenv/versions/2.7.11/lib/python2.7/multiprocessing/process.py\", line 258, in _bootstrap\n",
      "    self.run()\n",
      "    self.run()\n",
      "  File \"/home/marat/.pyenv/versions/2.7.11/lib/python2.7/multiprocessing/process.py\", line 114, in run\n",
      "  File \"/home/marat/.pyenv/versions/2.7.11/lib/python2.7/multiprocessing/process.py\", line 114, in run\n",
      "    self._target(*self._args, **self._kwargs)\n",
      "    self._target(*self._args, **self._kwargs)\n",
      "  File \"/home/marat/.pyenv/versions/2.7.11/lib/python2.7/multiprocessing/pool.py\", line 102, in worker\n",
      "    task = get()\n",
      "  File \"/home/marat/.pyenv/versions/2.7.11/lib/python2.7/multiprocessing/pool.py\", line 102, in worker\n",
      "  File \"/home/marat/.pyenv/versions/2.7.11/envs/aprendizaje/lib/python2.7/site-packages/sklearn/externals/joblib/pool.py\", line 357, in get\n",
      "    task = get()\n",
      "    racquire()\n",
      "  File \"/home/marat/.pyenv/versions/2.7.11/envs/aprendizaje/lib/python2.7/site-packages/sklearn/externals/joblib/pool.py\", line 359, in get\n",
      "    return recv()\n",
      "KeyboardInterrupt\n",
      "KeyboardInterrupt\n",
      "Process PoolWorker-15:\n",
      "Process PoolWorker-16:\n",
      "Traceback (most recent call last):\n",
      "  File \"/home/marat/.pyenv/versions/2.7.11/lib/python2.7/multiprocessing/process.py\", line 258, in _bootstrap\n",
      "Traceback (most recent call last):\n",
      "    self.run()\n",
      "  File \"/home/marat/.pyenv/versions/2.7.11/lib/python2.7/multiprocessing/process.py\", line 258, in _bootstrap\n",
      "  File \"/home/marat/.pyenv/versions/2.7.11/lib/python2.7/multiprocessing/process.py\", line 114, in run\n",
      "    self._target(*self._args, **self._kwargs)\n",
      "    self.run()\n",
      "  File \"/home/marat/.pyenv/versions/2.7.11/lib/python2.7/multiprocessing/pool.py\", line 102, in worker\n",
      "  File \"/home/marat/.pyenv/versions/2.7.11/lib/python2.7/multiprocessing/process.py\", line 114, in run\n",
      "    task = get()\n",
      "    self._target(*self._args, **self._kwargs)\n",
      "  File \"/home/marat/.pyenv/versions/2.7.11/envs/aprendizaje/lib/python2.7/site-packages/sklearn/externals/joblib/pool.py\", line 359, in get\n",
      "  File \"/home/marat/.pyenv/versions/2.7.11/lib/python2.7/multiprocessing/pool.py\", line 102, in worker\n",
      "    task = get()\n",
      "    return recv()\n",
      "  File \"/home/marat/.pyenv/versions/2.7.11/envs/aprendizaje/lib/python2.7/site-packages/sklearn/externals/joblib/pool.py\", line 357, in get\n",
      "KeyboardInterrupt\n",
      "    racquire()\n",
      "KeyboardInterrupt\n",
      "Process PoolWorker-17:\n",
      "Process PoolWorker-18:\n",
      "Traceback (most recent call last):\n",
      "Traceback (most recent call last):\n",
      "  File \"/home/marat/.pyenv/versions/2.7.11/lib/python2.7/multiprocessing/process.py\", line 258, in _bootstrap\n",
      "  File \"/home/marat/.pyenv/versions/2.7.11/lib/python2.7/multiprocessing/process.py\", line 258, in _bootstrap\n",
      "    self.run()\n",
      "    self.run()\n",
      "  File \"/home/marat/.pyenv/versions/2.7.11/lib/python2.7/multiprocessing/process.py\", line 114, in run\n",
      "  File \"/home/marat/.pyenv/versions/2.7.11/lib/python2.7/multiprocessing/process.py\", line 114, in run\n",
      "    self._target(*self._args, **self._kwargs)\n",
      "  File \"/home/marat/.pyenv/versions/2.7.11/lib/python2.7/multiprocessing/pool.py\", line 102, in worker\n",
      "    self._target(*self._args, **self._kwargs)\n",
      "    task = get()\n",
      "  File \"/home/marat/.pyenv/versions/2.7.11/lib/python2.7/multiprocessing/pool.py\", line 102, in worker\n",
      "  File \"/home/marat/.pyenv/versions/2.7.11/envs/aprendizaje/lib/python2.7/site-packages/sklearn/externals/joblib/pool.py\", line 359, in get\n",
      "    task = get()\n",
      "    return recv()\n",
      "  File \"/home/marat/.pyenv/versions/2.7.11/envs/aprendizaje/lib/python2.7/site-packages/sklearn/externals/joblib/pool.py\", line 357, in get\n",
      "    racquire()\n",
      "KeyboardInterrupt\n",
      "KeyboardInterrupt\n",
      "Process PoolWorker-19:\n",
      "Process PoolWorker-20:\n",
      "Traceback (most recent call last):\n",
      "Traceback (most recent call last):\n",
      "  File \"/home/marat/.pyenv/versions/2.7.11/lib/python2.7/multiprocessing/process.py\", line 258, in _bootstrap\n",
      "  File \"/home/marat/.pyenv/versions/2.7.11/lib/python2.7/multiprocessing/process.py\", line 258, in _bootstrap\n",
      "    self.run()\n",
      "    self.run()\n",
      "  File \"/home/marat/.pyenv/versions/2.7.11/lib/python2.7/multiprocessing/process.py\", line 114, in run\n",
      "  File \"/home/marat/.pyenv/versions/2.7.11/lib/python2.7/multiprocessing/process.py\", line 114, in run\n",
      "    self._target(*self._args, **self._kwargs)\n",
      "    self._target(*self._args, **self._kwargs)\n",
      "  File \"/home/marat/.pyenv/versions/2.7.11/lib/python2.7/multiprocessing/pool.py\", line 102, in worker\n",
      "  File \"/home/marat/.pyenv/versions/2.7.11/lib/python2.7/multiprocessing/pool.py\", line 102, in worker\n",
      "    task = get()\n",
      "    task = get()\n",
      "  File \"/home/marat/.pyenv/versions/2.7.11/envs/aprendizaje/lib/python2.7/site-packages/sklearn/externals/joblib/pool.py\", line 359, in get\n",
      "  File \"/home/marat/.pyenv/versions/2.7.11/envs/aprendizaje/lib/python2.7/site-packages/sklearn/externals/joblib/pool.py\", line 357, in get\n",
      "    return recv()\n",
      "    racquire()\n",
      "KeyboardInterrupt\n",
      "KeyboardInterrupt\n",
      "Process PoolWorker-22:\n",
      "Process PoolWorker-21:\n",
      "Traceback (most recent call last):\n",
      "Traceback (most recent call last):\n",
      "  File \"/home/marat/.pyenv/versions/2.7.11/lib/python2.7/multiprocessing/process.py\", line 258, in _bootstrap\n",
      "  File \"/home/marat/.pyenv/versions/2.7.11/lib/python2.7/multiprocessing/process.py\", line 258, in _bootstrap\n",
      "    self.run()\n",
      "  File \"/home/marat/.pyenv/versions/2.7.11/lib/python2.7/multiprocessing/process.py\", line 114, in run\n",
      "    self.run()\n",
      "    self._target(*self._args, **self._kwargs)\n",
      "  File \"/home/marat/.pyenv/versions/2.7.11/lib/python2.7/multiprocessing/process.py\", line 114, in run\n",
      "  File \"/home/marat/.pyenv/versions/2.7.11/lib/python2.7/multiprocessing/pool.py\", line 102, in worker\n",
      "    self._target(*self._args, **self._kwargs)\n",
      "    task = get()\n",
      "  File \"/home/marat/.pyenv/versions/2.7.11/envs/aprendizaje/lib/python2.7/site-packages/sklearn/externals/joblib/pool.py\", line 357, in get\n",
      "  File \"/home/marat/.pyenv/versions/2.7.11/lib/python2.7/multiprocessing/pool.py\", line 102, in worker\n",
      "    task = get()\n",
      "    racquire()\n",
      "  File \"/home/marat/.pyenv/versions/2.7.11/envs/aprendizaje/lib/python2.7/site-packages/sklearn/externals/joblib/pool.py\", line 357, in get\n",
      "KeyboardInterrupt\n",
      "    racquire()\n",
      "KeyboardInterrupt\n"
     ]
    }
   ],
   "source": [
    "from search import find_best_classifier\n",
    "\n",
    "classifier = find_best_classifier(\n",
    "    df, SVC, clf_args={'max_iter':150}, param_distributions=options, \n",
    "    scoring='roc_auc', cv=10, n_jobs=6, n_iter=300)    "
   ]
  },
  {
   "cell_type": "code",
   "execution_count": null,
   "metadata": {
    "collapsed": true
   },
   "outputs": [],
   "source": [
    "get_scores(classifier)"
   ]
  }
 ],
 "metadata": {
  "anaconda-cloud": {},
  "kernelspec": {
   "display_name": "Python 2",
   "language": "python",
   "name": "python2"
  },
  "language_info": {
   "codemirror_mode": {
    "name": "ipython",
    "version": 2
   },
   "file_extension": ".py",
   "mimetype": "text/x-python",
   "name": "python",
   "nbconvert_exporter": "python",
   "pygments_lexer": "ipython2",
   "version": "2.7.11"
  }
 },
 "nbformat": 4,
 "nbformat_minor": 1
}
