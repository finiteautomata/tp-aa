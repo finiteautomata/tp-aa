{
 "cells": [
  {
   "cell_type": "markdown",
   "metadata": {},
   "source": [
    "# Arboles de Decisión\n"
   ]
  },
  {
   "cell_type": "code",
   "execution_count": 1,
   "metadata": {
    "collapsed": false
   },
   "outputs": [
    {
     "name": "stdout",
     "output_type": "stream",
     "text": [
      "Leyendo archivos...\n"
     ]
    }
   ],
   "source": [
    "# Esto agrega al python path el directorio ..\n",
    "import sys\n",
    "sys.path.append(\"..\")\n",
    "\n",
    "import json\n",
    "import numpy as np\n",
    "from sklearn.tree import DecisionTreeClassifier\n",
    "from dataframe_builder import DataFrameBuilder\n",
    "# Ignorar Warning de sklearn (no es importante)\n",
    "import warnings\n",
    "warnings.filterwarnings('ignore',\n",
    "                        message='Changing the shape of non-C contiguous array')\n",
    "\n",
    "\n",
    "print \"Leyendo archivos...\"\n",
    "\n",
    "\n",
    "builder = DataFrameBuilder()\n",
    "df = builder.build(ham=json.load(open('../data/ham_dev.json')), spam=json.load(open('../data/spam_dev.json')))\n"
   ]
  },
  {
   "cell_type": "markdown",
   "metadata": {},
   "source": [
    "Saco la columna de text porque ocupa mucho espacio"
   ]
  },
  {
   "cell_type": "code",
   "execution_count": 2,
   "metadata": {
    "collapsed": false
   },
   "outputs": [
    {
     "data": {
      "text/plain": [
       "17.959059715270996"
      ]
     },
     "execution_count": 2,
     "metadata": {},
     "output_type": "execute_result"
    }
   ],
   "source": [
    "import sys\n",
    "df.drop('text', axis=1, inplace=True)\n",
    "sys.getsizeof(df) / (2.0**20)"
   ]
  },
  {
   "cell_type": "markdown",
   "metadata": {},
   "source": [
    "\n",
    "Algunas observaciones previas:\n",
    "\n",
    "El árbol que se genera no es usando ID3 sino CART. Una pequeña introducción\n",
    "se puede ver en\n",
    "\n",
    "http://scikit-learn.org/stable/modules/tree.html#tree-algorithms-id3-c4-5-c5-0-and-cart\n",
    "\n",
    "No está muy completo el asunto ahí, habría que hurgar algún paper extra\n",
    "\n",
    "Opciones:\n",
    "\n",
    "- criterion: gini o entropy. Son dos medidas distintas\n",
    "- splitter: No estoy muy seguro\n",
    "- max_depth: máxima profundidad del árbol\n",
    "- max_features: qué porcentaje de variables tomo a la hora de partir un nodo.\n",
    "  Estas variables se eligen aleatoriamente\n",
    "- min_samples_split: cuántos elementos tengo que tener en un nodo para decidir\n",
    "  partirlo"
   ]
  },
  {
   "cell_type": "code",
   "execution_count": 5,
   "metadata": {
    "collapsed": false
   },
   "outputs": [
    {
     "name": "stdout",
     "output_type": "stream",
     "text": [
      "================================================================================\n",
      "\n",
      "Scoring precision\n",
      "Mejor combinación: {'min_samples_split': 92, 'splitter': 'random', 'criterion': 'entropy', 'max_depth': 2, 'max_features': 0.90000000000000013}\n",
      "Mejor valor: 0.970907736081\n",
      "================================================================================\n",
      "\n",
      "Scoring accuracy\n",
      "Mejor combinación: {'min_samples_split': 2, 'splitter': 'best', 'criterion': 'entropy', 'max_depth': 42, 'max_features': 0.90000000000000013}\n",
      "Mejor valor: 0.946873263782\n",
      "================================================================================\n",
      "\n",
      "Scoring f1\n",
      "Mejor combinación: {'min_samples_split': 2, 'splitter': 'best', 'criterion': 'entropy', 'max_depth': 34, 'max_features': 0.50000000000000011}\n",
      "Mejor valor: 0.947818524103\n"
     ]
    }
   ],
   "source": [
    "from sklearn.grid_search import GridSearchCV, RandomizedSearchCV\n",
    "\n",
    "options = {\n",
    "    'criterion': ['gini', 'entropy'],\n",
    "    'splitter': ['best', 'random'],\n",
    "    'max_depth': range(2, 52, 8),\n",
    "    'max_features': np.arange(0.1, 1.0, 0.2),\n",
    "    'min_samples_split': range(2, 102, 10),\n",
    "}\n",
    "\n",
    "# Preparo data para clasificar\n",
    "X = df[builder.list_of_attributes].values\n",
    "y = df['class'] == 'spam'\n",
    "\n",
    "for scoring in ['precision', 'accuracy', 'f1']:\n",
    "    clf = DecisionTreeClassifier()\n",
    "\n",
    "    print(\"=\" * 80 + \"\\n\")\n",
    "    print(\"Scoring {}\".format(scoring))\n",
    "\n",
    "    #search = GridSearchCV(clf, scoring=scoring, param_grid=options, n_jobs=4)\n",
    "    search = RandomizedSearchCV(clf, scoring=scoring, param_distributions=options, n_jobs=4, n_iter=200)\n",
    "    \n",
    "    search.fit(X, y)\n",
    "\n",
    "    print \"Mejor combinación: {}\".format(search.best_params_)\n",
    "    print \"Mejor valor: {}\".format(search.best_score_)\n"
   ]
  },
  {
   "cell_type": "code",
   "execution_count": null,
   "metadata": {
    "collapsed": true
   },
   "outputs": [],
   "source": []
  }
 ],
 "metadata": {
  "kernelspec": {
   "display_name": "Python 2",
   "language": "python",
   "name": "python2"
  },
  "language_info": {
   "codemirror_mode": {
    "name": "ipython",
    "version": 2
   },
   "file_extension": ".py",
   "mimetype": "text/x-python",
   "name": "python",
   "nbconvert_exporter": "python",
   "pygments_lexer": "ipython2",
   "version": "2.7.11"
  }
 },
 "nbformat": 4,
 "nbformat_minor": 1
}
