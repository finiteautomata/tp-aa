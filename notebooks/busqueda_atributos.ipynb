{
 "cells": [
  {
   "cell_type": "markdown",
   "metadata": {},
   "source": [
    "# Búsqueda de atributos\n",
    "\n",
    "Esta notebook es para generar nuevos atributos para el dataframe\n"
   ]
  },
  {
   "cell_type": "code",
   "execution_count": 1,
   "metadata": {
    "collapsed": false
   },
   "outputs": [
    {
     "name": "stdout",
     "output_type": "stream",
     "text": [
      "Populating the interactive namespace from numpy and matplotlib\n"
     ]
    }
   ],
   "source": [
    "%pylab inline\n",
    "# Esto agrega al python path el directorio ..\n",
    "import sys\n",
    "sys.path.append(\"..\")\n",
    "import re\n",
    "import numpy as np\n",
    "import config\n",
    "import dateutil\n",
    "from transformers import transformer\n",
    "from data_builder import load_test_data, load_dev_data, load_small_dev_data\n",
    "\n",
    "\n",
    "df, target = load_small_dev_data()"
   ]
  },
  {
   "cell_type": "markdown",
   "metadata": {},
   "source": [
    "# From y to\n",
    "\n",
    "Veamos la pinta de los remitentes y recipientes\n",
    "\n",
    "Primero, agarro algo de spam y ham.\n",
    "\n",
    "Acá seteo muchos atributos que están metidos en `transformers`"
   ]
  },
  {
   "cell_type": "code",
   "execution_count": 2,
   "metadata": {
    "collapsed": false
   },
   "outputs": [],
   "source": [
    "receivers = df.parsed_emails.apply(lambda p: p.get_all(\"To\") or p.get_all(\"to\") or [])\n",
    "senders = df.parsed_emails.apply(lambda p: p.get_all(\"From\") or p.get_all(\"from\") or [])\n",
    "\n",
    "def join_mails(t):\n",
    "    return \";\".join(t)\n",
    "\n",
    "def is_ascii(s):\n",
    "    try:\n",
    "        s.encode('ascii')\n",
    "        return True\n",
    "    except UnicodeDecodeError:\n",
    "        return False\n",
    "    \n",
    "def parse_date(parsed_mail):\n",
    "    try:\n",
    "        date = parsed_mail.get('Date') or parsed_mail.get('date')\n",
    "        return dateutil.parser.parse(date, fuzzy_with_tokens=True)[0]\n",
    "    except (ValueError, AttributeError):\n",
    "        return None\n",
    "\n",
    "\n",
    "df['from_text'] = senders.apply(join_mails)\n",
    "df['to_text'] = receivers.apply(join_mails)\n",
    "df['number_of_receivers'] = df['to_text'].apply(lambda t: len(re.findall(r'<.*>', t)))\n",
    "df['from_non_ascii'] = df.from_text.apply(lambda f: not is_ascii(f))"
   ]
  },
  {
   "cell_type": "code",
   "execution_count": 3,
   "metadata": {
    "collapsed": false
   },
   "outputs": [],
   "source": [
    "import random\n",
    "dates = df.parsed_emails.apply(parse_date)\n",
    "\n",
    "df['hour'] = dates.apply(lambda t: t.hour if t else random.choice(range(24)))\n",
    "df['hour_between_7_and_20'] = df['hour'].apply(lambda h: h >= 7 and h <= 21)\n",
    "\n",
    "\n",
    "df['day_of_month'] = dates.apply(\n",
    "    lambda d: d.day if d else random.choice(range(29))\n",
    ")\n",
    "\n",
    "df['weekday'] = dates.apply(\n",
    "    lambda d: d.weekday() if d else random.choice(range(6))\n",
    ")\n",
    "\n",
    "df['is_weekend'] = df.weekday >= 5\n",
    "\n",
    "df['year'] = dates.apply(\n",
    "    lambda d: d.year if d else random.choice(range(1990, 2005))\n",
    ")\n"
   ]
  },
  {
   "cell_type": "code",
   "execution_count": 4,
   "metadata": {
    "collapsed": false
   },
   "outputs": [],
   "source": [
    "spam = df[target].sample(30)\n",
    "ham = df[target == False].sample(30)\n",
    "\n"
   ]
  },
  {
   "cell_type": "code",
   "execution_count": 5,
   "metadata": {
    "collapsed": false
   },
   "outputs": [
    {
     "name": "stdout",
     "output_type": "stream",
     "text": [
      "Enviadores de spam\n",
      "====================================================================================================\n",
      "\"Jolene Jamison\" <egaky@canimation.com>\n",
      "Paul A. Davis <heeralal@2buyorsellahouse.com>\n",
      "ftp.dti.ad.jp manresa.net <kai-dick@sw.seisy.abb.ses>\n",
      "=?koi8-r?B?7cHSyc7J3sXXIOUu9C4=?= <6epcw@aav90.neoplus.adsl.tpnet.pl>\n",
      "security@rbcroyalbank.com <security@rbcroyalbank.com>\n",
      "\"kristie martinez\" <kmartinez_cw#####-by.de>\n",
      "\"Deann Nix\" <deann_nix_tq@modrahvezda.cz>\n",
      "\"stockwire newsblast\" <newsblast#####>\n",
      "\"arturo brunson\" <otdifhggrklp#####>\n",
      "\"laptop for you\" <elirader#####>\n",
      "\"carl  christiansen\" <oosomr@[82.158.185.190]>\n",
      "Fern Schwartz <iohtyphvlj@free-hosting.lt>\n",
      "\"Juanita Humphrey\" <rzjgcqmpcl@excite.es>\n",
      "\"magalhaes rodrigo\" <biene#####>\n",
      "\"ada kennedy\" <colorate7#####>\n",
      "\"qrigdyaybz\" <qrigdyaybz#####>\n",
      "\"erica grünberg\" <ellengruber#####>\n",
      "Hema@Izhuta.com\n",
      "Paul A. Davis <corey@access.mountain.net>\n",
      "\"Magdalen Fenton\" <sapphirepace@dsl-verizon.net>\n",
      "Osbourn <mikail@mail15.com>\n",
      "oynkznhfqeiyohwq@biggiemsn.com\n",
      "\"brucegzbruceg\" <brucegzbruceg3z@ms13.hinet.net>\n",
      "SteepSavers@vailresorts.com\n",
      "\"jessie mccoy\" <zbvpsyax#####>\n",
      "\"maria\" <gewsales#####>\n",
      "\"¼³¹®ÀÌº¥Æ®\" <fine@dsjkfeiiien.ro.to>\n",
      "\"bill.williams.III@enron.com\" <szYrtF@msa.hinet.net>\n",
      "spyros <marcy@access.net.ph>\n",
      "\"bree\" <soyadent#####>\n",
      "\n",
      "\n",
      "Enviadores de ham\n",
      "====================================================================================================\n",
      "\"Baughman, Edward\" <Edward.Baughman@ENRON.com>\n",
      "\"Mrha, Jean\" <Jean.Mrha@ENRON.com>\n",
      "\"Lokay, Michelle\" <Michelle.Lokay@ENRON.com>\n",
      "hea#####\n",
      "ami.chokshi#####\n",
      "Carolyn Ashley <Cashley@poha.com>\n",
      "vince.kaminski#####\n",
      "\"Brodeur, Stephane\" <Stephane.Brodeur@ENRON.com>\n",
      "\"Laurel Hazzard\" <lhazzard@firstam.com>\n",
      "julius.zajda#####\n",
      "tom.acton#####\n",
      "h..douglas#####\n",
      "EDIS Email Service <edismail@incident.com>\n",
      "\"Cook, Mary\" <Mary.Cook@ENRON.com>\n",
      "\"Oxley, David\" <David.Oxley@ENRON.com>\n",
      "bob.shults#####\n",
      "\"Engeldorf, Roseann\" <Roseann.Engeldorf@ENRON.com>\n",
      "pete.davis#####\n",
      "anita.dupont#####\n",
      "postmaster@ENRON.com\n",
      "\"Underwood, Thomas\" <thomas.underwood@ENRON.com>\n",
      "\"Howard, Kevin A.\" <Kevin.Howard@ENRON.com>\n",
      "\"Nelson, Michelle\" <Michelle.Nelson@ENRON.com>\n",
      "\"Williams, Amelia\" <Amelia.Williams@ENRON.com>\n",
      "\"Yoho, Lisa\" <Lisa.Yoho@ENRON.com>\n",
      "Schedule Crawler<pete.davis@enron.com>\n",
      "\"David Shank\" <david.shank@penobscot.net>\n",
      "\"Vakharia, Adarsh\" <Adarsh.Vakharia@ENRON.com>\n",
      "c..hall#####\n",
      "grace.rodriguez#####\n"
     ]
    }
   ],
   "source": [
    "print \"Enviadores de spam\"\n",
    "print \"=\"* 100\n",
    "print \"\\n\".join(spam.from_text)\n",
    "print \"\\n\\nEnviadores de ham\"\n",
    "print \"=\"* 100\n",
    "print \"\\n\".join(ham.from_text)\n"
   ]
  },
  {
   "cell_type": "code",
   "execution_count": 6,
   "metadata": {
    "collapsed": false,
    "scrolled": false
   },
   "outputs": [
    {
     "name": "stdout",
     "output_type": "stream",
     "text": [
      "Receptores de spam\n",
      "====================================================================================================\n",
      "<btychol@ect.enron.com>\n",
      "Michelle.lokay@enron.com\n",
      "lavorato@ENRON.COM\n",
      "lindy.donoho <lindy.donoho@enron.com>\n",
      "Lindy.Donoho@ENRON.com\n",
      "<paliourg#####>\n",
      "mcuilla@ect.enron.com, mcuilla@ect.enron.com\n",
      "<paliourg#####>\n",
      "<paliourg#####>,\r\n",
      "\t<vangelis#####>,\r\n",
      "\t<varou#####>\n",
      "<paliourg#####>\n",
      "<paliourg#####>\n",
      "ryan.slinger <ryan.slinger@enron.com>\n",
      "tracy.geaccone@enron.com\n",
      "\"smoes marco\" <##########>\n",
      "<paliourg#####>\n",
      "<derm#####>\n",
      "##########\n",
      "SKean@enron.com\n",
      "barry.tycholiz@enron.com\n",
      "\"Jeremiah Thurstan\" <Joe.Parks@bridgeline.net>\n",
      "monika.causholli@enron.com\n",
      "xxmdswmdbmuflbbp@biggiemsn.com\n",
      "\"pplatte\" <pplatte@enron.com>\n",
      "plucci@ENRON.COM\n",
      "<paliourg#####>\n",
      "<paliourg#####>\n",
      "mgrigsb@enron.com\n",
      "bill.williams.III@enron.com\n",
      "Rod.Hayslett@enron.com\n",
      "##########\n",
      "\n",
      "Receptores de ham\n",
      "====================================================================================================\n",
      "\"Belden, Tim\" <Tim.Belden@ENRON.com>,\n",
      "\t\"Racicot, Paul\" <Paul_Racicot@ENRON.net>,\n",
      "\t\"May, Tom\" <Tom.May@ENRON.com>,\n",
      "\t\"Semperger, Cara\" <Cara.Semperger@ENRON.com>,\n",
      "\t\"Elafandi, Mo\" <Mo.Elafandi@ENRON.com>,\n",
      "\t\"Purcell, Mike\" <Mike.Purcell@ENRON.com>\n",
      "\"Kitchen, Louise\" <Louise.Kitchen@ENRON.com>\n",
      "\"McConnell, Mark\" <Mark_mcconnell@enron.net>\n",
      "mlokay#####\n",
      "daren.farmer#####\n",
      "\"'dana.davis@enron.com'\" <dana.davis@enron.com>\n",
      "iris.mack#####\n",
      "\"Bronstein, Mara\" <Mara.Bronstein@ENRON.com>\n",
      "\"'Matt.Smith@ENRON.com'\" <Matt.Smith@ENRON.com>\n",
      "vince.kaminski#####\n",
      "susan.smith#####\n",
      "louise.kitchen#####\n",
      "EDIS-by-Email@incident.com\n",
      "\"Shackleton, Sara\" <Sara.Shackleton@ENRON.com>\n",
      "\"Kitchen, Louise\" <Louise.Kitchen@ENRON.com>\n",
      "awais.omar#####, sally.beck#####\n",
      "\"Mann, Kay\" <Kay.Mann@enron.com>\n",
      "pete.davis#####\n",
      "vince.kaminski#####\n",
      "Tana.Jones@ENRON.com\n",
      "\"Abel, Chris\" <Chris.Abel@ENRON.com>,\n",
      "\t\"Keiser, Kam\" <Kam.Keiser@ENRON.com>\n",
      "\"Gadd, Eric\" <Eric.Gadd@ENRON.com>,\n",
      "\t\"Watson, Kimberly\" <Kimberly.Watson@ENRON.com>,\n",
      "\t\"McCarty, Danny\" <Danny.McCarty@ENRON.com>\n",
      "\"Maggi, Mike\" <Mike.Maggi@ENRON.com>\n",
      "\"Allen, Kelly\" <Kelly.Allen@ENRON.com>,\n",
      "\t\"Attasseril , Finney\" <Finney_Attasseril@ENRON.NET>,\n",
      "\t\"Baker, Henry\" <Henry.Baker@ENRON.com>,\n",
      "\t\"Baker, Lee\" <Lee.Baker@ENRON.com>,\n",
      "\t\"Barnes, Caroline\" <Caroline.Barnes@ENRON.com>,\n",
      "\t\"Bayley, Bruce\" <Bruce.Bayley@ENRON.com>,\n",
      "\t\"Brabham, Miriam\" <Miriam_Brabham@ENRON.net>,\n",
      "\t\"Brasher, Barney\" <Barney.Brasher@ENRON.com>,\n",
      "\t\"Cernoch, Leon\" <Leon.Cernoch@ENRON.com>,\n",
      "\t\"Concklin, Elaine\" <Elaine.Concklin@ENRON.com>,\n",
      "\t\"Culwell, Christi\" <Christi.Culwell@ENRON.com>,\n",
      "\t\"Fletcher, Frankie\" <Frankie.Fletcher@ENRON.com>,\n",
      "\t\"Geheb, Robert\" <Robert.Geheb@ENRON.com>,\n",
      "\t\"Goradia, Pallavi\" <Pallavi.Goradia@ENRON.com>,\n",
      "\t\"Hernandez, Dahlia\" <Dahlia.Hernandez@ENRON.com>,\n",
      "\t\"Jameson, Betty\" <Betty.Jameson@ENRON.com>,\n",
      "\t\"Jones, Vera\" <Vera.Jones@ENRON.com>,\n",
      "\t\"Kilmer III, Robert\" <Robert.Kilmer@ENRON.com>,\n",
      "\t\"Lichtenwalter, Blair\" <Blair.Lichtenwalter@ENRON.com>,\n",
      "\t\"Lokey, Teb\" <Teb.Lokey@ENRON.com>,\n",
      "\t\"Loyd Jr., Talbert\" <Talbert.Loyd@ENRON.com>,\n",
      "\t\"Navarro, Silvia\" <Silvia.Navarro@ENRON.com>,\n",
      "\t\"Northcutt, Judy\" <Judy.Northcutt@ENRON.com>,\n",
      "\t\"Palma, Larry\" <Larry.Palma@ENRON.com>,\n",
      "\t\"Paschal, Zelda\" <Zelda.Paschal@ENRON.com>,\n",
      "\t\"Patel, Sophie\" <Sophie.Patel@ENRON.com>,\n",
      "\t\"Perales, Maria\" <Maria.Perales@ENRON.com>,\n",
      "\t\"Prendergast, Pat\" <Pat.Prendergast@ENRON.com>,\n",
      "\t\"Richard, Teronna\" <Teronna.Richard@ENRON.com>,\n",
      "\t\"Schroeder, Maggie\" <Maggie.Schroeder@ENRON.com>,\n",
      "\t\"Smilenova, Rositza\" <Rositza.Smilenova@ENRON.com>,\n",
      "\t\"Thompson, Debra\" <Debbie.Thompson@ENRON.com>,\n",
      "\t\"Veatch, Stephen\" <Stephen.Veatch@ENRON.com>,\n",
      "\t\"Adame, Robert\" <Robert.Adame@ENRON.com>,\n",
      "\t\"Bayles, Timothy\" <Timothy.Bayles@ENRON.com>,\n",
      "\t\"Bickerstaff, Rene\" <Rene.Bickerstaff@ENRON.com>,\n",
      "\t\"Bragg, Kimberly\" <Kimberly.Bragg@ENRON.com>,\n",
      "\t\"Carethers, Ann\" <Ann.Carethers@ENRON.com>,\n",
      "\t\"Carriere, Frank\" <Frank.Carriere@ENRON.com>,\n",
      "\t\"Cisneros, Maria\" <Maria.Cisneros@ENRON.com>,\n",
      "\t\"Clennon, Dawn\" <Dawn.Clennon@ENRON.com>,\n",
      "\t\"Daniels, Diane\" <Diane.Daniels@ENRON.com>,\n",
      "\t\"Davis, Kasey\" <Kasey.Davis@ENRON.com>,\n",
      "\t\"Dimacali, Aurora\" <Aurora.Dimacali@ENRON.com>,\n",
      "\t\"Elizondo, Rudolph\" <Rudolph.Elizondo@ENRON.com>,\n",
      "\t\"Escamilla, Linda\" <Linda.Escamilla@ENRON.com>,\n",
      "\t\"Fancler, Dan\" <Dan.Fancler@ENRON.com>,\n",
      "\t\"Hubbard, Mary\" <Mary.Hubbard@ENRON.com>,\n",
      "\t\"Ivey, Hoyt\" <Hoyt.Ivey@ENRON.com>,\n",
      "\t\"Joe, Allen\" <Allen.Joe@ENRON.com>,\n",
      "\t\"Jolibois, Anne\" <Anne.Jolibois@ENRON.com>,\n",
      "\t\"Kennell, Amanda\" <Amanda.Kennell@ENRON.com>,\n",
      "\t\"Lin, Judy\" <Judy.Lin@ENRON.com>,\n",
      "\t\"Lyman, Jane\" <Jane.Lyman@ENRON.com>,\n",
      "\t\"Meerbott, Trey\" <Trey.Meerbott@ENRON.com>,\n",
      "\t\"Miller, Robert\" <Robert.Miller@ENRON.com>,\n",
      "\t\"Moseley, Debbie\" <Debbie.Moseley@ENRON.com>,\n",
      "\t\"Patterson, Sonya\" <Sonya.Patterson@ENRON.com>,\n",
      "\t\"Pham, Daniel \" <Daniel.Pham@ENRON.com>,\n",
      "\t\"Porter, Theresa\" <Theresa.Porter@ENRON.com>,\n",
      "\t\"Rainbow, Traci E.\" <Traci.E.Rainbow@ENRON.com>,\n",
      "\t\"Santellan, Dan\" <Dan.Santellan@ENRON.com>,\n",
      "\t\"Shupe, Jacob\" <Jacob.Shupe@ENRON.com>,\n",
      "\t\"Sutton, Lisa\" <Lisa.Sutton@ENRON.com>,\n",
      "\t\"Villela, Joe\" <Joe.Villela@ENRON.com>,\n",
      "\t\"Walters Jr., Harry\" <Harry.Walters@ENRON.com>,\n",
      "\t\"Walton, Mark\" <Mark.Walton@ENRON.com>,\n",
      "\t\"Youngson, Karen\" <Karen.Youngson@ENRON.com>\n",
      "\"Shapiro, Richard\" <Richard.Shapiro@ENRON.com>\n",
      "pete.davis@enron.com\n",
      "\"Smith, Matt\" <Matt.Smith@ENRON.com>\n",
      "\"Beck, Sally\" <Sally.Beck@ENRON.com>,\n",
      "\t\"Buy, Rick\" <Rick.Buy@ENRON.com>,\n",
      "\t\"Causey, Richard\" <Richard.Causey@ENRON.com>,\n",
      "\t\"Colwell, Wes\" <Wes.Colwell@ENRON.com>,\n",
      "\t\"Dawson, Brian K.\" <Brian.K.Dawson@ENRON.com>,\n",
      "\t\"Erwin, Jill\" <Jill.Erwin@ENRON.com>,\n",
      "\t\"Frevert, Mark\" <Mark.Frevert@ENRON.com>,\n",
      "\t\"Garland, Kevin\" <Kevin.Garland@ENRON.com>,\n",
      "\t\"Gorte, David\" <David.Gorte@ENRON.com>,\n",
      "\t\"Hudson, L'Sheryl\" <L'Sheryl.Hudson@ENRON.com>,\n",
      "\t\"Ibarra, Felipe\" <Felipe.Ibarra@ENRON.com>,\n",
      "\t\"Knight, Krysti\" <Krysti.Knight@ENRON.com>,\n",
      "\t\"Lamb, Marnie\" <Marnie.Lamb@ENRON.com>,\n",
      "\t\"Lebeau, Maria\" <Maria.LeBeau@ENRON.com>,\n",
      "\t\"Lindsey, Mark E.\" <Mark.E.Lindsey@ENRON.com>,\n",
      "\t\"Lydecker Jr., Richard\" <Richard.Lydecker@ENRON.com>,\n",
      "\t\"Mckillop, Gordon\" <Gordon.McKillop@ENRON.com>,\n",
      "\t\"Murphy, Ted\" <ted.murphy@enron.com>,\n",
      "\t\"Nicholie, Suzanne\" <Suzanne.Nicholie@ENRON.com>,\n",
      "\t\"Paige, Barbara\" <Barbara.Paige@ENRON.com>,\n",
      "\t\"Reasoner, Monica\" <Monica.Reasoner@ENRON.com>,\n",
      "\t\"Savala, Lea\" <Lea.Savala@ENRON.com>,\n",
      "\t\"Shannon, Patricia\" <Patricia.Shannon@ENRON.com>,\n",
      "\t\"Skilling, Jeff\" <Jeff.Skilling@ENRON.com>,\n",
      "\t\"Smith, Stephanie\" <Stephanie.Smith@ENRON.com>,\n",
      "\t\"Sullo, Sharon E\" <Sharon.E.Sullo@ENRON.com>,\n",
      "\t\"Vargas, Hope\" <Hope.Vargas@ENRON.com>,\n",
      "\t\"Wilson, Shona\" <Shona.Wilson@ENRON.com>,\n",
      "\t\"Winfrey, Christa\" <Christa.Winfrey@ENRON.com>\n",
      "tim.belden#####, greg.wolfe#####, h..foster#####, \r\n",
      "\tmichael.etringer#####, bill.williams#####, \r\n",
      "\tstanley.cocke#####, lester.rawson#####, \r\n",
      "\talan.comnes#####, m..king#####, paul.choi#####, \r\n",
      "\tstewart.rosman#####, elliot.mainzer#####, \r\n",
      "\tjesse.bryson#####, jeff.richter#####\n",
      "desk.portland#####\n"
     ]
    }
   ],
   "source": [
    "print \"Receptores de spam\"\n",
    "print \"=\"* 100\n",
    "print \"\\n\".join(spam.to_text)\n",
    "print \"\\nReceptores de ham\"\n",
    "print \"=\"* 100\n",
    "print \"\\n\".join(ham.to_text)\n"
   ]
  },
  {
   "cell_type": "code",
   "execution_count": 7,
   "metadata": {
    "collapsed": false
   },
   "outputs": [
    {
     "name": "stdout",
     "output_type": "stream",
     "text": [
      "[  4   0   1   2   5   3   7  10   6  28   9  13  18   8  38  14  11  16\n",
      "  15  27  82  39  12  24  56  63  17  34  25  42  52  20  22  41  32  86\n",
      "  40  43  33  69  23  76  77 124  47 125  29  26 135  85  19 101  71 110\n",
      "  83  48 138  68  74  21  37  36  31  53  50 107  72  49  84  35  96  30\n",
      "  92 112  66  44  75  57  46  64  73  54 148 126 123  99 114  79 150 111\n",
      "  91  80 102]\n"
     ]
    }
   ],
   "source": [
    "import re\n",
    "\n",
    "first_ham = ham.iloc[0]\n",
    "\n",
    "re.findall(r'<.*>', first_ham.to_text)\n",
    "\n",
    "print df.number_of_receivers.unique()"
   ]
  },
  {
   "cell_type": "code",
   "execution_count": 8,
   "metadata": {
    "collapsed": false
   },
   "outputs": [
    {
     "name": "stdout",
     "output_type": "stream",
     "text": [
      "NON ASCII totales: 240\n",
      "NON ASCII (spam): 240\n",
      "NON ASCII (ham): 0\n"
     ]
    }
   ],
   "source": [
    "\n",
    "print \"NON ASCII totales: {}\".format(np.count_nonzero(df.from_non_ascii))\n",
    "\n",
    "target\n",
    "\n",
    "print \"NON ASCII (spam): {}\".format(np.count_nonzero(df.from_non_ascii & target))\n",
    "print \"NON ASCII (ham): {}\".format( np.count_nonzero(df.from_non_ascii & np.logical_not(target)))\n",
    "\n"
   ]
  },
  {
   "cell_type": "markdown",
   "metadata": {},
   "source": [
    "# Distribución horaria y por día\n"
   ]
  },
  {
   "cell_type": "code",
   "execution_count": 10,
   "metadata": {
    "collapsed": false
   },
   "outputs": [
    {
     "data": {
      "text/plain": [
       "(array([ 304.,  287.,  676.,  888.,  739.,  710.,  314.,  132.]),\n",
       " array([  0.   ,   2.875,   5.75 ,   8.625,  11.5  ,  14.375,  17.25 ,\n",
       "         20.125,  23.   ]),\n",
       " <a list of 8 Patch objects>)"
      ]
     },
     "execution_count": 10,
     "metadata": {},
     "output_type": "execute_result"
    },
    {
     "data": {
      "image/png": "[encoded data removed]",
      "text/plain": [
       "<matplotlib.figure.Figure at 0x7fc6f1d3fdd0>"
      ]
     },
     "metadata": {},
     "output_type": "display_data"
    }
   ],
   "source": [
    "import matplotlib.pyplot as plt\n",
    "\n",
    "ham = df[np.logical_not(target)]\n",
    "spam = df[target]\n",
    "\n",
    "\n",
    "hist(ham.hour, range=[0, 23], bins=8)"
   ]
  },
  {
   "cell_type": "code",
   "execution_count": 11,
   "metadata": {
    "collapsed": false
   },
   "outputs": [
    {
     "data": {
      "text/plain": [
       "(array([ 531.,  503.,  526.,  511.,  503.,  477.,  521.,  477.]),\n",
       " array([  0.   ,   2.875,   5.75 ,   8.625,  11.5  ,  14.375,  17.25 ,\n",
       "         20.125,  23.   ]),\n",
       " <a list of 8 Patch objects>)"
      ]
     },
     "execution_count": 11,
     "metadata": {},
     "output_type": "execute_result"
    },
    {
     "data": {
      "image/png": "[encoded data removed]",
      "text/plain": [
       "<matplotlib.figure.Figure at 0x7fc6f0b1b910>"
      ]
     },
     "metadata": {},
     "output_type": "display_data"
    }
   ],
   "source": [
    "\n",
    "hist(spam.hour, range=[0, 23], bins=8)"
   ]
  },
  {
   "cell_type": "markdown",
   "metadata": {},
   "source": [
    "Podemos observar en los dos histogramas anteriores que mientras el spam se distribuye "
   ]
  },
  {
   "cell_type": "markdown",
   "metadata": {},
   "source": [
    "# Día del mes"
   ]
  },
  {
   "cell_type": "code",
   "execution_count": 12,
   "metadata": {
    "collapsed": false
   },
   "outputs": [
    {
     "data": {
      "text/plain": [
       "(array([ 713.,  766.,  685.,  698.,  763.,  822.,  994.,  833.,  871.,  954.]),\n",
       " array([  0. ,   3.1,   6.2,   9.3,  12.4,  15.5,  18.6,  21.7,  24.8,\n",
       "         27.9,  31. ]),\n",
       " <a list of 10 Patch objects>)"
      ]
     },
     "execution_count": 12,
     "metadata": {},
     "output_type": "execute_result"
    },
    {
     "data": {
      "image/png": "[encoded data removed]",
      "text/plain": [
       "<matplotlib.figure.Figure at 0x7fc6f09d1c90>"
      ]
     },
     "metadata": {},
     "output_type": "display_data"
    }
   ],
   "source": [
    "hist(df.day_of_month)"
   ]
  },
  {
   "cell_type": "code",
   "execution_count": 13,
   "metadata": {
    "collapsed": false
   },
   "outputs": [
    {
     "data": {
      "text/plain": [
       "(array([ 375.,  405.,  335.,  378.,  398.,  392.,  487.,  452.,  366.,  461.]),\n",
       " array([  0. ,   3.1,   6.2,   9.3,  12.4,  15.5,  18.6,  21.7,  24.8,\n",
       "         27.9,  31. ]),\n",
       " <a list of 10 Patch objects>)"
      ]
     },
     "execution_count": 13,
     "metadata": {},
     "output_type": "execute_result"
    },
    {
     "data": {
      "image/png": "[encoded data removed]",
      "text/plain": [
       "<matplotlib.figure.Figure at 0x7fc6f07dc490>"
      ]
     },
     "metadata": {},
     "output_type": "display_data"
    }
   ],
   "source": [
    "hist(spam.day_of_month)"
   ]
  },
  {
   "cell_type": "code",
   "execution_count": 14,
   "metadata": {
    "collapsed": false
   },
   "outputs": [
    {
     "data": {
      "text/plain": [
       "(array([ 338.,  361.,  350.,  320.,  365.,  430.,  507.,  381.,  505.,  493.]),\n",
       " array([  0. ,   3.1,   6.2,   9.3,  12.4,  15.5,  18.6,  21.7,  24.8,\n",
       "         27.9,  31. ]),\n",
       " <a list of 10 Patch objects>)"
      ]
     },
     "execution_count": 14,
     "metadata": {},
     "output_type": "execute_result"
    },
    {
     "data": {
      "image/png": "[encoded data removed]",
      "text/plain": [
       "<matplotlib.figure.Figure at 0x7fc6f0742290>"
      ]
     },
     "metadata": {},
     "output_type": "display_data"
    }
   ],
   "source": [
    "hist(ham.day_of_month)"
   ]
  },
  {
   "cell_type": "markdown",
   "metadata": {
    "collapsed": false
   },
   "source": [
    "# Día de la semana\n",
    "\n",
    "Veamos la distribución de spam en los días de la semana\n"
   ]
  },
  {
   "cell_type": "code",
   "execution_count": 15,
   "metadata": {
    "collapsed": false
   },
   "outputs": [
    {
     "data": {
      "text/plain": [
       "(array([ 546.,  647.,  632.,  626.,  609.,  504.,  485.]),\n",
       " array([ 0.        ,  0.85714286,  1.71428571,  2.57142857,  3.42857143,\n",
       "         4.28571429,  5.14285714,  6.        ]),\n",
       " <a list of 7 Patch objects>)"
      ]
     },
     "execution_count": 15,
     "metadata": {},
     "output_type": "execute_result"
    },
    {
     "data": {
      "image/png": "[encoded data removed]",
      "text/plain": [
       "<matplotlib.figure.Figure at 0x7fc6f07e6950>"
      ]
     },
     "metadata": {},
     "output_type": "display_data"
    }
   ],
   "source": [
    "\n",
    "hist(spam['weekday'], bins=7)"
   ]
  },
  {
   "cell_type": "code",
   "execution_count": 16,
   "metadata": {
    "collapsed": false
   },
   "outputs": [
    {
     "data": {
      "text/plain": [
       "(array([ 809.,  774.,  763.,  817.,  683.,   94.,  110.]),\n",
       " array([ 0.        ,  0.85714286,  1.71428571,  2.57142857,  3.42857143,\n",
       "         4.28571429,  5.14285714,  6.        ]),\n",
       " <a list of 7 Patch objects>)"
      ]
     },
     "execution_count": 16,
     "metadata": {},
     "output_type": "execute_result"
    },
    {
     "data": {
      "image/png": "[encoded data removed]",
      "text/plain": [
       "<matplotlib.figure.Figure at 0x7fc6f0653ed0>"
      ]
     },
     "metadata": {},
     "output_type": "display_data"
    }
   ],
   "source": [
    "hist(ham['weekday'], bins=7)"
   ]
  },
  {
   "cell_type": "markdown",
   "metadata": {},
   "source": [
    "# Año"
   ]
  },
  {
   "cell_type": "code",
   "execution_count": 17,
   "metadata": {
    "collapsed": false
   },
   "outputs": [
    {
     "data": {
      "text/plain": [
       "(array([  4.00000000e+00,   1.60000000e+01,   9.00000000e+00,\n",
       "          1.00000000e+01,   8.00000000e+00,   1.10000000e+01,\n",
       "          8.00000000e+00,   1.00000000e+01,   9.00000000e+00,\n",
       "          2.00000000e+01,   6.36000000e+02,   3.64600000e+03,\n",
       "          1.95400000e+03,   3.90000000e+01,   6.86000000e+02,\n",
       "          1.00400000e+03,   2.00000000e+00,   0.00000000e+00,\n",
       "          0.00000000e+00,   1.00000000e+00]),\n",
       " array([ 1990.,  1991.,  1992.,  1993.,  1994.,  1995.,  1996.,  1997.,\n",
       "         1998.,  1999.,  2000.,  2001.,  2002.,  2003.,  2004.,  2005.,\n",
       "         2006.,  2007.,  2008.,  2009.,  2010.]),\n",
       " <a list of 20 Patch objects>)"
      ]
     },
     "execution_count": 17,
     "metadata": {},
     "output_type": "execute_result"
    },
    {
     "data": {
      "image/png": "[encoded data removed]",
      "text/plain": [
       "<matplotlib.figure.Figure at 0x7fc6f051dfd0>"
      ]
     },
     "metadata": {},
     "output_type": "display_data"
    }
   ],
   "source": [
    "hist(df.year, range=[1990, 2010], bins=20, log=True)"
   ]
  },
  {
   "cell_type": "code",
   "execution_count": 18,
   "metadata": {
    "collapsed": false
   },
   "outputs": [
    {
     "data": {
      "text/plain": [
       "(array([  1.10000000e+01,   1.00000000e+00,   1.00000000e+00,\n",
       "          0.00000000e+00,   1.00000000e+00,   7.00000000e+00,\n",
       "          0.00000000e+00,   0.00000000e+00,   0.00000000e+00,\n",
       "          0.00000000e+00,   0.00000000e+00,   0.00000000e+00,\n",
       "          0.00000000e+00,   5.80000000e+01,   2.23300000e+03,\n",
       "          1.73100000e+03,   1.00000000e+00,   0.00000000e+00,\n",
       "          0.00000000e+00,   5.00000000e+00]),\n",
       " array([ 1898.,  1905.,  1912.,  1919.,  1926.,  1933.,  1940.,  1947.,\n",
       "         1954.,  1961.,  1968.,  1975.,  1982.,  1989.,  1996.,  2003.,\n",
       "         2010.,  2017.,  2024.,  2031.,  2038.]),\n",
       " <a list of 20 Patch objects>)"
      ]
     },
     "execution_count": 18,
     "metadata": {},
     "output_type": "execute_result"
    },
    {
     "data": {
      "image/png": "[encoded data removed]",
      "text/plain": [
       "<matplotlib.figure.Figure at 0x7fc6f044b290>"
      ]
     },
     "metadata": {},
     "output_type": "display_data"
    }
   ],
   "source": [
    "hist(spam.year, bins=20, log=True)"
   ]
  },
  {
   "cell_type": "code",
   "execution_count": 19,
   "metadata": {
    "collapsed": false
   },
   "outputs": [
    {
     "data": {
      "text/plain": [
       "(array([   11.,     0.,     0.,   626.,     0.,     0.,  2576.,     0.,\n",
       "            0.,   837.]),\n",
       " array([ 1999. ,  1999.3,  1999.6,  1999.9,  2000.2,  2000.5,  2000.8,\n",
       "         2001.1,  2001.4,  2001.7,  2002. ]),\n",
       " <a list of 10 Patch objects>)"
      ]
     },
     "execution_count": 19,
     "metadata": {},
     "output_type": "execute_result"
    },
    {
     "data": {
      "image/png": "[encoded data removed]",
      "text/plain": [
       "<matplotlib.figure.Figure at 0x7fc6f01dd410>"
      ]
     },
     "metadata": {},
     "output_type": "display_data"
    }
   ],
   "source": [
    "hist(ham.year, log=True)"
   ]
  },
  {
   "cell_type": "code",
   "execution_count": 20,
   "metadata": {
    "collapsed": false
   },
   "outputs": [
    {
     "data": {
      "text/plain": [
       "array([2000, 2001, 2002, 1999])"
      ]
     },
     "execution_count": 20,
     "metadata": {},
     "output_type": "execute_result"
    }
   ],
   "source": [
    "ham.year.unique()"
   ]
  },
  {
   "cell_type": "code",
   "execution_count": null,
   "metadata": {
    "collapsed": true
   },
   "outputs": [],
   "source": []
  },
  {
   "cell_type": "code",
   "execution_count": null,
   "metadata": {
    "collapsed": true
   },
   "outputs": [],
   "source": []
  }
 ],
 "metadata": {
  "kernelspec": {
   "display_name": "Python 2",
   "language": "python",
   "name": "python2"
  },
  "language_info": {
   "codemirror_mode": {
    "name": "ipython",
    "version": 2
   },
   "file_extension": ".py",
   "mimetype": "text/x-python",
   "name": "python",
   "nbconvert_exporter": "python",
   "pygments_lexer": "ipython2",
   "version": "2.7.12"
  }
 },
 "nbformat": 4,
 "nbformat_minor": 1
}
