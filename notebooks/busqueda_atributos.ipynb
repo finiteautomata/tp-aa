{
 "cells": [
  {
   "cell_type": "markdown",
   "metadata": {},
   "source": [
    "# Búsqueda de atributos\n",
    "\n",
    "Esta notebook es para generar nuevos atributos para el dataframe\n"
   ]
  },
  {
   "cell_type": "code",
   "execution_count": 1,
   "metadata": {
    "collapsed": false
   },
   "outputs": [
    {
     "name": "stdout",
     "output_type": "stream",
     "text": [
      "Populating the interactive namespace from numpy and matplotlib\n",
      "Armando dataframe...\n",
      "Dataframe construído\n",
      "Dimensiones: (9000, 80)\n",
      "Index([u'class', u'text', u'multipart/mixed', u'text/html',\n",
      "       u'multipart/alternative', u'text/plain', u'multipart/related',\n",
      "       u'multipart/report', u'text/plain charset=\"us-ascii\"',\n",
      "       u'text/html charset=iso-8859-1', u'application/vnd.ms-excel',\n",
      "       u'message/rfc822', u'text/enriched', u'text/richtext', u'image/pjpeg',\n",
      "       u'application/msword', u'application/octet-stream', u'len', u'spaces',\n",
      "       u'has_html', u'has_original_message', u'has_dear', u'has_friend',\n",
      "       u'has_hello', u'has_$', u'has_earn', u'has_investment', u'has_profit',\n",
      "       u'has_profits', u'has_credit', u'has_opportunity', u'has_income',\n",
      "       u'has_cost', u'has_promotion', u'has_why pay more?', u'has_f r e e',\n",
      "       u'has_click', u'has_add', u'has_meet singles', u'has_viagra',\n",
      "       u'has_sex', u'has_penis', u'has_vagina', u'has_pussy', u'has_fuck',\n",
      "       u'has_girl', u'has_erect', u'has_enlargement', u'has_free', u'has_cc:',\n",
      "       u'has_gif', u'has_help', u'has_photo', u'has_video', u'has_http',\n",
      "       u'has_dollar', u'has_million', u'has_|', u'has_nigeria',\n",
      "       u'has_password', u'has_of', u'has_bill', u'has_it's time', u'has_sale',\n",
      "       u'has_hi', u'has_-->', u'has_weight', u'has_lose', u'has_administrator',\n",
      "       u'has_order', u'has_clearance', u'to', u'from', u'from_text',\n",
      "       u'to_text', u'number_of_receivers', u'from_non_ascii', u'date', u'hour',\n",
      "       u'hour_between_7_and_20'],\n",
      "      dtype='object')\n"
     ]
    }
   ],
   "source": [
    "%pylab inline\n",
    "import sys\n",
    "sys.path.append(\"..\")\n",
    "\n",
    "import numpy as np\n",
    "import config\n",
    "from dataframe_builder import load_test_dataframe\n",
    "\n",
    "df = load_test_dataframe(cache=False, delete_text=False).dataframe\n",
    "\n",
    "print df.columns"
   ]
  },
  {
   "cell_type": "markdown",
   "metadata": {},
   "source": [
    "# From y to\n",
    "\n",
    "Veamos la pinta de los remitentes y recipientes\n",
    "\n",
    "Primero, agarro algo de spam y ham"
   ]
  },
  {
   "cell_type": "code",
   "execution_count": 2,
   "metadata": {
    "collapsed": false
   },
   "outputs": [],
   "source": [
    "\n",
    "spam = df[df['class'] == 'spam'].sample(30)\n",
    "ham = df[df['class'] == 'ham'].sample(30)\n"
   ]
  },
  {
   "cell_type": "code",
   "execution_count": 3,
   "metadata": {
    "collapsed": false
   },
   "outputs": [
    {
     "name": "stdout",
     "output_type": "stream",
     "text": [
      "Enviadores de spam\n",
      "====================================================================================================\n",
      "=?Windows-1251?B?INHw7vft7g==?= <chakkala@yahoo.com>\n",
      "\"gewrg\" <gmgdk@yahoo.com>\n",
      "\"Kasey Goss\" <kgoss@allaban.fr>\n",
      "\"azic2nrftr\" <azic2nrftr@yahoo.co.kr>\n",
      "\"computron\" <khatun#####>\n",
      "\"¼y¯¬¨â¶g¦~100mb½u¸ô\" <rsycyz@ciaoweb.it>\n",
      "bernardmcarthy150#####\n",
      "\"lakisha quintero\" <ilorhxl#####>\n",
      "\"<¹«·áÀÚ·á>\" <oopo2323k@com.ne.kr>\n",
      "Noreply <noreply@usg-jobsupport.com>\n",
      "\"Chris Crowley\" <Chamberswbd@netscape.net>\n",
      "\"brian benton\" <flora.preston#####>\n",
      "\"Scoffed F. Tunisia\" <tucker@tlcfan.com>\n",
      "\"roxie mckee\" <hqvlsknhck#####>\n",
      "Nigel <abeli@publicist.com>\n",
      "\"Lobo Rossana\" <Hariadi@goodgirlz.com>\n",
      "\"armando metcalf\" <natalie_archer#####>\n",
      "\"hong\" <jml#####>\n",
      "\"misty \" <alfonsodyad4211020#####>\n",
      "order <Keri@brars.org.uk>\n",
      "\"Lola Pham\" <lola.pham@posta.hu>\n",
      "<241933#####>\n",
      "\"Merle Griffin\" <efknmdpkrulaxk@joesnyc.streetnine.com>\n",
      "\"julia merritt\" <honosh#####>\n",
      "\"david\" <david#####>\n",
      "\"customer support\" <support#####>\n",
      "\"damien putnam\" <jacobus@songwriterstipjar.net>\n",
      "\"casandra austin\" <stesha@killerfrogs.com>\n",
      "\"SatisfyHer\" <uLol@YoURLivELYEntERTaInmENtNEW.neT>\n",
      "=?windows-1251?B?z8jCT8LA0M3f?= <792jana@21trader.com>\n",
      "\n",
      "\n",
      "Enviadores de ham\n",
      "====================================================================================================\n",
      "\"Gray, Barbara N.\" <Barbara.N.Gray@ENRON.com>\n",
      "sally.beck#####\n",
      "\"Deffner, Joseph\" <Joseph.Deffner@ENRON.com>\n",
      "CPTDOUGIE@aol.com\n",
      "\"George, Fraisy\" <Fraisy.George@ENRON.com>\n",
      "oasis502@apsc.com\n",
      "VentureWire Alert <alert@venturewire.com>\n",
      "ron.matthews#####\n",
      "brad.richter#####\n",
      "pete.davis#####\n",
      "christie.patrick#####\n",
      "vance.taylor#####\n",
      "\"Grisaffi, Mary\" <Mary.Grisaffi@ENRON.com>\n",
      "\"Mendoza, Nidia\" <Nidia.Mendoza@ENRON.com>\n",
      "\"Allison, John\" <John.Allison@ENRON.com>\n",
      "mkhenderson#####-energy.com\n",
      "#####.announcements#####\n",
      "\"Caudell, Greg\" <Greg.Caudell@ENRON.com>\n",
      "10KWizard <support@tenkwizard.com>\n",
      "sean.doherty@ey.com\n",
      "\"Lakho, Shahnaz\" <Shahnaz.Lakho@ENRON.com>\n",
      "don.miller#####\n",
      "kim.theriot#####\n",
      "\"McFarland, Jean\" <Jean.McFarland@ENRON.com>\n",
      "Charles Bone <cbone@sath.com>\n",
      "rahil.jafry#####\n",
      "\"Alport, Kysa\" <Kysa.Alport@ENRON.com>\n",
      "\"Jafry, Rahil\" <Rahil.Jafry@ENRON.com>\n",
      "\"Abel, Chris\" <Chris.Abel@ENRON.com>\n",
      "Ralph Reed <ralph@censtrat.com>\n"
     ]
    }
   ],
   "source": [
    "print \"Enviadores de spam\"\n",
    "print \"=\"* 100\n",
    "print \"\\n\".join(spam.from_text)\n",
    "print \"\\n\\nEnviadores de ham\"\n",
    "print \"=\"* 100\n",
    "print \"\\n\".join(ham.from_text)\n"
   ]
  },
  {
   "cell_type": "code",
   "execution_count": 4,
   "metadata": {
    "collapsed": false,
    "scrolled": false
   },
   "outputs": [
    {
     "name": "stdout",
     "output_type": "stream",
     "text": [
      "Receptores de spam\n",
      "====================================================================================================\n",
      "MIKE.SWERZBIN@ENRON.COM\n",
      "Sean.Crandall@enron.com\n",
      "mwhitt@ect.enron.com\n",
      "Vladi.Pimenov@ENRON.com\n",
      "<paliourg#####>\n",
      "kkeiser@ect.enron.com\n",
      "\n",
      "<paliourg#####>\n",
      "Joe.Parks@ENRON.com\n",
      "Martin.Cuilla <Martin.Cuilla@Enron.com>\n",
      "equity@enron.com, KRUSCIT@enron.com\n",
      "\"kenelm madison\" <paliourg#####>\n",
      "Larry.Campbell <Larry.Campbell@ENRON.com>\n",
      "<vangelis#####>\n",
      "PAUL.T.LUCCI@ENRON.COM\n",
      "\"Ungureanu Iulian\" <btychol@ect.enron.com>\n",
      "<adam#####>\n",
      "##########\n",
      "<paliourg#####>\n",
      "mhaedic@ect.enron.com\n",
      "scranda@ect.enron.com\n",
      "<paliourg#####>\n",
      "\"Geoff.Storey\" <Geoff.Storey@enron.com>;Geoff.Storey@enron.com\n",
      "<paliourg#####>\n",
      "<paliourg#####>\n",
      "\"paliourg\" <paliourg#####>\n",
      "\"Terry Castenanos\" <Mark_McConnell@enron.com>\n",
      "\"Latonya Campbell\" <MATT.MOTLEY@enron.com>\n",
      "Diana.Scholtes@ENRON.com\n",
      "emclaug@enron.com\n",
      "\n",
      "Receptores de ham\n",
      "====================================================================================================\n",
      "\"Ogden, Mary\" <Mary.Ogden@ENRON.com>,\n",
      "\t\"Bailey, Susan\" <Susan.Bailey@ENRON.com>\n",
      "louise.kitchen#####\n",
      "\"Mintz, Jordan\" <Jordan.Mintz@ENRON.com>,\n",
      "\t\"Redmond, Brian\" <Brian.Redmond@ENRON.com>,\n",
      "\t\"Hodge, Jeffrey T.\" <Jeffrey.T.Hodge@ENRON.com>\n",
      "Susan.Bailey@enron.com\n",
      "\"Abraham, Sunil\" <Sunil.Abraham@ENRON.com>,\n",
      "\t\"Alatorre, Carlos\" <Carlos.Alatorre@ENRON.com>,\n",
      "\t\"Allario, John\" <John.Allario@ENRON.com>,\n",
      "\t\"Barnard, Marla\" <Marla_Barnard@ENRON.net>,\n",
      "\t\"Beck, Sally\" <Sally.Beck@ENRON.com>,\n",
      "\t\"Belden, Tim\" <Tim.Belden@ENRON.com>,\n",
      "\t\"Bowen Jr., Raymond\" <Raymond.Bowen@ENRON.com>,\n",
      "\t\"Brackett, Debbie R.\" <Debbie.R.Brackett@ENRON.com>,\n",
      "\t\"Bradford, William S.\" <William.S.Bradford@ENRON.com>,\n",
      "\t\"Bridges, Michael\" <Michael.Bridges@ENRON.com>,\n",
      "\t\"Brown, Michael - COO London\" <michael.r.brown@enron.com>,\n",
      "\t\"Cannon, Lydia\" <Lydia.Cannon@ENRON.com>,\n",
      "\t\"Connelly, Angela\" <angela.connelly@enron.com>,\n",
      "\t\"Crane, Bob\" <Bob.Crane@ENRON.com>,\n",
      "\t\"Cummings, John\" <John.Cummings@ENRON.com>,\n",
      "\t\"Delgado, Deborah\" <Deborah.Delgado@ENRON.com>,\n",
      "\t\"Deluca, Bryan\" <Bryan.Deluca@ENRON.com>,\n",
      "\t\"Denne, Karen\" <Karen.Denne@ENRON.com>,\n",
      "\t\"Denny, Jennifer\" <Jennifer.DeBoisblanc.Denny@ENRON.com>,\n",
      "\t\"Diamond, Daniel\" <Daniel.Diamond@ENRON.com>,\n",
      "\t\"Eichmann, Marc\" <Marc.Eichmann@ENRON.com>,\n",
      "\t\"Fallon, Jim\" <Jim.Fallon@ENRON.com>,\n",
      "\t\"Frevert, Mark\" <Mark.Frevert@ENRON.com>,\n",
      "\t\"Garner, Bruce\" <bruce.garner@enron.com>,\n",
      "\t\"Gentle, Jackie\" <jackie.gentle@enron.com>,\n",
      "\t\"George, Fraisy\" <Fraisy.George@ENRON.com>,\n",
      "\t\"Gold, Joe\" <joe.gold@enron.com>,\n",
      "\t\"Grant, Fiona\" <fiona.grant@enron.com>,\n",
      "\t\"Haedicke, Mark E.\" <Mark.Haedicke@ENRON.com>,\n",
      "\t\"Hermans, Greg\" <Greg.Hermans@ENRON.com>,\n",
      "\t\"Heuertz, Kelly\" <Kelly.Heuertz@ENRON.com>,\n",
      "\t\"Hillis, Kimberly\" <Kimberly.Hillis@ENRON.com>,\n",
      "\t\"Hirl, Joseph\" <joseph.p.hirl@enron.com>,\n",
      "\t\"Jones, Tim\" <tim.r.jones@enron.com>,\n",
      "\t\"Kean, Steven J.\" <steve.kean@enron.com>,\n",
      "\t\"Kitchen, Louise\" <Louise.Kitchen@ENRON.com>,\n",
      "\t\"Koenig, Mark\" <Mark.Koenig@ENRON.com>,\n",
      "\t\"Lay, Kenneth\" <Kenneth.Lay@ENRON.com>,\n",
      "\t\"Leboe, David\" <David.Leboe@ENRON.com>,\n",
      "\t\"Levy, Laura\" <Laura.Levy@ENRON.com>,\n",
      "\t\"Lewis, Richard\" <richard.lewis@enron.com>,\n",
      "\t\"Lien, Thor\" <thor.lien@enron.com>,\n",
      "\t\"Mcclellan, George\" <George.McClellan@ENRON.com>,\n",
      "\t\"Mcconnell, Mike\" <Mike.McConnell@ENRON.com>,\n",
      "\t\"Mcgowan, Kevin\" <Kevin.McGowan@ENRON.com>,\n",
      "\t\"McKinney, Lara\" <lara.mckinney@enron.com>,\n",
      "\t\"McMahon, Jeffrey\" <Jeffrey.McMahon@ENRON.com>,\n",
      "\t\"Mesquita, Ross\" <Ross.Mesquita@ENRON.com>,\n",
      "\t\"Meyer, Vance\" <Vance.Meyer@ENRON.com>,\n",
      "\t\"Moorer, Torrey\" <Torrey.Moorer@ENRON.com>,\n",
      "\t\"Nowlan Jr., John L.\" <John.L.Nowlan@ENRON.com>,\n",
      "\t\"Oliver, Jennifer\" <jennifer.oliver@enron.com>,\n",
      "\t\"Pacheco, Leonardo\" <Leonardo.Pacheco@ENRON.com>,\n",
      "\t\"Palmer, Mark S. (ENW)\" <Mark.S.Palmer@ENRON.com>,\n",
      "\t\"Parsons, Alex\" <alex.parsons@enron.com>,\n",
      "\t\"Philipp, Meredith\" <Meredith.Philipp@ENRON.com>,\n",
      "\t\"Puthigai, Savita\" <Savita.Puthigai@ENRON.com>,\n",
      "\t\"Quilkey, Paul\" <paul.quilkey@enron.com>,\n",
      "\t\"Reck, Daniel\" <Daniel.Reck@ENRON.com>,\n",
      "\t\"Renaud, Lindsay\" <Lindsay.Renaud@ENRON.com>,\n",
      "\t\"Richter, Brad\" <Brad.Richter@ENRON.com>,\n",
      "\t\"Rieker, Paula\" <Paula.Rieker@ENRON.com>,\n",
      "\t\"Rosado, Jennifer\" <Jennifer.Rosado@ENRON.com>,\n",
      "\t\"Rostant, Justin\" <Justin.Rostant@ENRON.com>,\n",
      "\t\"Schoppe, Tammie\" <Tammie.Schoppe@ENRON.com>,\n",
      "\t\"Shah, Kal\" <Kal.Shah@ENRON.com>,\n",
      "\t\"Shankman, Jeffrey A.\" <Jeffrey.A.Shankman@ENRON.com>,\n",
      "\t\"Sherriff, John\" <john.sherriff@enron.com>,\n",
      "\t\"Shults, Bob\" <Bob.Shults@ENRON.com>,\n",
      "\t\"Spiller, Tina\" <Tina.Spiller@ENRON.com>,\n",
      "\t\"Sweitzer, Tara\" <Tara.Sweitzer@ENRON.com>,\n",
      "\t\"Taylor, Mark E (Legal)\" <Mark.Taylor@ENRON.com>,\n",
      "\t\"Thode, Eric\" <Eric.Thode@ENRON.com>,\n",
      "\t\"Thomas, Sheri\" <Sheri.Thomas@ENRON.com>,\n",
      "\t\"Webb, Jay\" <Jay.Webb@ENRON.com>,\n",
      "\t\"Whalley, Greg\" <Greg.Whalley@ENRON.com>,\n",
      "\t\"Wilson, Amy\" <Amy.ALW.Wilson@ENRON.com>,\n",
      "\t\"Zipper, Andy\" <Andy.Zipper@ENRON.com>\n",
      "lisa.gang@enron.com\n",
      "jdasovic@ENRON.COM\n",
      "norm.spalding#####, morgan.gottsponer#####, r..keller#####, \r\n",
      "\tdennis.alters#####, kevin.hyatt#####, ben.asante#####, \r\n",
      "\tmansoor.abdmoulaie#####, doug.cebryk#####, \r\n",
      "\tkimberly.watson#####, michelle.lokay#####\n",
      "louise.kitchen#####\n",
      "pete.davis#####\n",
      "kenneth.lay#####, jeff.skilling#####, louise.kitchen#####\n",
      "tom.acton#####, bryan.hull#####, o'neal.winfree#####, \r\n",
      "\tdaren.farmer#####\n",
      "\"Steffes, James D.\" <James.D.Steffes@ENRON.com>\n",
      "\"Panus, Stephanie\" <Stephanie.Panus@ENRON.com>,\n",
      "\t\"Boyd, Samantha\" <Samantha.Boyd@ENRON.com>,\n",
      "\t\"Heard, Marie\" <Marie.Heard@ENRON.com>,\n",
      "\t\"Bailey, Susan\" <Susan.Bailey@ENRON.com>\n",
      "\"Abel, Chris\" <Chris.Abel@ENRON.com>,\n",
      "\t\"Allison, John\" <John.Allison@ENRON.com>,\n",
      "\t\"Gossett, Jeffrey C.\" <Jeffrey.C.Gossett@ENRON.com>,\n",
      "\t\"McKinney, Hal\" <Hal.McKinney@ENRON.com>,\n",
      "\t\"Port, David\" <David.Port@ENRON.com>,\n",
      "\t\"Thibodeaux, Kenneth\" <Kenneth.Thibodeaux@ENRON.com>,\n",
      "\t\"Victorio, Tom\" <Tom.Victorio@ENRON.com>,\n",
      "\t\"Wallace, Cassi\" <Cassi.Wallace@ENRON.com>,\n",
      "\t\"White, Stacey W.\" <Stacey.W.White@ENRON.com>,\n",
      "\t\"Wilson, Shona\" <Shona.Wilson@ENRON.com>\n",
      "stacey.neuweiler#####, dfarmer#####, briley#####\n",
      "all.houston#####\n",
      "\"Kean, Steven J.\" <steve.kean@enron.com>\n",
      "khyatt@enron.com\n",
      "joe.parks@enron.com\n",
      "\"Nemec, Gerald\" <Gerald.Nemec@ENRON.com>\n",
      "ben.glisan#####\n",
      "thomas.gros#####, sally.beck#####\n",
      "\"Blair, Lynn\" <Lynn.Blair@ENRON.com>\n",
      "\"'cbone@home.com'\" <cbone@home.com>\n",
      "louise.kitchen#####\n",
      "\"Coffing, Timothy\" <Timothy.Coffing@ENRON.com>,\n",
      "\t\"DL-Portland Real Time Shift\" <DL-PortlandRealTimeShift@ENRON.com>,\n",
      "\t\"Alonso, Tom\" <Tom.Alonso@ENRON.com>,\n",
      "\t\"Badeer, Robert\" <Robert.Badeer@ENRON.com>,\n",
      "\t\"Belden, Tim\" <Tim.Belden@ENRON.com>,\n",
      "\t\"Crandall, Sean\" <Sean.Crandall@ENRON.com>,\n",
      "\t\"Driscoll, Michael M.\" <Michael.M.Driscoll@ENRON.com>,\n",
      "\t\"Fischer, Mark\" <Mark.Fischer@ENRON.com>,\n",
      "\t\"Mallory, Chris\" <Chris.Mallory@ENRON.com>,\n",
      "\t\"Morris, Jeremy\" <Jeremy.Morris@ENRON.com>,\n",
      "\t\"Motley, Matt\" <Matt.Motley@ENRON.com>,\n",
      "\t\"Platter, Phillip\" <Phillip.Platter@ENRON.com>,\n",
      "\t\"Richter, Jeff\" <Jeff.Richter@ENRON.com>,\n",
      "\t\"Salisbury, Holden\" <Holden.Salisbury@ENRON.com>,\n",
      "\t\"Scholtes, Diana\" <Diana.Scholtes@ENRON.com>,\n",
      "\t\"Swerzbin, Mike\" <Mike.Swerzbin@ENRON.com>,\n",
      "\t\"Williams III, Bill\" <Bill.Williams.III@ENRON.com>\n",
      "\"Kitchen, Louise\" <Louise.Kitchen@ENRON.com>\n",
      "\"Keiser, Kam\" <Kam.Keiser@ENRON.com>\n",
      "\"Richard Shapiro (E-mail)\" <rshapiro@enron.com>\n"
     ]
    }
   ],
   "source": [
    "print \"Receptores de spam\"\n",
    "print \"=\"* 100\n",
    "print \"\\n\".join(spam.to_text)\n",
    "print \"\\nReceptores de ham\"\n",
    "print \"=\"* 100\n",
    "print \"\\n\".join(ham.to_text)\n"
   ]
  },
  {
   "cell_type": "code",
   "execution_count": 5,
   "metadata": {
    "collapsed": false
   },
   "outputs": [
    {
     "name": "stdout",
     "output_type": "stream",
     "text": [
      "[  0   1   2   6   3   9   5  12   7  13   4  14   8  18  54  16  23  31\n",
      "  36  10  35  25 174  24  33  15  29  11  21 115  41  57  27  26  17 128\n",
      "  22  20  28  58  32  70  19  49  99  30  80  71  42 106  89  72  34  81\n",
      " 136  38  59 112  90  74 127 110  77  67  43  37  66  39  78  56  92 124\n",
      "  84 103  62 126  73  75  47  85  88  61  48  40 118  79  45  83  94  51\n",
      "  44 140  76 125 108 109 111 141  82]\n"
     ]
    }
   ],
   "source": [
    "import re\n",
    "\n",
    "first_ham = ham.iloc[0]\n",
    "\n",
    "re.findall(r'<.*>', first_ham.to_text)\n",
    "\n",
    "print df.number_of_receivers.unique()"
   ]
  },
  {
   "cell_type": "code",
   "execution_count": 6,
   "metadata": {
    "collapsed": false
   },
   "outputs": [
    {
     "name": "stdout",
     "output_type": "stream",
     "text": [
      "NON ASCII totales: 279\n",
      "NON ASCII (con clase spam): 279\n",
      "NON ASCII (con clase spam): 0\n"
     ]
    }
   ],
   "source": [
    "\n",
    "print \"NON ASCII totales: {}\".format(np.count_nonzero(df.from_non_ascii == False))\n",
    "\n",
    "print \"NON ASCII (con clase spam): {}\".format(np.count_nonzero(df[df.from_non_ascii == False]['class'] == 'spam'))\n",
    "print \"NON ASCII (con clase spam): {}\".format(np.count_nonzero(df[df.from_non_ascii == False]['class'] == 'ham'))\n",
    "\n"
   ]
  },
  {
   "cell_type": "markdown",
   "metadata": {},
   "source": [
    "# Distribución horaria y por día\n"
   ]
  },
  {
   "cell_type": "code",
   "execution_count": 13,
   "metadata": {
    "collapsed": false
   },
   "outputs": [
    {
     "data": {
      "text/plain": [
       "(array([  437.,   569.,  1377.,  1140.,   754.,   222.]),\n",
       " array([  0.        ,   3.83333333,   7.66666667,  11.5       ,\n",
       "         15.33333333,  19.16666667,  23.        ]),\n",
       " <a list of 6 Patch objects>)"
      ]
     },
     "execution_count": 13,
     "metadata": {},
     "output_type": "execute_result"
    },
    {
     "data": {
      "image/png": "[encoded data removed]",
      "text/plain": [
       "<matplotlib.figure.Figure at 0x7f2171c151d0>"
      ]
     },
     "metadata": {},
     "output_type": "display_data"
    }
   ],
   "source": [
    "ham = df[df['class'] == 'ham']\n",
    "spam = df[df['class'] == 'spam']\n",
    "\n",
    "hist(ham.hour, range=[0, 23], bins=6)\n"
   ]
  },
  {
   "cell_type": "code",
   "execution_count": 14,
   "metadata": {
    "collapsed": false
   },
   "outputs": [
    {
     "data": {
      "text/plain": [
       "(array([ 729.,  757.,  711.,  750.,  682.,  739.]),\n",
       " array([  0.        ,   3.83333333,   7.66666667,  11.5       ,\n",
       "         15.33333333,  19.16666667,  23.        ]),\n",
       " <a list of 6 Patch objects>)"
      ]
     },
     "execution_count": 14,
     "metadata": {},
     "output_type": "execute_result"
    },
    {
     "data": {
      "image/png": "[encoded data removed]",
      "text/plain": [
       "<matplotlib.figure.Figure at 0x7f21717ea150>"
      ]
     },
     "metadata": {},
     "output_type": "display_data"
    }
   ],
   "source": [
    "\n",
    "hist(spam.hour, range=[0, 23], bins=6)"
   ]
  },
  {
   "cell_type": "markdown",
   "metadata": {},
   "source": [
    "Podemos observar en los dos histogramas anteriores que mientras el spam se distribuye "
   ]
  }
 ],
 "metadata": {
  "kernelspec": {
   "display_name": "Python 2",
   "language": "python",
   "name": "python2"
  },
  "language_info": {
   "codemirror_mode": {
    "name": "ipython",
    "version": 2
   },
   "file_extension": ".py",
   "mimetype": "text/x-python",
   "name": "python",
   "nbconvert_exporter": "python",
   "pygments_lexer": "ipython2",
   "version": "2.7.12"
  }
 },
 "nbformat": 4,
 "nbformat_minor": 1
}
