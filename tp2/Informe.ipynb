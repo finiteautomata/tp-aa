{
 "cells": [
  {
   "cell_type": "markdown",
   "metadata": {},
   "source": [
    " # Aprendizaje Automático : Trabajo Práctico 2\n",
    "\n",
    "\n",
    "# Integrantes: Juan Manuel Perez, Mariela Rajngewerc, Tomás Freilij\n",
    "\n",
    "# Resumen:\n",
    "\n",
    "Para el presente trabajo implementamos el algoritmo Q-Learning para la resolución del juego Cuatro en linea. El objetivo será mostrar cómo un jugador guiado por el algoritmo en cuestión termina superando ampliamente a uno que elija todos sus movimientos al azar.\n",
    "\n",
    "\n",
    "\n",
    "# Palabras clave: \n",
    "\n",
    "aprendizaje por refuerzos, Q-Learning, cuatro en linea, \n",
    "\n",
    "\n",
    "# Desarrollo\n",
    "\n",
    "El trabajo consistió en armar una implementación del cuatro en línea que nos permitiera simular fielmente el desarrollo de una partida. Para eso primero lo armamos para que puedan jugar dos humanos.\n",
    "\n",
    "En una segunda etapa, agregamos el jugador random (lo cual no presentó muchas dificultades) y un Qplayer que va a jugar guiado por el algoritmo en cuestión.\n",
    "\n",
    "Nuestra hipotesis es que cuanto más entrenamiento realicemos sobre el QPLayer, la tabla Q sera actualizada de forma más eficiente y así, dado un estado y una acción, el QPlayer sabrá cuan conveniente es tomar esa acción.\n",
    "\n",
    "Al momento de elegir una jugada decidimos no usar siempre la experiencia que va adquiriendo el QPlayer sino, con probabilidad epsilon, elegir alguna accion posible al azar. La idea es que el jugador no juegue solo con las acciones conocidas y que pruebe otros caminos.\n",
    "\n",
    "\n",
    "\n",
    "# Estados\n",
    "\n",
    "Los estados están definidos por la configuración de fichas de un tablero. \n",
    "Pensamos definir algún tipo de propiedad más genérica que englobe a muchos momentos de un tablero en un mismo estado. Por ejemplo, en una partida muy avanzada podría no ser necesario analizar las fichas que están en el fondo del tablero, ya que no existe posibilidad de ganar o perder por cómo están dispuestas las mismas.\n",
    "\n",
    "Esto último nos pareció que traería complicaciones implementativas y que comparar dos tableros casilla a casilla no debería ser problemático. Entonces priorizamos una implementación más fácil, por sobre un mejor uso de la memoria o cómputo más eficiente.\n",
    "\n",
    "\n",
    "\n",
    "# Tabla Q\n",
    "\n",
    "Por lo dicho anterior, nuestra tabla Q será un mapeo de tuplas (estado, jugada) -> valor.\n",
    "\n",
    "Si tenemos en cuenta que dado un estado, a lo sumo existen siete posibles jugadas, el tamaño de la tabla tendrá un tamaño de O(n), donde n es la cantidad de estados posibles. Como además existen estados inalcanzables, la tabla no será precisamente de esos órdenes de tamaño.\n",
    "\n",
    "Además, la tabla Q no la inicializamos en su totalidad desde el comienzo sino que se hará bajo demanda. En caso de que no se tenga un valor definido para la tabla, se tomará alguno por defecto (quizás al azar) a la hora de los cálculos.\n",
    "\n",
    "De esta forma, la tabla irá creciendo con el tiempo.\n",
    "\n",
    "\n",
    "\n",
    "\n",
    "# Estrategia adoptada \n",
    "\n",
    "Como en el ajedrez, en este juego existe la posibilidad de, antes de hacer un movimiento, explorar las posibles respuestas al mismo. Así tendríamos un mejor análisis de qué jugar, o de en qué situación estamos (si perdiendo, ganando o empatando).\n",
    "\n",
    "Por ejemplo, si estamos en un estado del juego en el que una jugada nos lleva a perder de forma obligada, es evidente que no optaríamos por la misma. A su vez, si una nos lleva a ganar de forma directa, tenemos que ir por ese camino.\n",
    "\n",
    "Es de esta forma que nuestro Qplayer, haciendo este tipo de análisis, irá aprendiendo. En este caso, aprender es equivalente a aumentar la probabilidad de ganar en una futura partida.\n",
    "\n",
    "La profundidad de análisis (cuántos movimientos a futuro analiza) será algo parametrizable en el Q-Player. En los hechos, resultó que una profundidad de seis o más movimientos a futuro lleva a que cada partida dure alrededor de una hora. Por eso mismo, los análisis serán analizando dos o cuatro.\n",
    "\n",
    "\n",
    "\n",
    "# Pseudocódigo de \"encontrar mejor jugada\"\n",
    "\n",
    "La función central está en la elección del mejor movimiento para un estado dado.\n",
    "Para eso, QPlayer tiene implementado \"mejor_accion_para\" que recibe un estado del juego y se encarga de encontrar la mejor respuesta.\n",
    "\n",
    "Veamos el pseudocódigo de la misma:\n",
    "\n",
    "\n",
    "\n",
    "    Si número al azar < épsilon\n",
    "        mejor_jugada = elegir jugada al azar\n",
    "    Si no\n",
    "        Para cada acción posible J del estado actual\n",
    "            Si el valor de Q(estado,J) mejora el de Q(estado,mejor_jugada)\n",
    "                mejor_valor = Q(estado,mejor_jugada)\n",
    "                mejor_jugada = J\n",
    "\n",
    "        viejo_valor = obtener_valor_en_tabla_q(estado,mejor_jugada)\n",
    "        Q(estado,mejor_jugada)] = viejo_valor + alpha * ( recompensa(estado,mejor_jugada) + gamma * mejor_valor - viejo_valor )\n",
    "\n",
    "\n",
    "# Pseudocódigo de \"encontrar valor q\"\n",
    "\n",
    "    Dado un estado S y una posible jugada J:\n",
    "        Si jugando J gano\n",
    "            devolver 100\n",
    "        Si jugando J gana mi rival\n",
    "            devolver -100 \n",
    "        Si jugando J hay empate \n",
    "            devolver 0\n",
    "    Si no\n",
    "        Si llegué a la profunidad de análisis máxima\n",
    "           Para cada acción posibles del rival encontrar su mejor jugada\n",
    "               devolver el valor para esa jugada del rival\n",
    "\n",
    "        Si queda por recorrer más profundidad\n",
    "\n",
    "            llamar recursivamente a Q para cada acción mía posibles y quedarme con la mejor\n",
    "\n",
    "\n",
    "\n",
    "\n",
    "# Cálculo de las Recompensa\n",
    "\n",
    "La funcion recompensa le adjudica a cada (estado, accion) un número. \n",
    "Representa el peso que tiene la casilla donde el QPlayer pondrá ficha (osea, la accion que ejercerá). \n",
    "Decidimos considerar los siguientes resultados posibles:\n",
    "\n",
    "- recompensa_max: en el caso de que el QPlayer resulte ganador\n",
    "\n",
    "- recompensa_media: en el caso que ya hubiera 2 fichas concecutivas del Qplayer, se pueda agregar una tercera y haya un lugar libre donde, en jugadas posteriores podria completarse el cuatro en línea.\n",
    "\n",
    "- recompensa_baja: en el escenario anterior pero para el rival\n",
    "\n",
    "- anti_recompensa: Si jugando esa acción, le dejo la partida ganada al rival, entonces me castiga.\n",
    "\n",
    "\n",
    "En otro caso se le dará recompensa 0\n",
    "\n",
    "\n",
    "\n",
    "\n"
   ]
  },
  {
   "cell_type": "markdown",
   "metadata": {},
   "source": [
    "# Observaciones previas: \n",
    "\n",
    "En todos los casos la elección de la mejor acción se realizó de la siguiente manera: con probabilidad menor a 0.2 se elegía aleatoriamente entre las acciones posibles y con probabilidad 0.8 se elegía entre las mejores (fruto del aprendizaje). \n",
    "\n",
    "En los experimentos 1,2,3 y 5 se consideró que la función Q(estado,acción) es inicializada con el valor 1.\n"
   ]
  },
  {
   "cell_type": "markdown",
   "metadata": {},
   "source": [
    "# Experimento 1: Elección de hiperparámetros\n",
    "\n",
    "\n",
    "Antes de comenzar a realizar los entrenamientos y poner a competir a los jugadores debíamos elegir la tasa de aprendizaje (representada por alpha) y el factor de descuento (representado por gamma). El experimento constó en realizar competencias de los jugadores Q-Player (Q-P) y Random-Player (R-P) con distintas combinaciones de alphas y gammas donde cada sesión de entrenamiento constó de 100 partidas. Obtuvimos los siguientes resultados:  "
   ]
  },
  {
   "cell_type": "code",
   "execution_count": 7,
   "metadata": {
    "collapsed": false
   },
   "outputs": [
    {
     "name": "stdout",
     "output_type": "stream",
     "text": [
      "Populating the interactive namespace from numpy and matplotlib\n"
     ]
    },
    {
     "data": {
      "text/html": [
       "<div>\n",
       "<table border=\"1\" class=\"dataframe\">\n",
       "  <thead>\n",
       "    <tr style=\"text-align: right;\">\n",
       "      <th></th>\n",
       "      <th>0.0</th>\n",
       "      <th>0.25</th>\n",
       "      <th>0.5</th>\n",
       "      <th>0.75</th>\n",
       "      <th>1.0</th>\n",
       "    </tr>\n",
       "  </thead>\n",
       "  <tbody>\n",
       "    <tr>\n",
       "      <th>0.00</th>\n",
       "      <td>78</td>\n",
       "      <td>76</td>\n",
       "      <td>77</td>\n",
       "      <td>72</td>\n",
       "      <td>73</td>\n",
       "    </tr>\n",
       "    <tr>\n",
       "      <th>0.25</th>\n",
       "      <td>76</td>\n",
       "      <td>78</td>\n",
       "      <td>69</td>\n",
       "      <td>80</td>\n",
       "      <td>78</td>\n",
       "    </tr>\n",
       "    <tr>\n",
       "      <th>0.50</th>\n",
       "      <td>79</td>\n",
       "      <td>82</td>\n",
       "      <td>70</td>\n",
       "      <td>82</td>\n",
       "      <td>85</td>\n",
       "    </tr>\n",
       "    <tr>\n",
       "      <th>0.75</th>\n",
       "      <td>82</td>\n",
       "      <td>76</td>\n",
       "      <td>73</td>\n",
       "      <td>81</td>\n",
       "      <td>76</td>\n",
       "    </tr>\n",
       "    <tr>\n",
       "      <th>1.00</th>\n",
       "      <td>82</td>\n",
       "      <td>75</td>\n",
       "      <td>78</td>\n",
       "      <td>78</td>\n",
       "      <td>70</td>\n",
       "    </tr>\n",
       "  </tbody>\n",
       "</table>\n",
       "</div>"
      ],
      "text/plain": [
       "      0.00  0.25  0.50  0.75  1.00\n",
       "0.00    78    76    77    72    73\n",
       "0.25    76    78    69    80    78\n",
       "0.50    79    82    70    82    85\n",
       "0.75    82    76    73    81    76\n",
       "1.00    82    75    78    78    70"
      ]
     },
     "execution_count": 7,
     "metadata": {},
     "output_type": "execute_result"
    }
   ],
   "source": [
    "%pylab inline\n",
    "\n",
    "import pandas as pd\n",
    "e = {(0, 0.5): 79, (0.5, 1): 78, (0.75, 0): 72, (0.25, 0.25): 78, (1, 0.5): 85, (0.5, 0.5): 70, (0.75, 0.75): 81, (1, 0.25): 78, (0.75, 0.5): 82, (1, 1): 70, (0.25, 1): 75, (0.25, 0): 76, (0.5, 0): 77, (0, 0.25): 76, (0, 0.75): 82, (0.25, 0.75): 76, (1, 0): 73, (0.5, 0.25): 69, (1, 0.75): 76, (0, 1): 82, (0, 0): 78, (0.75, 1): 78, (0.5, 0.75): 73, (0.75, 0.25): 80, (0.25, 0.5): 82}\n",
    " \n",
    "from collections import defaultdict\n",
    "d = defaultdict(dict)\n",
    "for (primero, segundo),val in e.iteritems():\n",
    "    a = d[(primero)]\n",
    "    a[segundo] = val   \n",
    "\n",
    "pd.DataFrame(d)"
   ]
  },
  {
   "cell_type": "markdown",
   "metadata": {},
   "source": [
    "Las columnas son los valores elegidos para alpha, las filas para gamma. Los valores asociados a cada fila y columna son la cantidad total de partidas ganadas por Q-P. Podemos observar que en este experimento la mejor combinación la obtuvimos con alpha=1 y gamma=0.5.\n",
    "\n",
    "Decidimos realizar un experimento similar modificando la cantidad de partidas, haciendo 200 en total tomando un subconjunto de combinaciones de alphas y gammas. Los resultados obtenidos fueron:"
   ]
  },
  {
   "cell_type": "code",
   "execution_count": 8,
   "metadata": {
    "collapsed": false
   },
   "outputs": [
    {
     "data": {
      "text/html": [
       "<div>\n",
       "<table border=\"1\" class=\"dataframe\">\n",
       "  <thead>\n",
       "    <tr style=\"text-align: right;\">\n",
       "      <th></th>\n",
       "      <th>0.25</th>\n",
       "      <th>0.5</th>\n",
       "      <th>0.75</th>\n",
       "      <th>1.0</th>\n",
       "    </tr>\n",
       "  </thead>\n",
       "  <tbody>\n",
       "    <tr>\n",
       "      <th>0.00</th>\n",
       "      <td>145</td>\n",
       "      <td>158.0</td>\n",
       "      <td>144.0</td>\n",
       "      <td>157.0</td>\n",
       "    </tr>\n",
       "    <tr>\n",
       "      <th>0.25</th>\n",
       "      <td>150</td>\n",
       "      <td>153.0</td>\n",
       "      <td>155.0</td>\n",
       "      <td>155.0</td>\n",
       "    </tr>\n",
       "    <tr>\n",
       "      <th>0.50</th>\n",
       "      <td>157</td>\n",
       "      <td>154.0</td>\n",
       "      <td>150.0</td>\n",
       "      <td>163.0</td>\n",
       "    </tr>\n",
       "    <tr>\n",
       "      <th>0.75</th>\n",
       "      <td>150</td>\n",
       "      <td>150.0</td>\n",
       "      <td>158.0</td>\n",
       "      <td>146.0</td>\n",
       "    </tr>\n",
       "    <tr>\n",
       "      <th>1.00</th>\n",
       "      <td>155</td>\n",
       "      <td>NaN</td>\n",
       "      <td>NaN</td>\n",
       "      <td>NaN</td>\n",
       "    </tr>\n",
       "  </tbody>\n",
       "</table>\n",
       "</div>"
      ],
      "text/plain": [
       "      0.25   0.50   0.75   1.00\n",
       "0.00   145  158.0  144.0  157.0\n",
       "0.25   150  153.0  155.0  155.0\n",
       "0.50   157  154.0  150.0  163.0\n",
       "0.75   150  150.0  158.0  146.0\n",
       "1.00   155    NaN    NaN    NaN"
      ]
     },
     "execution_count": 8,
     "metadata": {},
     "output_type": "execute_result"
    }
   ],
   "source": [
    "\n",
    "c={(0.25, 1): 155, (0.25, 0.5): 157, (0.75, 0): 144, (0.75, 0.75): 158, (0.5, 0.75): 150, (0.5, 0.5): 154, (0.5, 0): 158, (0.75, 0.25): 155, (0.25, 0.25): 150, (0.25, 0): 145, (0.75, 0.5): 150, (0.25, 0.75): 150, (1, 0.75): 146, (1, 0.5): 163, (0.5, 0.25): 153, (1, 0): 157, (1, 0.25): 155}\n",
    "from collections import defaultdict\n",
    "d = defaultdict(dict)\n",
    "for (primero, segundo),val in c.iteritems():\n",
    "    a = d[(primero)]\n",
    "    a[segundo] = val   \n",
    "import pandas as pd\n",
    "\n",
    "pd.DataFrame(d)"
   ]
  },
  {
   "cell_type": "markdown",
   "metadata": {},
   "source": [
    "Nuevamente, las columnas son los valores elegidos para alpha, las filas para gamma. Los valores asociados a cada fila y columna son la cantidad total de partidas ganadas por Q-P. En los casos que figura \"-\" es que no analizamos dicho caso porque necesitábamos detener el proceso.\n",
    "\n",
    "Al igual que antes, obtuvimos una mayor ganancia con la combinacion alpha=1 y gamma=0.5\n",
    "Por esta razón, decidimos realizar los experimentos que siguen considerando la tasa de crecimiento en 1 y factor de descuento en 0.5."
   ]
  },
  {
   "cell_type": "markdown",
   "metadata": {},
   "source": [
    "# Experimento 2: R-P vs Q-P (alpha=1 y gamma=0.5)"
   ]
  },
  {
   "cell_type": "markdown",
   "metadata": {},
   "source": [
    "Una vez obtenidos los hiperparámetros quedó definido nuestro modelo. Ahora, entrenamos al Q-P modificando la cantidad de partidas de entrenamiento, siempre contra R-P. Los experimentos fueron los siguientes:"
   ]
  },
  {
   "cell_type": "code",
   "execution_count": 9,
   "metadata": {
    "collapsed": false
   },
   "outputs": [
    {
     "data": {
      "text/html": [
       "<div>\n",
       "<table border=\"1\" class=\"dataframe\">\n",
       "  <thead>\n",
       "    <tr style=\"text-align: right;\">\n",
       "      <th></th>\n",
       "      <th>Cantidad de partidas</th>\n",
       "      <th>Partidos ganados Q-P (en %)</th>\n",
       "    </tr>\n",
       "  </thead>\n",
       "  <tbody>\n",
       "    <tr>\n",
       "      <th>0</th>\n",
       "      <td>10</td>\n",
       "      <td>70</td>\n",
       "    </tr>\n",
       "    <tr>\n",
       "      <th>1</th>\n",
       "      <td>20</td>\n",
       "      <td>70</td>\n",
       "    </tr>\n",
       "    <tr>\n",
       "      <th>2</th>\n",
       "      <td>30</td>\n",
       "      <td>76</td>\n",
       "    </tr>\n",
       "    <tr>\n",
       "      <th>3</th>\n",
       "      <td>50</td>\n",
       "      <td>76</td>\n",
       "    </tr>\n",
       "    <tr>\n",
       "      <th>4</th>\n",
       "      <td>100</td>\n",
       "      <td>74</td>\n",
       "    </tr>\n",
       "    <tr>\n",
       "      <th>5</th>\n",
       "      <td>200</td>\n",
       "      <td>74</td>\n",
       "    </tr>\n",
       "    <tr>\n",
       "      <th>6</th>\n",
       "      <td>250</td>\n",
       "      <td>78</td>\n",
       "    </tr>\n",
       "    <tr>\n",
       "      <th>7</th>\n",
       "      <td>300</td>\n",
       "      <td>77</td>\n",
       "    </tr>\n",
       "    <tr>\n",
       "      <th>8</th>\n",
       "      <td>400</td>\n",
       "      <td>75</td>\n",
       "    </tr>\n",
       "    <tr>\n",
       "      <th>9</th>\n",
       "      <td>500</td>\n",
       "      <td>72</td>\n",
       "    </tr>\n",
       "    <tr>\n",
       "      <th>10</th>\n",
       "      <td>1000</td>\n",
       "      <td>76</td>\n",
       "    </tr>\n",
       "  </tbody>\n",
       "</table>\n",
       "</div>"
      ],
      "text/plain": [
       "    Cantidad de partidas  Partidos ganados Q-P (en %) \n",
       "0                     10                            70\n",
       "1                     20                            70\n",
       "2                     30                            76\n",
       "3                     50                            76\n",
       "4                    100                            74\n",
       "5                    200                            74\n",
       "6                    250                            78\n",
       "7                    300                            77\n",
       "8                    400                            75\n",
       "9                    500                            72\n",
       "10                  1000                            76"
      ]
     },
     "execution_count": 9,
     "metadata": {},
     "output_type": "execute_result"
    }
   ],
   "source": [
    "partidas=[10,20,30,50,100,200,250,300,400,500,1000]\n",
    "resultadosQPlayer=[7,14,23,38,74,149,197,232,303,363,760]\n",
    "porcentajeQPlayer=np.multiply(resultadosQPlayer,100)/partidas\n",
    "resultadosRPlayer=[3,6,7,12,26,51,53,68,73,137,240]\n",
    "porcentajeRPlayer=np.multiply(resultadosRPlayer,100)/partidas\n",
    "\n",
    "\n",
    "pd.DataFrame({'Cantidad de partidas':partidas,'Partidos ganados Q-P (en %) ':porcentajeQPlayer})\n"
   ]
  },
  {
   "cell_type": "markdown",
   "metadata": {},
   "source": [
    "Dado el último resultado, el gráfico quedaba por fuera de escala y no se podían apreciar las diferencias entre todos los valores. Por eso decidimos dejar los datos en este cuadro.\n",
    "\n",
    "En ese sentido, en el gráfico siguiente dejamos los resultados obtenidos con 10, 100, 200, 300, 400 y 500 partidas:"
   ]
  },
  {
   "cell_type": "code",
   "execution_count": 11,
   "metadata": {
    "collapsed": false
   },
   "outputs": [
    {
     "data": {
      "image/png": "[encoded data removed]",
      "text/plain": [
       "<matplotlib.figure.Figure at 0x9d607b8>"
      ]
     },
     "metadata": {},
     "output_type": "display_data"
    }
   ],
   "source": [
    "import numpy as np\n",
    "import matplotlib.pyplot as plt\n",
    "\n",
    "\n",
    "partidas=[10,100,200,300,400,500]\n",
    "resultadosQPlayer=[7,74,149,232,303,363]\n",
    "porcentajeQPlayer=np.multiply(resultadosQPlayer,100)/partidas\n",
    "resultadosRPlayer=[3,26,51,68,73,137]\n",
    "porcentajeRPlayer=np.multiply(resultadosRPlayer,100)/partidas\n",
    "\n",
    "plt.figure()\n",
    "\n",
    "plt.xlim([10, 500])\n",
    "plt.ylim([0, 100])\n",
    "\n",
    "#plt.plot(t1, f(t1), 'bo', t2, f(t2), 'k')\n",
    "plt.xlabel('CANTIDAD DE PARTIDAS')\n",
    "plt.ylabel('% PARTIDAS GANADAS')\n",
    "plt.title('RESULTADOS')\n",
    "plt.plot(partidas, porcentajeRPlayer,'bo',color='r',label='Random Player')\n",
    "plt.plot(partidas, porcentajeRPlayer,color='r')\n",
    "plt.plot(partidas, porcentajeQPlayer,'bo',label='Q-Player')\n",
    "plt.plot(partidas, porcentajeQPlayer)\n",
    "plt.legend()\n",
    "plt.show()"
   ]
  },
  {
   "cell_type": "markdown",
   "metadata": {},
   "source": [
    "Puede observarse que Q-P siempre tiene un porcentaje mucho mayor de partidas ganadas que el R-P. De acuerdo a nuestras observaciones, el porcentaje de ganancia se mantiene en un rango entre 70 % y 78 %. También hay que destacar que no hay una tendencia ni a un crecimiento ni decrecimiento constante de victorias.\n",
    "\n",
    "Una pregunta que nos surgió durante este experimento fue si dentro de cada entrenamiento se distinguen distintos momentos de aprendizaje (al principio no puede ganar seguido por falta de conocimiento vs al final es un experto jugador y tiende a no perder partidas).\n",
    "\n",
    "Nuestra hipotesis era: \n",
    "\n",
    "Dado que en la primer cuarto de las partidas jugadas, el Q-P no debería haber aprendido mucho, se espera que la diferencia contra R-P en esa parte sea menor que en el último cuarto de las partidas.\n",
    "\n",
    "Los datos que obtuvimos fueron los siguientes:"
   ]
  },
  {
   "cell_type": "code",
   "execution_count": 12,
   "metadata": {
    "collapsed": false
   },
   "outputs": [
    {
     "name": "stdout",
     "output_type": "stream",
     "text": [
      "   Cantidad de partidas  Partidas Ganadas  Primer Cuarto  Ultimo Cuarto\n",
      "0                    40                32              8              8\n",
      "1                    40                32              9              7\n",
      "2                   100                82             18             23\n",
      "3                   100                78             19             19\n",
      "4                   200               166             40             42\n",
      "5                   200               155             40             38\n",
      "6                   400               309             79             75\n",
      "7                   400               324             87             83\n"
     ]
    }
   ],
   "source": [
    "import pandas as pd\n",
    "partidas=[40,40,100,100,200,200,400,400]\n",
    "total_ganadas=[32,32,82,78,166,155,309,324]\n",
    "primer_cuarto=[8,9,18,19,40,40,79,87]\n",
    "ultimo_cuarto=[8,7,23,19,42,38,75,83]\n",
    "#resultadosQPlayer_primer_cuarto=[7,14,23,38,74,149,197,232,303,363,760]\n",
    "#porcentajeQPlayer_primer_cuarto=np.multiply(resultadosQPlayer,100)/partidas\n",
    "#resultadosQPlayer_primer_cuarto=[7,14,23,38,74,149,197,232,303,363,760]\n",
    "#porcentajeQPlayer_ultimo_cuarto=np.multiply(resultadosQPlayer,100)/partidas\n",
    "#resultadosRPlayer_ultimo_cuarto=[3,6,7,12,26,51,53,68,73,137,240]\n",
    "#porcentajeRPlayer_ultimo_cuarto=np.multiply(resultadosRPlayer,100)/partidas\n",
    "\n",
    "\n",
    "f={'Cantidad de partidas':partidas,'Partidas Ganadas':total_ganadas,'Primer Cuarto':primer_cuarto,'Ultimo Cuarto':ultimo_cuarto}\n",
    "g= pd.DataFrame(f)\n",
    "g= g[['Cantidad de partidas','Partidas Ganadas','Primer Cuarto','Ultimo Cuarto']]\n",
    "print g"
   ]
  },
  {
   "cell_type": "markdown",
   "metadata": {},
   "source": [
    "Lamentablemente tuvimos que refutar esta hiptesis, una propuesta para trabajos futuros sería realizar esta misma evaluación con entrenamientos que consten de una mayor cantidad de partidas. "
   ]
  },
  {
   "cell_type": "markdown",
   "metadata": {},
   "source": [
    "# Experimento 3: Q-P vs Q-P\n",
    "\n",
    "Si bien por el experimento 2 notamos que el Q-P es superior al R-P, una pregunta que nos surgió es qué ocurriría si se enfrentaran Q-P contra Q-P. Nuestras expectativas eran que no haya algun jugador que sea ampliamente superior. \n",
    "\n",
    "Los resultados que obtuvimos fueron los siguientes:"
   ]
  },
  {
   "cell_type": "code",
   "execution_count": 10,
   "metadata": {
    "collapsed": false
   },
   "outputs": [
    {
     "data": {
      "text/html": [
       "<div>\n",
       "<table border=\"1\" class=\"dataframe\">\n",
       "  <thead>\n",
       "    <tr style=\"text-align: right;\">\n",
       "      <th></th>\n",
       "      <th>Cantidad de partidas</th>\n",
       "      <th>Partidos ganados Q-P (en %)</th>\n",
       "    </tr>\n",
       "  </thead>\n",
       "  <tbody>\n",
       "    <tr>\n",
       "      <th>0</th>\n",
       "      <td>10</td>\n",
       "      <td>70</td>\n",
       "    </tr>\n",
       "    <tr>\n",
       "      <th>1</th>\n",
       "      <td>20</td>\n",
       "      <td>40</td>\n",
       "    </tr>\n",
       "    <tr>\n",
       "      <th>2</th>\n",
       "      <td>30</td>\n",
       "      <td>66</td>\n",
       "    </tr>\n",
       "    <tr>\n",
       "      <th>3</th>\n",
       "      <td>50</td>\n",
       "      <td>64</td>\n",
       "    </tr>\n",
       "    <tr>\n",
       "      <th>4</th>\n",
       "      <td>100</td>\n",
       "      <td>48</td>\n",
       "    </tr>\n",
       "    <tr>\n",
       "      <th>5</th>\n",
       "      <td>200</td>\n",
       "      <td>47</td>\n",
       "    </tr>\n",
       "    <tr>\n",
       "      <th>6</th>\n",
       "      <td>300</td>\n",
       "      <td>46</td>\n",
       "    </tr>\n",
       "    <tr>\n",
       "      <th>7</th>\n",
       "      <td>400</td>\n",
       "      <td>52</td>\n",
       "    </tr>\n",
       "    <tr>\n",
       "      <th>8</th>\n",
       "      <td>500</td>\n",
       "      <td>50</td>\n",
       "    </tr>\n",
       "    <tr>\n",
       "      <th>9</th>\n",
       "      <td>1000</td>\n",
       "      <td>51</td>\n",
       "    </tr>\n",
       "  </tbody>\n",
       "</table>\n",
       "</div>"
      ],
      "text/plain": [
       "   Cantidad de partidas  Partidos ganados Q-P (en %) \n",
       "0                    10                            70\n",
       "1                    20                            40\n",
       "2                    30                            66\n",
       "3                    50                            64\n",
       "4                   100                            48\n",
       "5                   200                            47\n",
       "6                   300                            46\n",
       "7                   400                            52\n",
       "8                   500                            50\n",
       "9                  1000                            51"
      ]
     },
     "execution_count": 10,
     "metadata": {},
     "output_type": "execute_result"
    }
   ],
   "source": [
    "partidas=[10,20,30,50,100,200,300,400,500,1000]\n",
    "resultadosQPlayer=[7,8,20,32,48,94,139,210,250,514]\n",
    "porcentajeQPlayer=np.multiply(resultadosQPlayer,100)/partidas\n",
    "resultadosRPlayer=[3,12,10,18,52,106,161,190,250,486]\n",
    "porcentajeRPlayer=np.multiply(resultadosRPlayer,100)/partidas\n",
    "\n",
    "pd.DataFrame({'Cantidad de partidas':partidas,'Partidos ganados Q-P (en %) ':porcentajeQPlayer})\n"
   ]
  },
  {
   "cell_type": "markdown",
   "metadata": {},
   "source": [
    "Se nota una disminución considerable del porcentaje de victorias. Pareciera ser que al aumentar el número de partidas de entrenamiento el porcentaje de victorias de cada uno de los Q-P es cercano al 50%.\n",
    "\n",
    "Para una mejor comparación de las distinciones obtenidas entre Q-P vs R-P y Q-P vs Q-P observemos el siguiente grafico:  "
   ]
  },
  {
   "cell_type": "code",
   "execution_count": 11,
   "metadata": {
    "collapsed": false
   },
   "outputs": [
    {
     "data": {
      "image/png": "[encoded data removed]",
      "text/plain": [
       "<matplotlib.figure.Figure at 0x7f3f412b8390>"
      ]
     },
     "metadata": {},
     "output_type": "display_data"
    }
   ],
   "source": [
    "import numpy as np\n",
    "import matplotlib.pyplot as plt\n",
    "\n",
    "partidas=[10,100,200,300,400,500]\n",
    "resultadosQPlayer=[7,48,94,139,210,250]\n",
    "porcentajeQPlayer=np.multiply(resultadosQPlayer,100)/partidas\n",
    "resultadosRPlayer=[3,52,106,161,190,250]\n",
    "porcentajeRPlayer=np.multiply(resultadosRPlayer,100)/partidas\n",
    "\n",
    "#---------------\n",
    "\n",
    "#partidas=[10,100,200,300,400,500]\n",
    "resultadosQPlayer1=[7,74,149,232,303,363]\n",
    "porcentajeQPlayer1=np.multiply(resultadosQPlayer1,100)/partidas\n",
    "resultadosRPlayer1=[3,26,51,68,73,137]\n",
    "porcentajeRPlayer1=np.multiply(resultadosRPlayer1,100)/partidas\n",
    "\n",
    "\n",
    "#-------------\n",
    "\n",
    "\n",
    "\n",
    "plt.figure()\n",
    "plt.xlim([0, 500])\n",
    "plt.ylim([0, 100])\n",
    "\n",
    "\n",
    "plt.subplot(211)\n",
    "#plt.xlabel('CANTIDAD DE PARTIDAS')\n",
    "plt.ylabel('% PARTIDAS GANADAS')\n",
    "#plt.title('resultados')\n",
    "plt.plot(partidas, porcentajeRPlayer,'bo',label='Q Player I')\n",
    "plt.plot(partidas, porcentajeRPlayer)\n",
    "plt.annotate('Q-Player I', xy=(200,60), xytext=(200,60), color='b')\n",
    "plt.plot(partidas, porcentajeQPlayer,'bo',color='g',label='Q-Player II')\n",
    "plt.plot(partidas, porcentajeQPlayer,color='g')\n",
    "plt.annotate('Q-Player II', xy=(200,40), xytext=(200,40),color='g')\n",
    "#plt.legend()\n",
    "\n",
    "\n",
    "\n",
    "\n",
    "plt.subplot(212)\n",
    "plt.xlim([0, 500])\n",
    "plt.ylim([0, 100])\n",
    "plt.xlabel('CANTIDAD DE PARTIDAS')\n",
    "plt.ylabel('% PARTIDAS GANADAS')\n",
    "#plt.title('resultados')\n",
    "plt.plot(partidas, porcentajeRPlayer1,'bo',color='r',label='Q Player')\n",
    "plt.annotate('Q-Player', xy=(300,60), xytext=(300,60),color='b')\n",
    "plt.plot(partidas, porcentajeRPlayer1,color='r')\n",
    "plt.plot(partidas, porcentajeQPlayer1,'bo',label='R-Player')\n",
    "plt.plot(partidas, porcentajeQPlayer1)\n",
    "plt.annotate('R-Player', xy=(400,30), xytext=(400,30),color='r')\n",
    "#plt.legend()\n",
    "\n",
    "\n",
    "#plt.plot(t4,t5, label=\"Linea 2\")\n",
    "plt.show()"
   ]
  },
  {
   "cell_type": "markdown",
   "metadata": {
    "collapsed": false
   },
   "source": [
    "En este caso no hay una brecha entre el porcentaje de victorias de cada jugador. Más aún, la tendencia esta próxima a la mitad de partidas para cada uno y los roles de \"ganador\" se van invirtiendo."
   ]
  },
  {
   "cell_type": "markdown",
   "metadata": {},
   "source": [
    "# Experimento 4 : modificación en la inicialización de la función Q(estado,acción)"
   ]
  },
  {
   "cell_type": "markdown",
   "metadata": {},
   "source": [
    "Como mencionamos anteriormente, la funcion Q(estado, accion) habia sido inicializada con el valor 1. Nos preguntamos que ocurriría si la inicializaramos en valores aleatorios. Tomamos valores aleatorios entre -100,30 y 100 que son los posibles resultados de la función recompensa. Nuestra hipótesis era que esta inicialización introduciría mucho ruido y por lo tanto serían necesarias muchas más sesiones de entrenamiento para que el Q-P pueda hacer una diferencia y empezar a ganar ya que primero deberia \"desaprender\" el ruido introducido. Veamos los resultados obtenidos:"
   ]
  },
  {
   "cell_type": "code",
   "execution_count": 15,
   "metadata": {
    "collapsed": false
   },
   "outputs": [
    {
     "data": {
      "image/png": "[encoded data removed]",
      "text/plain": [
       "<matplotlib.figure.Figure at 0x842deb8>"
      ]
     },
     "metadata": {},
     "output_type": "display_data"
    }
   ],
   "source": [
    "partidas=[10,100,200,300,400,500]\n",
    "resultadosQPlayer=[8,76,149,226,311,385]\n",
    "porcentajeQPlayer=np.multiply(resultadosQPlayer,100)/partidas\n",
    "resultadosRPlayer=[2,24,51,84,99,115]\n",
    "porcentajeRPlayer=np.multiply(resultadosRPlayer,100)/partidas\n",
    "\n",
    "\n",
    "plt.figure()\n",
    "\n",
    "plt.xlim([0, 500])\n",
    "plt.ylim([0, 100])\n",
    "\n",
    "#plt.plot(t1, f(t1), 'bo', t2, f(t2), 'k')\n",
    "plt.xlabel('CANTIDAD DE PARTIDAS')\n",
    "plt.ylabel('% PARTIDAS GANADAS')\n",
    "#plt.title('resultados')\n",
    "plt.plot(partidas, porcentajeRPlayer,'bo',color='r',label='Random Player')\n",
    "plt.plot(partidas, porcentajeRPlayer,color='r')\n",
    "plt.plot(partidas, porcentajeQPlayer,'bo',label='Q-Player')\n",
    "plt.plot(partidas, porcentajeQPlayer)\n",
    "plt.legend()\n",
    "\n",
    "plt.show()\n",
    "\n",
    "\n"
   ]
  },
  {
   "cell_type": "markdown",
   "metadata": {},
   "source": [
    "Si comparamos la forma de aprendizaje del Q-P cuando Q(estado,acción) se inicializa con 1 y cuando se incializa aleatoriamente entre los posibles valores de la función recompensa, obtenemos:\n"
   ]
  },
  {
   "cell_type": "code",
   "execution_count": 16,
   "metadata": {
    "collapsed": false
   },
   "outputs": [
    {
     "data": {
      "image/png": "[encoded data removed]",
      "text/plain": [
       "<matplotlib.figure.Figure at 0x9db48d0>"
      ]
     },
     "metadata": {},
     "output_type": "display_data"
    }
   ],
   "source": [
    "partidas=[10,20,30,50,100,200,300,400,500]\n",
    "resultadosQPlayerr=[8,17,21,33,76,149,226,311,385]\n",
    "porcentajeQPlayerr=np.multiply(resultadosQPlayerr,100)/partidas\n",
    "resultadosRPlayerr=[2,3,9,17,24,51,84,99,115]\n",
    "porcentajeRPlayerr=np.multiply(resultadosRPlayerr,100)/partidas\n",
    "\n",
    "#partidas=[10,20,30,50,100,200,250,300,400,500]\n",
    "resultadosQPlayer1=[7,14,23,38,74,149,232,303,363]\n",
    "porcentajeQPlayer1=np.multiply(resultadosQPlayer1,100)/partidas\n",
    "resultadosRPlayer1=[3,6,7,12,26,51,68,73,137]\n",
    "porcentajeRPlayer1=np.multiply(resultadosRPlayer1,100)/partidas\n",
    "plt.figure()\n",
    "\n",
    "plt.xlim([0, 500])\n",
    "plt.ylim([0, 100])\n",
    "\n",
    "plt.subplot(211)\n",
    "#plt.xlabel('CANTIDAD DE PARTIDAS')\n",
    "plt.ylabel('% PARTIDAS GANADAS')\n",
    "plt.title('Q(estado,accion) Random')\n",
    "plt.plot(partidas, porcentajeRPlayerr,'bo',color='r',label='Random Player')\n",
    "plt.annotate('Random Player', xy=(200, 20), xytext=(200,15),color='r')\n",
    "plt.plot(partidas, porcentajeRPlayerr,color='r')\n",
    "plt.plot(partidas, porcentajeQPlayerr,'bo',label='Q-Player')\n",
    "plt.plot(partidas, porcentajeQPlayerr)\n",
    "plt.annotate('Q-Player', xy=(200, 80), xytext=(200,80),color='b')\n",
    "#plt.legend()\n",
    "\n",
    "\n",
    "\n",
    "plt.subplot(212)\n",
    "#plt.xlabel('CANTIDAD DE PARTIDAS')\n",
    "plt.ylabel('% PARTIDAS GANADAS')\n",
    "plt.title('Q(estado,accion) =1')\n",
    "plt.plot(partidas, porcentajeRPlayer1,'bo',color='r',label='Random Player')\n",
    "plt.plot(partidas, porcentajeRPlayer1,color='r')\n",
    "plt.annotate('Random Player', xy=(200, 20), xytext=(200,15),color='r')\n",
    "plt.plot(partidas, porcentajeQPlayer1,'bo',label='Q-Player')\n",
    "plt.plot(partidas, porcentajeQPlayer1)\n",
    "plt.annotate('Q-Player', xy=(200, 70), xytext=(200,70),color='b')\n",
    "#plt.legend()\n",
    "\n",
    "plt.show()"
   ]
  },
  {
   "cell_type": "markdown",
   "metadata": {},
   "source": [
    "Puede observarse comparando ambos gráficos que a partir de los entrenamientos con 100 juegos, los gráficos son similares. Sin embargo, cuando comparamos los experimentos realizados con menos repeticiones se nota que cuando inicializamos de forma random a la función Q, el Q-P tiene una marcada baja en el porcentaje de victorias. Adjudicamos eso a que en el proceso de aprendizaje necesita más instancias para deshacerse del ruido, pero si se entrena lo suficiente logra resultados similares a los que se obtienen con la incialización de Q(estado,accion)=1. En cualquiera de los dos casos, la brecha entre el Q-P y el R-P es significativa."
   ]
  },
  {
   "cell_type": "markdown",
   "metadata": {},
   "source": [
    "# Experimento 5 : profundidad 1 vs profundidad 2"
   ]
  },
  {
   "cell_type": "markdown",
   "metadata": {},
   "source": [
    "En los experimentos realizados hasta el momento la profundidad que consideraba el Q-P para elegir la mejor acción era 1. Quisimos indagar si el hecho de que considere una profundidad 2 daría mejores resultados. Nos hubiese gustado comparar tambien con profundidades 3 o 4 pero fueron inviables al momento de experimentar: cada decisión del jugador Q-P era muy (muy) lenta."
   ]
  },
  {
   "cell_type": "code",
   "execution_count": 17,
   "metadata": {
    "collapsed": false,
    "hide_input": true
   },
   "outputs": [
    {
     "data": {
      "image/png": "[encoded data removed]",
      "text/plain": [
       "<matplotlib.figure.Figure at 0x9d603c8>"
      ]
     },
     "metadata": {},
     "output_type": "display_data"
    }
   ],
   "source": [
    "\n",
    "\n",
    "partidas=[10,20,30,50,100]\n",
    "resultadosQPlayer2=[8,13,21,40,81]\n",
    "porcentajeQPlayer2=np.multiply(resultadosQPlayer2,100)/partidas\n",
    "resultadosRPlayer2=[2,7,9,10,19]\n",
    "porcentajeRPlayer2=np.multiply(resultadosRPlayer2,100)/partidas\n",
    "\n",
    "\n",
    "#partidas=[10,20,30,50,100]\n",
    "resultadosQPlayer1=[7,14,23,38,74]\n",
    "porcentajeQPlayer1=np.multiply(resultadosQPlayer1,100)/partidas\n",
    "resultadosRPlayer1=[3,6,7,12,26]\n",
    "porcentajeRPlayer1=np.multiply(resultadosRPlayer1,100)/partidas\n",
    "\n",
    "\n",
    "\n",
    "plt.figure()\n",
    "\n",
    "plt.xlim([0, 100])\n",
    "plt.ylim([0, 100])\n",
    "\n",
    "plt.subplot(212)\n",
    "#plt.xlabel('CANTIDAD DE PARTIDAS')\n",
    "plt.ylabel('% PARTIDAS GANADAS')\n",
    "plt.title('Profundidad 2')\n",
    "plt.plot(partidas, porcentajeRPlayer2,'bo',color='r',label='Random Player')\n",
    "plt.plot(partidas, porcentajeRPlayer2,color='r')\n",
    "plt.annotate('Random Player', xy=(10, 20), xytext=(12, 20),color='r')\n",
    "plt.plot(partidas, porcentajeQPlayer2,'bo',label='Q-Player')\n",
    "plt.plot(partidas, porcentajeQPlayer2)\n",
    "plt.annotate('Q-Player', xy=(11, 80), xytext=(12, 80),color='b')\n",
    "#plt.legend()\n",
    "\n",
    "\n",
    "\n",
    "plt.subplot(211)\n",
    "#plt.xlabel('CANTIDAD DE PARTIDAS')\n",
    "plt.ylabel('% PARTIDAS GANADAS')\n",
    "plt.title('Profundidad 1')\n",
    "plt.plot(partidas, porcentajeRPlayer1,'bo',color='r',label='Random Player')\n",
    "plt.plot(partidas, porcentajeRPlayer1,color='r')\n",
    "plt.annotate('Random Player', xy=(10, 40), xytext=(12, 40),color='r')\n",
    "plt.plot(partidas, porcentajeQPlayer1,'bo',label='Q-Player')\n",
    "plt.plot(partidas, porcentajeQPlayer1)\n",
    "plt.annotate('Q-Player', xy=(11, 60), xytext=(12, 60),color='b')\n",
    "#plt.legend()\n",
    "\n",
    "plt.show()"
   ]
  },
  {
   "cell_type": "markdown",
   "metadata": {},
   "source": [
    "Contrario a lo que esperábamos podemos observar que el jugador Q-P con profundidad 2 necesita de más entrenamientos para comenzar a tener resultados similares a los que obtiene con profundidad 1. "
   ]
  },
  {
   "cell_type": "code",
   "execution_count": 12,
   "metadata": {
    "collapsed": false
   },
   "outputs": [
    {
     "name": "stdout",
     "output_type": "stream",
     "text": [
      "/home/jmperez/.ipython\n"
     ]
    },
    {
     "name": "stderr",
     "output_type": "stream",
     "text": [
      "/home/jmperez/.pyenv/versions/2.7.12/envs/aprendizaje/lib/python2.7/site-packages/IPython/utils/path.py:259: UserWarning: get_ipython_dir has moved to the IPython.paths module\n",
      "  warn(\"get_ipython_dir has moved to the IPython.paths module\")\n"
     ]
    }
   ],
   "source": [
    "from IPython.utils.path import get_ipython_dir\n",
    "print get_ipython_dir()"
   ]
  },
  {
   "cell_type": "code",
   "execution_count": null,
   "metadata": {
    "collapsed": true
   },
   "outputs": [],
   "source": []
  }
 ],
 "metadata": {
  "anaconda-cloud": {},
  "celltoolbar": "Edit Metadata",
  "kernelspec": {
   "display_name": "Python 2",
   "language": "python",
   "name": "python2"
  },
  "language_info": {
   "codemirror_mode": {
    "name": "ipython",
    "version": 2
   },
   "file_extension": ".py",
   "mimetype": "text/x-python",
   "name": "python",
   "nbconvert_exporter": "python",
   "pygments_lexer": "ipython2",
   "version": "2.7.12"
  }
 },
 "nbformat": 4,
 "nbformat_minor": 0
}
