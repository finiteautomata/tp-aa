{
 "cells": [
  {
   "cell_type": "code",
   "execution_count": 1,
   "metadata": {
    "collapsed": false
   },
   "outputs": [
    {
     "name": "stdout",
     "output_type": "stream",
     "text": [
      "Buscando dataframe en C:\\Users\\okus\\Documents\\GitHub\\tp-aa\\cache\\dataframe.pickle\n",
      "Encontrado. Dimensiones: (90000, 56)\n",
      "trate de borrar pero no pude\n",
      "Dataframe construído\n",
      "Dataframe guardado en C:\\Users\\okus\\Documents\\GitHub\\tp-aa\\cache\\dataframe.pickle\n",
      "Dimensiones: (90000, 56)\n"
     ]
    }
   ],
   "source": [
    "# Esto agrega al python path el directorio ..\n",
    "import sys\n",
    "sys.path.append(\"..\")\n",
    "\n",
    "import numpy as np\n",
    "import config\n",
    "from dataframe_builder import DataFrameBuilder\n",
    "\n",
    "builder = DataFrameBuilder()\n",
    "df = builder.build()"
   ]
  },
  {
   "cell_type": "code",
   "execution_count": 49,
   "metadata": {
    "collapsed": false
   },
   "outputs": [],
   "source": [
    "from sklearn.decomposition import PCA\n",
    "\n",
    "#help(PCA)\n",
    "\n"
   ]
  },
  {
   "cell_type": "code",
   "execution_count": 39,
   "metadata": {
    "collapsed": true
   },
   "outputs": [],
   "source": [
    "from sklearn.decomposition import PCA\n",
    "\n",
    "X = df.design_matrix\n",
    "y = df.outcomes\n",
    "\n",
    "pca = PCA()\n",
    "pca.fit(X)\n",
    "\n",
    "spam_pca= pca.transform(X[0:45000])\n",
    "ham_pca = pca.transform(X[45000:90000])\n",
    "\n",
    "X_pca= np.concatenate((spam_pca,ham_pca))"
   ]
  },
  {
   "cell_type": "markdown",
   "metadata": {},
   "source": [
    "#### Arboles\n"
   ]
  },
  {
   "cell_type": "code",
   "execution_count": 6,
   "metadata": {
    "collapsed": false
   },
   "outputs": [],
   "source": [
    "from sklearn.tree import DecisionTreeClassifier\n",
    "from sklearn import cross_validation\n",
    "\n",
    "#help(DecisionTreeClassifier)"
   ]
  },
  {
   "cell_type": "code",
   "execution_count": 65,
   "metadata": {
    "collapsed": false
   },
   "outputs": [
    {
     "name": "stdout",
     "output_type": "stream",
     "text": [
      "Arboles sin pca:\n",
      "0.957477176296 [ 0.98326667  0.95173153  0.93743333]\n"
     ]
    }
   ],
   "source": [
    "clf_tree = DecisionTreeClassifier()\n",
    "clf_tree.fit(X,y)\n",
    "scores = cross_validation.cross_val_score(clf_tree, X, y,scoring='roc_auc')\n",
    "print \"Arboles sin pca:\"\n",
    "print scores.mean(), scores"
   ]
  },
  {
   "cell_type": "code",
   "execution_count": 66,
   "metadata": {
    "collapsed": false
   },
   "outputs": [
    {
     "name": "stdout",
     "output_type": "stream",
     "text": [
      "Arboles con pca:\n",
      "0.94298809037 [ 0.97083333  0.9361976   0.92193333]\n"
     ]
    }
   ],
   "source": [
    "clf_tree_pca = DecisionTreeClassifier()\n",
    "clf_tree_pca.fit(X_pca,y)\n",
    "scores_tree_pca = cross_validation.cross_val_score(clf_tree_pca, X_pca, y,scoring='roc_auc')\n",
    "print \"Arboles con pca:\"\n",
    "print scores_tree_pca.mean(), scores_tree_pca"
   ]
  },
  {
   "cell_type": "markdown",
   "metadata": {},
   "source": [
    "### Naive Bernoulli"
   ]
  },
  {
   "cell_type": "code",
   "execution_count": 61,
   "metadata": {
    "collapsed": false
   },
   "outputs": [
    {
     "name": "stdout",
     "output_type": "stream",
     "text": [
      "Naive sin pca:\n",
      "0.94798880963 [ 0.99629257  0.93472249  0.91295137]\n"
     ]
    }
   ],
   "source": [
    "\n",
    "from sklearn.naive_bayes import BernoulliNB\n",
    "clf_naive_NB = BernoulliNB()\n",
    "clf_naive_NB.fit(X, y)\n",
    "scores_naive_NB = cross_validation.cross_val_score(clf_naive_NB, X, y, scoring='roc_auc')\n",
    "print \"Naive sin pca:\"\n",
    "print scores_naive_NB.mean(), scores_naive_NB"
   ]
  },
  {
   "cell_type": "code",
   "execution_count": 60,
   "metadata": {
    "collapsed": false
   },
   "outputs": [
    {
     "name": "stdout",
     "output_type": "stream",
     "text": [
      "Naive con pca:\n",
      "0.866963577778 [ 0.91176198  0.87708155  0.81204721]\n"
     ]
    }
   ],
   "source": [
    "clf_naive_NB_pca = BernoulliNB()\n",
    "clf_naive_NB_pca.fit(X_pca,y)\n",
    "scores_naive_NB_pca = cross_validation.cross_val_score(clf_naive_NB_pca, X_pca, y, scoring='roc_auc')\n",
    "print \"Naive con pca:\"\n",
    "print scores_naive_NB_pca.mean(), scores_naive_NB_pca"
   ]
  },
  {
   "cell_type": "code",
   "execution_count": 53,
   "metadata": {
    "collapsed": true
   },
   "outputs": [],
   "source": [
    "#### Naive Gaussian"
   ]
  },
  {
   "cell_type": "code",
   "execution_count": 62,
   "metadata": {
    "collapsed": false
   },
   "outputs": [
    {
     "name": "stdout",
     "output_type": "stream",
     "text": [
      "Naive G sin pca:\n",
      "0.826617777037 [ 0.8410228   0.81170625  0.82712427] 0.0119737893232\n"
     ]
    }
   ],
   "source": [
    "from sklearn.naive_bayes import GaussianNB\n",
    "clf_naive_GNB = GaussianNB()\n",
    "clf_naive_GNB.fit(X, y)\n",
    "scores_naive_GNB = cross_validation.cross_val_score(clf_naive_GNB, X, y, scoring='roc_auc')\n",
    "print \"Naive G sin pca:\"\n",
    "print scores_naive_GNB.mean(), scores_naive_GNB, scores_naive_GNB.std()"
   ]
  },
  {
   "cell_type": "code",
   "execution_count": 64,
   "metadata": {
    "collapsed": false
   },
   "outputs": [
    {
     "name": "stdout",
     "output_type": "stream",
     "text": [
      "Naive G con pca:\n",
      "0.827252851111 [ 0.81957101  0.82223108  0.83995646] 0.00904821046726\n"
     ]
    }
   ],
   "source": [
    "clf_naive_GNB_pca = GaussianNB()\n",
    "clf_naive_GNB_pca.fit(X_pca,y)\n",
    "scores_naive_GNB_pca = cross_validation.cross_val_score(clf_naive_GNB_pca, X_pca, y, scoring='roc_auc')\n",
    "print \"Naive G con pca:\"\n",
    "print scores_naive_GNB_pca.mean(), scores_naive_GNB_pca,  scores_naive_GNB_pca.std()"
   ]
  },
  {
   "cell_type": "code",
   "execution_count": null,
   "metadata": {
    "collapsed": true
   },
   "outputs": [],
   "source": []
  }
 ],
 "metadata": {
  "kernelspec": {
   "display_name": "Python [Root]",
   "language": "python",
   "name": "Python [Root]"
  },
  "language_info": {
   "codemirror_mode": {
    "name": "ipython",
    "version": 2
   },
   "file_extension": ".py",
   "mimetype": "text/x-python",
   "name": "python",
   "nbconvert_exporter": "python",
   "pygments_lexer": "ipython2",
   "version": "2.7.12"
  }
 },
 "nbformat": 4,
 "nbformat_minor": 0
}
