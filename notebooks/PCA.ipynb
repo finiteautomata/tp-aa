{
 "cells": [
  {
   "cell_type": "code",
   "execution_count": 2,
   "metadata": {
    "collapsed": false
   },
   "outputs": [
    {
     "name": "stdout",
     "output_type": "stream",
     "text": [
      "Buscando dataframe en C:\\Users\\okus\\Documents\\GitHub\\tp-aa\\cache\\dataframe.pickle\n",
      "Encontrado. Dimensiones: (80995, 72)\n",
      "trate de borrar pero no pude\n",
      "Dataframe construído\n",
      "Dataframe guardado en C:\\Users\\okus\\Documents\\GitHub\\tp-aa\\cache\\dataframe.pickle\n",
      "Dimensiones: (80995, 72)\n"
     ]
    }
   ],
   "source": [
    "# Esto agrega al python path el directorio ..\n",
    "import sys\n",
    "sys.path.append(\"..\")\n",
    "\n",
    "import numpy as np\n",
    "import config\n",
    "from dataframe_builder import DataFrameBuilder\n",
    "\n",
    "builder = DataFrameBuilder()\n",
    "df = builder.build()\n"
   ]
  },
  {
   "cell_type": "code",
   "execution_count": 3,
   "metadata": {
    "collapsed": false
   },
   "outputs": [
    {
     "name": "stdout",
     "output_type": "stream",
     "text": [
      "80995\n"
     ]
    }
   ],
   "source": [
    "from sklearn.decomposition import PCA\n",
    "\n",
    "X = df.design_matrix\n",
    "y = df.outcomes\n",
    "print len(X)\n",
    "\n",
    "pca = PCA()\n",
    "pca.fit(X)\n",
    "\n",
    "spam_pca= pca.transform(X[0:45000])\n",
    "ham_pca = pca.transform(X[45000:90000])\n",
    "\n",
    "X_pca= np.concatenate((spam_pca,ham_pca))"
   ]
  },
  {
   "cell_type": "markdown",
   "metadata": {},
   "source": [
    "### Arboles\n"
   ]
  },
  {
   "cell_type": "code",
   "execution_count": 4,
   "metadata": {
    "collapsed": false
   },
   "outputs": [
    {
     "name": "stdout",
     "output_type": "stream",
     "text": [
      "Arboles sin pca:\n",
      "0.965652163394 [ 0.98436958  0.96051609  0.95207082]\n",
      "Arboles con pca:\n",
      "0.953996979924 [ 0.97788756  0.94788555  0.93621783]\n"
     ]
    }
   ],
   "source": [
    "from sklearn.tree import DecisionTreeClassifier\n",
    "from sklearn import cross_validation\n",
    "\n",
    "#help(DecisionTreeClassifier)\n",
    "\n",
    "clf_tree = DecisionTreeClassifier()\n",
    "clf_tree.fit(X,y)\n",
    "scores = cross_validation.cross_val_score(clf_tree, X, y,scoring='roc_auc')\n",
    "print \"Arboles sin pca:\"\n",
    "print scores.mean(), scores\n",
    "\n",
    "clf_tree_pca = DecisionTreeClassifier()\n",
    "clf_tree_pca.fit(X_pca,y)\n",
    "scores_tree_pca = cross_validation.cross_val_score(clf_tree_pca, X_pca, y,scoring='roc_auc')\n",
    "print \"Arboles con pca:\"\n",
    "print scores_tree_pca.mean(), scores_tree_pca"
   ]
  },
  {
   "cell_type": "markdown",
   "metadata": {},
   "source": [
    "### Naive Bernoulli"
   ]
  },
  {
   "cell_type": "code",
   "execution_count": 5,
   "metadata": {
    "collapsed": false
   },
   "outputs": [
    {
     "name": "stdout",
     "output_type": "stream",
     "text": [
      "Naive sin pca:\n",
      "0.947814202714 [ 0.99478639  0.93651172  0.9121445 ]\n",
      "Naive con pca:\n",
      "0.887146336461 [ 0.95643654  0.87964223  0.82536024]\n"
     ]
    }
   ],
   "source": [
    "\n",
    "from sklearn.naive_bayes import BernoulliNB\n",
    "clf_naive_NB = BernoulliNB()\n",
    "clf_naive_NB.fit(X, y)\n",
    "scores_naive_NB = cross_validation.cross_val_score(clf_naive_NB, X, y, scoring='roc_auc')\n",
    "print \"Naive sin pca:\"\n",
    "print scores_naive_NB.mean(), scores_naive_NB\n",
    "\n",
    "clf_naive_NB_pca = BernoulliNB()\n",
    "clf_naive_NB_pca.fit(X_pca,y)\n",
    "scores_naive_NB_pca = cross_validation.cross_val_score(clf_naive_NB_pca, X_pca, y, scoring='roc_auc')\n",
    "print \"Naive con pca:\"\n",
    "print scores_naive_NB_pca.mean(), scores_naive_NB_pca"
   ]
  },
  {
   "cell_type": "markdown",
   "metadata": {
    "collapsed": true
   },
   "source": [
    "#### Naive Gaussian"
   ]
  },
  {
   "cell_type": "code",
   "execution_count": 6,
   "metadata": {
    "collapsed": false
   },
   "outputs": [
    {
     "name": "stdout",
     "output_type": "stream",
     "text": [
      "Naive G sin pca:\n",
      "0.804336654979 [ 0.69053031  0.85442645  0.86805321] 0.080665300459\n",
      "Naive G con pca:\n",
      "0.756951554518 [ 0.54608468  0.85505682  0.86971316] 0.149225401753\n"
     ]
    }
   ],
   "source": [
    "from sklearn.naive_bayes import GaussianNB\n",
    "clf_naive_GNB = GaussianNB()\n",
    "clf_naive_GNB.fit(X, y)\n",
    "scores_naive_GNB = cross_validation.cross_val_score(clf_naive_GNB, X, y, scoring='roc_auc')\n",
    "print \"Naive G sin pca:\"\n",
    "print scores_naive_GNB.mean(), scores_naive_GNB, scores_naive_GNB.std()\n",
    "\n",
    "clf_naive_GNB_pca = GaussianNB()\n",
    "clf_naive_GNB_pca.fit(X_pca,y)\n",
    "scores_naive_GNB_pca = cross_validation.cross_val_score(clf_naive_GNB_pca, X_pca, y, scoring='roc_auc')\n",
    "print \"Naive G con pca:\"\n",
    "print scores_naive_GNB_pca.mean(), scores_naive_GNB_pca,  scores_naive_GNB_pca.std()"
   ]
  },
  {
   "cell_type": "markdown",
   "metadata": {
    "collapsed": true
   },
   "source": [
    "### Random Forest"
   ]
  },
  {
   "cell_type": "code",
   "execution_count": 7,
   "metadata": {
    "collapsed": false
   },
   "outputs": [
    {
     "name": "stdout",
     "output_type": "stream",
     "text": [
      "Random Forest sin pca:\n",
      "0.997684909792 [ 0.99985547  0.99762954  0.99556972] 0.00175008631778\n",
      "Random Forest con pca:\n",
      "0.997714643973 [ 0.99983659  0.99753669  0.99577066] 0.00166467015392\n"
     ]
    }
   ],
   "source": [
    "from sklearn.ensemble import RandomForestClassifier\n",
    "\n",
    "clf_random_forest= RandomForestClassifier(n_estimators= 55, min_samples_split=2, criterion= 'gini', max_depth= 50, max_features= 0.10000000000000001)\n",
    "clf_random_forest.fit(X,y)\n",
    "\n",
    "\n",
    "scores_random_forest = cross_validation.cross_val_score(clf_random_forest, X, y, scoring='roc_auc')\n",
    "\n",
    "\n",
    "print \"Random Forest sin pca:\"\n",
    "print scores_random_forest.mean(), scores_random_forest, scores_random_forest.std()\n",
    "\n",
    "clf_random_forest_pca= RandomForestClassifier(n_estimators= 55, min_samples_split=2, criterion= 'gini', max_depth= 50, max_features= 0.10000000000000001)\n",
    "\n",
    "clf_random_forest_pca.fit(X,y)\n",
    "\n",
    "scores_random_forest_pca = cross_validation.cross_val_score(clf_random_forest_pca, X, y, scoring='roc_auc')\n",
    "print \"Random Forest con pca:\"\n",
    "print scores_random_forest_pca.mean(), scores_random_forest_pca, scores_random_forest_pca.std()"
   ]
  },
  {
   "cell_type": "code",
   "execution_count": 6,
   "metadata": {
    "collapsed": true
   },
   "outputs": [],
   "source": [
    "#from sklearn.decomposition import KernelPCA\n",
    "#kpca = KernelPCA(kernel=\"rbf\", fit_inverse_transform=True, gamma=10)\n",
    "#X_kpca = kpca.fit_transform(X)\n",
    "\n",
    "#clf_random_forest_pca= RandomForestClassifier(n_estimators= 55, min_samples_split=2, criterion= 'gini', max_depth= 50, max_features= 0.10000000000000001)\n",
    "\n",
    "#clf_random_forest_pca.fit(X,y)\n",
    "\n",
    "#scores_random_forest_pca = cross_validation.cross_val_score(clf_random_forest_pca, X, y, scoring='roc_auc')\n",
    "#print \"Random Forest con pca:\"\n",
    "#print scores_random_forest_pca.mean(), scores_random_forest_pca, scores_random_forest_pca.std()"
   ]
  },
  {
   "cell_type": "markdown",
   "metadata": {},
   "source": [
    "### SVM"
   ]
  },
  {
   "cell_type": "code",
   "execution_count": null,
   "metadata": {
    "collapsed": true
   },
   "outputs": [],
   "source": [
    "#from sklearn.svm import SVC\n",
    "\n",
    "#clf_svc= SVC()\n",
    "#clf_svc.fit(X,y)\n",
    "\n",
    "\n",
    "#scores_svc = cross_validation.cross_val_score(clf_svc, X, y, scoring='roc_auc')\n",
    "\n",
    "\n",
    "#print \"SVC sin pca:\"\n",
    "#print scores_svc.mean(), scores_svc, scores_svc.std()"
   ]
  },
  {
   "cell_type": "code",
   "execution_count": null,
   "metadata": {
    "collapsed": true
   },
   "outputs": [],
   "source": []
  }
 ],
 "metadata": {
  "anaconda-cloud": {},
  "kernelspec": {
   "display_name": "Python [Root]",
   "language": "python",
   "name": "Python [Root]"
  },
  "language_info": {
   "codemirror_mode": {
    "name": "ipython",
    "version": 2
   },
   "file_extension": ".py",
   "mimetype": "text/x-python",
   "name": "python",
   "nbconvert_exporter": "python",
   "pygments_lexer": "ipython2",
   "version": "2.7.12"
  }
 },
 "nbformat": 4,
 "nbformat_minor": 0
}
