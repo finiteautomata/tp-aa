{
 "cells": [
  {
   "cell_type": "markdown",
   "metadata": {},
   "source": [
    "# Búsqueda de atributos\n",
    "\n",
    "Esta notebook es para generar nuevos atributos para el dataframe\n"
   ]
  },
  {
   "cell_type": "code",
   "execution_count": 24,
   "metadata": {
    "collapsed": false
   },
   "outputs": [
    {
     "name": "stdout",
     "output_type": "stream",
     "text": [
      "Populating the interactive namespace from numpy and matplotlib\n"
     ]
    }
   ],
   "source": [
    "%pylab inline\n",
    "# Esto agrega al python path el directorio ..\n",
    "import sys\n",
    "sys.path.append(\"..\")\n",
    "\n",
    "import numpy as np\n",
    "import config\n",
    "from transformers import transformer\n",
    "from data_builder import load_test_data, load_dev_data, load_small_dev_data\n",
    "\n",
    "\n",
    "df, target = load_small_dev_data()"
   ]
  },
  {
   "cell_type": "markdown",
   "metadata": {},
   "source": [
    "# From y to\n",
    "\n",
    "Veamos la pinta de los remitentes y recipientes\n",
    "\n",
    "Primero, agarro algo de spam y ham"
   ]
  },
  {
   "cell_type": "code",
   "execution_count": 32,
   "metadata": {
    "collapsed": false
   },
   "outputs": [],
   "source": [
    "receivers = df.parsed_emails.apply(lambda p: p.get_all(\"To\") or p.get_all(\"to\") or [])\n",
    "senders = df.parsed_emails.apply(lambda p: p.get_all(\"From\") or p.get_all(\"from\") or [])\n",
    "\n",
    "def join_mails(t):\n",
    "    return \";\".join(t)\n",
    "\n",
    "df['from_text'] = senders.apply(join_mails)\n",
    "df['to_text'] = receivers.apply(join_mails)"
   ]
  },
  {
   "cell_type": "code",
   "execution_count": 33,
   "metadata": {
    "collapsed": false
   },
   "outputs": [],
   "source": [
    "spam = df[target].sample(30)\n",
    "ham = df[target == False].sample(30)\n",
    "\n"
   ]
  },
  {
   "cell_type": "code",
   "execution_count": 34,
   "metadata": {
    "collapsed": false
   },
   "outputs": [
    {
     "name": "stdout",
     "output_type": "stream",
     "text": [
      "Enviadores de spam\n",
      "====================================================================================================\n",
      "<nicolas.ellison>\n",
      "\"Watchmen O. Homiest\" <chinagorom.kelechi@acnielsen-ng.com>\n",
      "\"Jeffery Farley\" <jeffery.farleymt@wxs.nl>\n",
      "\"giveaway consumer research gift dept.\" <andressampson#####>\n",
      "\"catalina romero\" <jzqyeiphh#####>\n",
      "=?Windows-1251?B?Y2hpLXRhaQ==?= <afrid@acadia.net>\n",
      "Zoe  Donaldson <ukdaxguzjml@certifiedmail.com>\n",
      "\"donya nichols\" <reuben@hosannamail.com>\n",
      "\"fidel pritchard\" <tykdqknrjlkf#####>\n",
      "\"a touch of class\" <atouchofclass#####>\n",
      "\"Jared Yazzie\" <phzprmnvrznr@yahoo.com>\n",
      "\"Klahan Renteria\" <Ilta@jeromegroup.com>\n",
      "\"¬fÁp¤å¤Æ¨Æ·~ªÑ¥÷¦³­­¤½¥q\" <brmy.ui@msa.hinet.net>\n",
      "\"alexis hickey\" <uijbdnkkbnrmfq#####>\n",
      "=?GB2312?B?tc/Rxw==?= <381048041@qq.com>\n",
      "Noreply <noreply@usg-jobsupport.com>\n",
      "\"°í°´¼¾Å¸\" <ruyjs546yerytfghf@yahoo.co.kr>\n",
      "Paul A. Davis <bamber@access-one.com>\n",
      "\"scott\" <scott#####>\n",
      "\"Travelocity.com\" <feedback@travelocity.m0.net>\n",
      "=?utf-8?q?Neville Dae?= <categorizeremymfe@speedacm.org>\n",
      "\"shirley page\" <page_jn#####-warburg.de>\n",
      "\"legal services\" <superdeals1#####>\n",
      "\"Leah Farley\" <poywmqfb@dup.com>\n",
      "\"¼³¹®\" <ktevent@naver.com>\n",
      "\"gwen holley\" <g_holleyzf#####>\n",
      "\"Clifford D. Nguyen\" <cd.nguyenlb@mailcity.com>\n",
      "\"barbra\" <ericmk#####>\n",
      "\"f>ree gadgets\" <gadgets#####>\n",
      "\"knobias smallcap clipreport\" <knobias#####>\n",
      "\n",
      "\n",
      "Enviadores de ham\n",
      "====================================================================================================\n",
      "hotline-alert@nationaljournal.com\n",
      "vince.kaminski#####\n",
      "sherri.sera#####\n",
      "\"Enron Office Of The Chairman\" <mbx_OfficeChairman@ENRON.com>\n",
      "\"Hagen, Bob\" <Bob.Hagen@ENRON.com>\n",
      "\"Nelson, Michelle\" <Michelle.Nelson@ENRON.com>\n",
      "shirley.crenshaw#####\n",
      "\"Postlethwaite, John\" <John.D.Postlethwaite@ENRON.com>\n",
      "\"Tomaski, Richard\" <Richard.Tomaski@ENRON.com>\n",
      "lisa.kinsey#####\n",
      "\"Krejci, Richard J.\" <rick_krejci@kindermorgan.com>\n",
      "\"Parking & Transportation\" <mbx_parktrans@ENRON.com>\n",
      "\"Reeves, Leslie\" <Leslie.Reeves@ENRON.com>\n",
      "\"Gerd Engelmann\" <Gerd.Sylvia@web.de>\n",
      "fdiebold#####\n",
      "david.baumbach#####\n",
      "\"Whitt, Mark\" <Mark.Whitt@ENRON.com>\n",
      "\"Williams, Amelia\" <Amelia.Williams@ENRON.com>\n",
      "executive.office#####\n",
      "Schedule Crawler<pete.davis@enron.com>\n",
      "perfmgmt#####\n",
      "\"Valdez, Christina\" <Christina.Valdez@ENRON.com>\n",
      "brian.redmond#####\n",
      "michelle.lokay#####\n",
      "\"Landry, Shemeika S.\" <Shemeika.S.Landry@ENRON.com>\n",
      "mkhenderson#####-energy.com\n",
      "pete.davis#####\n",
      "\"Abel, Chris\" <Chris.Abel@ENRON.com>\n",
      "\"Thode, Eric\" <Eric.Thode@ENRON.com>\n",
      "\"Pam Storey\" <JimmyStorey@fbcc.com>\n"
     ]
    }
   ],
   "source": [
    "print \"Enviadores de spam\"\n",
    "print \"=\"* 100\n",
    "print \"\\n\".join(spam.from_text)\n",
    "print \"\\n\\nEnviadores de ham\"\n",
    "print \"=\"* 100\n",
    "print \"\\n\".join(ham.from_text)\n"
   ]
  },
  {
   "cell_type": "code",
   "execution_count": 35,
   "metadata": {
    "collapsed": false,
    "scrolled": false
   },
   "outputs": [
    {
     "name": "stdout",
     "output_type": "stream",
     "text": [
      "Receptores de spam\n",
      "====================================================================================================\n",
      "<jkoutsi#####>\n",
      "chris.germany <chris.germany@enron.com>\n",
      "Kam.Keiser@ENRON.com\n",
      "<paliourg#####>\n",
      "<derm#####>\n",
      "michael.e.taylor@enron.com\n",
      "gwhalle <gwhalle@enron.com>\n",
      "\"Helga Arnold\" <MWHITT@ENRON.COM>\n",
      "<paliourg#####>\n",
      "##########\n",
      "Michael.E.Taylor@enron.com, gstorey@ect.enron.com, gstorey@exchange.enron.com, Tom.Donohoe@enron.com, KHOLST@ENRON.COM, Shelley.Corman@ENRON.com, Rshapiro@enron.com\n",
      "\"Evita Lancaster\" <Rod.Hayslett@enron.com>\n",
      "JREITME@ECT.ENRON.COM\n",
      "<paliourg#####>\n",
      "shelley.corman@enron.com\n",
      "Richard.Shapiro <Richard.Shapiro@enron.com>\n",
      "Tom.Donohoe@enron.com\n",
      "Tom.Donohoe@enron.com\n",
      "##########\n",
      "KHOLST@enron.com\n",
      "=?utf-8?q?Laurence Wne?= <Martin.Cuilla@ENRON.com>\n",
      "<paliourg#####>\n",
      "<paliourg#####>\n",
      "<Lisa.Gang@enron.com>\n",
      "mark.dana.davis@enron.com\n",
      "<paliourg#####>\n",
      "Rod.Hayslett@ENRON.com\n",
      "<paliourg#####>\n",
      "##########\n",
      "##########\n",
      "\n",
      "Receptores de ham\n",
      "====================================================================================================\n",
      "undisclosed-recipients:;\n",
      "sandeep.kohli#####\n",
      "vince.kaminski#####\n",
      "\"DL-GA-all_enron_worldwide4\" <DL-GA-all_enron_worldwide4@ENRON.com>\n",
      "\"Corman, Shelley\" <Shelley.Corman@ENRON.com>,\n",
      "\t\"January, Steve\" <Steve.January@ENRON.com>,\n",
      "\t\"Blair, Lynn\" <Lynn.Blair@ENRON.com>,\n",
      "\t\"Bryant, Mike\" <Mike.Bryant@ENRON.com>,\n",
      "\t\"Nacey, Sheila\" <Sheila.Nacey@ENRON.com>,\n",
      "\t\"Scott, Donna\" <Donna.Scott@ENRON.com>,\n",
      "\t\"Buchanan, John\" <John.Buchanan@ENRON.com>,\n",
      "\t\"Kenagy, Gary\" <Gary.Kenagy@ENRON.com>,\n",
      "\t\"Wood, Steve\" <Steve.Wood@ENRON.com>\n",
      "\"Maggi, Mike\" <Mike.Maggi@ENRON.com>\n",
      "lyn.malina#####\n",
      "\"White, Stacey W.\" <Stacey.W.White@ENRON.com>,\n",
      "\t\"Poston, David\" <David.Poston@ENRON.com>\n",
      "\"Storey, Geoff\" <Geoff.Storey@ENRON.com>\n",
      "vseckler#####\n",
      "\"'Alicia Jansen'\" <AliciaJansen1@msn.com>,\n",
      "   \"'Barbara Harmon'\" <BAH@Vitol.com>, \"'BUnruh'\" <BUnruh@msn.com>,\n",
      "   \"'Carol Goss'\" <cgoss@getus.com>, \"'Cindy Hudler'\" <chudler@ect.enron.com>,\n",
      "   \"'Dr Theisen'\" <DocTheisen@hotmail.com>,\n",
      "   \"'Eric Jansen (E-mail)'\" <eric.a.jansen@exxonmobil.com>,\n",
      "   \"'Erin Dietsch'\" <erindietsch@ev1.net>,\n",
      "   \"'Greg Vaughn'\" <gvaughn1@houston.rr.com>,\n",
      "   \"'Jeff Joern'\" <jeff@joernfamily.net>, \"'Jim Ketcham'\" <J2ketcham@aol.com>,\n",
      "   \"'Joe and Leslie Ragusa'\" <therags@worldnet.att.net>,\n",
      "   \"'Judy Leinhardt'\" <leinharj@bp.com>,\n",
      "   \"'Karen Finkelman'\" <Kfinkel127@aol.com>,\n",
      "   \"'Karl and Jackie Breckon'\" <jbreckon2@attbi.com>,\n",
      "   \"'Kelly Daly-home'\" <kellyadaly@aol.com>,\n",
      "   \"'Kevin Hyatt'\" <khyatt@enron.com>, \"'larry cook'\" <larry_r_cook@yahoo.com>,\n",
      "   \"'Mark Brand'\" <hbrand@houston.rr.com>,\n",
      "   \"'Michelle Wolpert'\" <Michelle.Wolpert@CLAMERICAS.com>,\n",
      "   \"'Micki Peterson'\" <Micki.Peterson@aesmail.com>,\n",
      "   \"'Mike Gilson'\" <mgilson@am-meter.com>, \"'Nancy Grieg'\" <ngreig@hmns.org>,\n",
      "   \"'Norm Spalding'\" <Norm.Spalding@enron.com>,\n",
      "   \"'Rhonda Hager'\" <rhager@calpine.com>,\n",
      "   \"'Ruth Wassinger'\" <rwassinger@wealthmgmtpartners.com>,\n",
      "   \"'Stephen Brannon'\" <lumberjack2@msn.com>,\n",
      "   \"'Steve Veedell'\" <sveedell@mtgindex.com>,\n",
      "   \"'Arno S. Bommer'\" <arno@alum.mit.edu>\n",
      "\"Lokay, Michelle\" <Michelle.Lokay@ENRON.com>\n",
      "\"Beck, Sally\" <Sally.Beck@ENRON.com>\n",
      "\"Dieter Fischer\" <fisch23@web.de>\n",
      "fdiebold#####\n",
      "gary.stadler#####\n",
      "\"Nemec, Gerald\" <Gerald.Nemec@ENRON.com>,\n",
      "\t\"Lucci, Paul T.\" <Paul.T.Lucci@ENRON.com>,\n",
      "\t\"Harrison, Tyrell\" <Tyrell.Harrison@ENRON.com>\n",
      "\"Allen, Kelly\" <Kelly.Allen@ENRON.com>,\n",
      "\t\"Attasseril , Finney\" <Finney_Attasseril@ENRON.NET>,\n",
      "\t\"Baker, Henry\" <Henry.Baker@ENRON.com>,\n",
      "\t\"Baker, Lee\" <Lee.Baker@ENRON.com>,\n",
      "\t\"Barnes, Caroline\" <Caroline.Barnes@ENRON.com>,\n",
      "\t\"Bayley, Bruce\" <Bruce.Bayley@ENRON.com>,\n",
      "\t\"Brabham, Miriam\" <Miriam_Brabham@ENRON.net>,\n",
      "\t\"Brasher, Barney\" <Barney.Brasher@ENRON.com>,\n",
      "\t\"Cernoch, Leon\" <Leon.Cernoch@ENRON.com>,\n",
      "\t\"Concklin, Elaine\" <Elaine.Concklin@ENRON.com>,\n",
      "\t\"Culwell, Christi\" <Christi.Culwell@ENRON.com>,\n",
      "\t\"Fletcher, Frankie\" <Frankie.Fletcher@ENRON.com>,\n",
      "\t\"Geheb, Robert\" <Robert.Geheb@ENRON.com>,\n",
      "\t\"Goradia, Pallavi\" <Pallavi.Goradia@ENRON.com>,\n",
      "\t\"Hernandez, Dahlia\" <Dahlia.Hernandez@ENRON.com>,\n",
      "\t\"Jameson, Betty\" <Betty.Jameson@ENRON.com>,\n",
      "\t\"Jones, Vera\" <Vera.Jones@ENRON.com>,\n",
      "\t\"Kilmer III, Robert\" <Robert.Kilmer@ENRON.com>,\n",
      "\t\"Lichtenwalter, Blair\" <Blair.Lichtenwalter@ENRON.com>,\n",
      "\t\"Lokey, Teb\" <Teb.Lokey@ENRON.com>,\n",
      "\t\"Loyd Jr., Talbert\" <Talbert.Loyd@ENRON.com>,\n",
      "\t\"Navarro, Silvia\" <Silvia.Navarro@ENRON.com>,\n",
      "\t\"Northcutt, Judy\" <Judy.Northcutt@ENRON.com>,\n",
      "\t\"Palma, Larry\" <Larry.Palma@ENRON.com>,\n",
      "\t\"Paschal, Zelda\" <Zelda.Paschal@ENRON.com>,\n",
      "\t\"Patel, Sophie\" <Sophie.Patel@ENRON.com>,\n",
      "\t\"Perales, Maria\" <Maria.Perales@ENRON.com>,\n",
      "\t\"Prendergast, Pat\" <Pat.Prendergast@ENRON.com>,\n",
      "\t\"Richard, Teronna\" <Teronna.Richard@ENRON.com>,\n",
      "\t\"Schroeder, Maggie\" <Maggie.Schroeder@ENRON.com>,\n",
      "\t\"Smilenova, Rositza\" <Rositza.Smilenova@ENRON.com>,\n",
      "\t\"Thompson, Debra\" <Debbie.Thompson@ENRON.com>,\n",
      "\t\"Veatch, Stephen\" <Stephen.Veatch@ENRON.com>,\n",
      "\t\"Adame, Robert\" <Robert.Adame@ENRON.com>,\n",
      "\t\"Bayles, Timothy\" <Timothy.Bayles@ENRON.com>,\n",
      "\t\"Bickerstaff, Rene\" <Rene.Bickerstaff@ENRON.com>,\n",
      "\t\"Bragg, Kimberly\" <Kimberly.Bragg@ENRON.com>,\n",
      "\t\"Carethers, Ann\" <Ann.Carethers@ENRON.com>,\n",
      "\t\"Carriere, Frank\" <Frank.Carriere@ENRON.com>,\n",
      "\t\"Cisneros, Maria\" <Maria.Cisneros@ENRON.com>,\n",
      "\t\"Clennon, Dawn\" <Dawn.Clennon@ENRON.com>,\n",
      "\t\"Daniels, Diane\" <Diane.Daniels@ENRON.com>,\n",
      "\t\"Davis, Kasey\" <Kasey.Davis@ENRON.com>,\n",
      "\t\"Dimacali, Aurora\" <Aurora.Dimacali@ENRON.com>,\n",
      "\t\"Elizondo, Rudolph\" <Rudolph.Elizondo@ENRON.com>,\n",
      "\t\"Escamilla, Linda\" <Linda.Escamilla@ENRON.com>,\n",
      "\t\"Fancler, Dan\" <Dan.Fancler@ENRON.com>,\n",
      "\t\"Hubbard, Mary\" <Mary.Hubbard@ENRON.com>,\n",
      "\t\"Ivey, Hoyt\" <Hoyt.Ivey@ENRON.com>,\n",
      "\t\"Joe, Allen\" <Allen.Joe@ENRON.com>,\n",
      "\t\"Jolibois, Anne\" <Anne.Jolibois@ENRON.com>,\n",
      "\t\"Kennell, Amanda\" <Amanda.Kennell@ENRON.com>,\n",
      "\t\"Lin, Judy\" <Judy.Lin@ENRON.com>,\n",
      "\t\"Lyman, Jane\" <Jane.Lyman@ENRON.com>,\n",
      "\t\"Meerbott, Trey\" <Trey.Meerbott@ENRON.com>,\n",
      "\t\"Miller, Robert\" <Robert.Miller@ENRON.com>,\n",
      "\t\"Moseley, Debbie\" <Debbie.Moseley@ENRON.com>,\n",
      "\t\"Patterson, Sonya\" <Sonya.Patterson@ENRON.com>,\n",
      "\t\"Pham, Daniel \" <Daniel.Pham@ENRON.com>,\n",
      "\t\"Porter, Theresa\" <Theresa.Porter@ENRON.com>,\n",
      "\t\"Rainbow, Traci E.\" <Traci.E.Rainbow@ENRON.com>,\n",
      "\t\"Santellan, Dan\" <Dan.Santellan@ENRON.com>,\n",
      "\t\"Shupe, Jacob\" <Jacob.Shupe@ENRON.com>,\n",
      "\t\"Sutton, Lisa\" <Lisa.Sutton@ENRON.com>,\n",
      "\t\"Villela, Joe\" <Joe.Villela@ENRON.com>,\n",
      "\t\"Walters Jr., Harry\" <Harry.Walters@ENRON.com>,\n",
      "\t\"Walton, Mark\" <Mark.Walton@ENRON.com>,\n",
      "\t\"Youngson, Karen\" <Karen.Youngson@ENRON.com>\n",
      "dl-ga-all_#####_worldwide1#####\n",
      "pete.davis@enron.com\n",
      "vkamins#####\n",
      "\"Reeves, Leslie\" <Leslie.Reeves@ENRON.com>,\n",
      "\t\"Gossett, Jeffrey C.\" <Jeffrey.C.Gossett@ENRON.com>,\n",
      "\t\"White, Stacey W.\" <Stacey.W.White@ENRON.com>,\n",
      "\t\"Superty, Robert\" <Robert.Superty@ENRON.com>,\n",
      "\t\"Beck, Sally\" <Sally.Beck@ENRON.com>\n",
      "louise.kitchen#####\n",
      "steven.harris#####, kimberly.watson#####, \r\n",
      "\tlorraine.lindberg#####, tk.lohman#####, \r\n",
      "\tlindy.donoho#####\n",
      "\"Panus, Stephanie\" <Stephanie.Panus@ENRON.com>\n",
      "dfarmer#####, jabretz#####-energy.com\n",
      "pete.davis#####\n",
      "\"Brooks, Loretta\" <Loretta_Brooks@ENRON.net>,\n",
      "\t\"Abel, Chris\" <Chris.Abel@ENRON.com>,\n",
      "\t\"Allison, John\" <John.Allison@ENRON.com>,\n",
      "\t\"Apollo, Beth\" <Beth.Apollo@ENRON.com>,\n",
      "\t\"Beck, Sally\" <Sally.Beck@ENRON.com>,\n",
      "\t\"Buy, Rick\" <Rick.Buy@ENRON.com>,\n",
      "\t\"Gossett, Jeffrey C.\" <Jeffrey.C.Gossett@ENRON.com>,\n",
      "\t\"Hagelmann, Bjorn\" <Bjorn.Hagelmann@ENRON.com>,\n",
      "\t\"Hall, Bob M\" <Bob.M.Hall@ENRON.com>,\n",
      "\t\"Hall, D. Todd\" <D.Todd.Hall@ENRON.com>,\n",
      "\t\"Hayden, Frank\" <Frank.Hayden@ENRON.com>,\n",
      "\t\"Hillis, Kimberly\" <Kimberly.Hillis@ENRON.com>,\n",
      "\t\"Jordan, Mike\" <mike.jordan@enron.com>,\n",
      "\t\"Kass, Michael\" <michael.kass@enron.com>,\n",
      "\t\"Kelly, William\" <William.Kelly@ENRON.com>,\n",
      "\t\"Kitchen, Louise\" <Louise.Kitchen@ENRON.com>,\n",
      "\t<lavorato@enron.com>,\n",
      "\t<klay@enron.com>,\n",
      "\t\"Mcconnell, Mike\" <Mike.McConnell@ENRON.com>,\n",
      "\t\"Murphy, Ted\" <ted.murphy@enron.com>,\n",
      "\t\"New, James\" <james.new@enron.com>,\n",
      "\t\"Nowlan Jr., John L.\" <John.L.Nowlan@ENRON.com>,\n",
      "\t\"Port, David\" <David.Port@ENRON.com>,\n",
      "\t<bprice@enron.com>,\n",
      "\t\"Romero, Araceli\" <Araceli.Romero@ENRON.com>,\n",
      "\t\"Schoppe, Tammie\" <Tammie.Schoppe@ENRON.com>,\n",
      "\t\"Schultz, Cassandra\" <Cassandra.Schultz@ENRON.com>,\n",
      "\t<jshankm@enron.com>,\n",
      "\t\"Sherriff, John\" <john.sherriff@enron.com>,\n",
      "\t\"Skilling, Jeff\" <Jeff.Skilling@ENRON.com>,\n",
      "\t\"Swinney, John\" <John.Swinney@ENRON.com>,\n",
      "\t\"Taylor, Liz M.\" <Liz.M.Taylor@ENRON.com>,\n",
      "\t\"Thibodeaux, Kenneth\" <Kenneth.Thibodeaux@ENRON.com>,\n",
      "\t\"Wallace, Cassi\" <Cassi.Wallace@ENRON.com>,\n",
      "\t<whalley@enron.com>,\n",
      "\t\"Wilson, Shona\" <Shona.Wilson@ENRON.com>\n",
      "\"Kean, Steven J.\" <steve.kean@enron.com>,\n",
      "\t\"Palmer, Mark A. (PR)\" <Mark.Palmer@ENRON.com>,\n",
      "\t\"Denne, Karen\" <Karen.Denne@ENRON.com>\n",
      "\"vicki storey\" <vickistorey@yahoo.com>, <gstorey@enron.com>\n"
     ]
    }
   ],
   "source": [
    "print \"Receptores de spam\"\n",
    "print \"=\"* 100\n",
    "print \"\\n\".join(spam.to_text)\n",
    "print \"\\nReceptores de ham\"\n",
    "print \"=\"* 100\n",
    "print \"\\n\".join(ham.to_text)\n"
   ]
  },
  {
   "cell_type": "code",
   "execution_count": 36,
   "metadata": {
    "collapsed": false
   },
   "outputs": [
    {
     "ename": "AttributeError",
     "evalue": "'DataFrame' object has no attribute 'number_of_receivers'",
     "output_type": "error",
     "traceback": [
      "\u001b[0;31m---------------------------------------------------------------------------\u001b[0m",
      "\u001b[0;31mAttributeError\u001b[0m                            Traceback (most recent call last)",
      "\u001b[0;32m<ipython-input-36-1471719f169b>\u001b[0m in \u001b[0;36m<module>\u001b[0;34m()\u001b[0m\n\u001b[1;32m      5\u001b[0m \u001b[0mre\u001b[0m\u001b[0;34m.\u001b[0m\u001b[0mfindall\u001b[0m\u001b[0;34m(\u001b[0m\u001b[0;34mr'<.*>'\u001b[0m\u001b[0;34m,\u001b[0m \u001b[0mfirst_ham\u001b[0m\u001b[0;34m.\u001b[0m\u001b[0mto_text\u001b[0m\u001b[0;34m)\u001b[0m\u001b[0;34m\u001b[0m\u001b[0m\n\u001b[1;32m      6\u001b[0m \u001b[0;34m\u001b[0m\u001b[0m\n\u001b[0;32m----> 7\u001b[0;31m \u001b[0;32mprint\u001b[0m \u001b[0mdf\u001b[0m\u001b[0;34m.\u001b[0m\u001b[0mnumber_of_receivers\u001b[0m\u001b[0;34m.\u001b[0m\u001b[0munique\u001b[0m\u001b[0;34m(\u001b[0m\u001b[0;34m)\u001b[0m\u001b[0;34m\u001b[0m\u001b[0m\n\u001b[0m",
      "\u001b[0;32m/home/marat/.pyenv/versions/2.7.11/envs/aprendizaje/lib/python2.7/site-packages/pandas/core/generic.pyc\u001b[0m in \u001b[0;36m__getattr__\u001b[0;34m(self, name)\u001b[0m\n\u001b[1;32m   2670\u001b[0m             \u001b[0;32mif\u001b[0m \u001b[0mname\u001b[0m \u001b[0;32min\u001b[0m \u001b[0mself\u001b[0m\u001b[0;34m.\u001b[0m\u001b[0m_info_axis\u001b[0m\u001b[0;34m:\u001b[0m\u001b[0;34m\u001b[0m\u001b[0m\n\u001b[1;32m   2671\u001b[0m                 \u001b[0;32mreturn\u001b[0m \u001b[0mself\u001b[0m\u001b[0;34m[\u001b[0m\u001b[0mname\u001b[0m\u001b[0;34m]\u001b[0m\u001b[0;34m\u001b[0m\u001b[0m\n\u001b[0;32m-> 2672\u001b[0;31m             \u001b[0;32mreturn\u001b[0m \u001b[0mobject\u001b[0m\u001b[0;34m.\u001b[0m\u001b[0m__getattribute__\u001b[0m\u001b[0;34m(\u001b[0m\u001b[0mself\u001b[0m\u001b[0;34m,\u001b[0m \u001b[0mname\u001b[0m\u001b[0;34m)\u001b[0m\u001b[0;34m\u001b[0m\u001b[0m\n\u001b[0m\u001b[1;32m   2673\u001b[0m \u001b[0;34m\u001b[0m\u001b[0m\n\u001b[1;32m   2674\u001b[0m     \u001b[0;32mdef\u001b[0m \u001b[0m__setattr__\u001b[0m\u001b[0;34m(\u001b[0m\u001b[0mself\u001b[0m\u001b[0;34m,\u001b[0m \u001b[0mname\u001b[0m\u001b[0;34m,\u001b[0m \u001b[0mvalue\u001b[0m\u001b[0;34m)\u001b[0m\u001b[0;34m:\u001b[0m\u001b[0;34m\u001b[0m\u001b[0m\n",
      "\u001b[0;31mAttributeError\u001b[0m: 'DataFrame' object has no attribute 'number_of_receivers'"
     ]
    }
   ],
   "source": [
    "import re\n",
    "\n",
    "first_ham = ham.iloc[0]\n",
    "\n",
    "re.findall(r'<.*>', first_ham.to_text)\n",
    "\n",
    "print df.number_of_receivers.unique()"
   ]
  },
  {
   "cell_type": "code",
   "execution_count": 6,
   "metadata": {
    "collapsed": false
   },
   "outputs": [
    {
     "name": "stdout",
     "output_type": "stream",
     "text": [
      "NON ASCII totales: 279\n",
      "NON ASCII (con clase spam): 279\n",
      "NON ASCII (con clase spam): 0\n"
     ]
    }
   ],
   "source": [
    "\n",
    "print \"NON ASCII totales: {}\".format(np.count_nonzero(df.from_non_ascii == False))\n",
    "\n",
    "print \"NON ASCII (con clase spam): {}\".format(np.count_nonzero(df[df.from_non_ascii == False]['class'] == 'spam'))\n",
    "print \"NON ASCII (con clase spam): {}\".format(np.count_nonzero(df[df.from_non_ascii == False]['class'] == 'ham'))\n",
    "\n"
   ]
  },
  {
   "cell_type": "markdown",
   "metadata": {},
   "source": [
    "# Distribución horaria y por día\n"
   ]
  },
  {
   "cell_type": "code",
   "execution_count": 7,
   "metadata": {
    "collapsed": false
   },
   "outputs": [
    {
     "data": {
      "text/plain": [
       "(array([  314.,   291.,   598.,  1021.,   796.,   871.,   392.,   173.]),\n",
       " array([  0.   ,   2.875,   5.75 ,   8.625,  11.5  ,  14.375,  17.25 ,\n",
       "         20.125,  23.   ]),\n",
       " <a list of 8 Patch objects>)"
      ]
     },
     "execution_count": 7,
     "metadata": {},
     "output_type": "execute_result"
    },
    {
     "data": {
      "image/png": "[encoded data removed]",
      "text/plain": [
       "<matplotlib.figure.Figure at 0x7ff214f81890>"
      ]
     },
     "metadata": {},
     "output_type": "display_data"
    }
   ],
   "source": [
    "ham = df[df['class'] == 'ham']\n",
    "spam = df[df['class'] == 'spam']\n",
    "\n",
    "hist(ham.hour, range=[0, 23], bins=8)\n"
   ]
  },
  {
   "cell_type": "code",
   "execution_count": 8,
   "metadata": {
    "collapsed": false
   },
   "outputs": [
    {
     "data": {
      "text/plain": [
       "(array([ 550.,  558.,  528.,  520.,  564.,  514.,  524.,  548.]),\n",
       " array([  0.   ,   2.875,   5.75 ,   8.625,  11.5  ,  14.375,  17.25 ,\n",
       "         20.125,  23.   ]),\n",
       " <a list of 8 Patch objects>)"
      ]
     },
     "execution_count": 8,
     "metadata": {},
     "output_type": "execute_result"
    },
    {
     "data": {
      "image/png": "[encoded data removed]",
      "text/plain": [
       "<matplotlib.figure.Figure at 0x7ff214eda590>"
      ]
     },
     "metadata": {},
     "output_type": "display_data"
    }
   ],
   "source": [
    "\n",
    "hist(spam.hour, range=[0, 23], bins=8)"
   ]
  },
  {
   "cell_type": "markdown",
   "metadata": {},
   "source": [
    "Podemos observar en los dos histogramas anteriores que mientras el spam se distribuye "
   ]
  },
  {
   "cell_type": "code",
   "execution_count": 9,
   "metadata": {
    "collapsed": false
   },
   "outputs": [],
   "source": [
    "import random\n",
    "\n",
    "df['day_of_month'] = df.date.apply(\n",
    "    lambda d: d.day if d else random.choice(range(29))\n",
    ")\n"
   ]
  },
  {
   "cell_type": "code",
   "execution_count": 10,
   "metadata": {
    "collapsed": false
   },
   "outputs": [
    {
     "data": {
      "text/plain": [
       "(array([ 636.,  741.,  708.,  678.,  644.,  563.,  530.]),\n",
       " array([ 0.        ,  0.85714286,  1.71428571,  2.57142857,  3.42857143,\n",
       "         4.28571429,  5.14285714,  6.        ]),\n",
       " <a list of 7 Patch objects>)"
      ]
     },
     "execution_count": 10,
     "metadata": {},
     "output_type": "execute_result"
    },
    {
     "data": {
      "image/png": "[encoded data removed]",
      "text/plain": [
       "<matplotlib.figure.Figure at 0x7ff248593550>"
      ]
     },
     "metadata": {},
     "output_type": "display_data"
    }
   ],
   "source": [
    "ham = df[df['class'] == 'ham']\n",
    "spam = df[df['class'] == 'spam']\n",
    "\n",
    "\n",
    "\n",
    "hist(spam['weekday'], bins=7)"
   ]
  },
  {
   "cell_type": "code",
   "execution_count": 11,
   "metadata": {
    "collapsed": false
   },
   "outputs": [
    {
     "data": {
      "text/plain": [
       "(array([ 889.,  892.,  904.,  810.,  769.,  104.,  132.]),\n",
       " array([ 0.        ,  0.85714286,  1.71428571,  2.57142857,  3.42857143,\n",
       "         4.28571429,  5.14285714,  6.        ]),\n",
       " <a list of 7 Patch objects>)"
      ]
     },
     "execution_count": 11,
     "metadata": {},
     "output_type": "execute_result"
    },
    {
     "data": {
      "image/png": "[encoded data removed]",
      "text/plain": [
       "<matplotlib.figure.Figure at 0x7ff214de3e50>"
      ]
     },
     "metadata": {},
     "output_type": "display_data"
    }
   ],
   "source": [
    "hist(ham['weekday'], bins=7)"
   ]
  },
  {
   "cell_type": "code",
   "execution_count": 12,
   "metadata": {
    "collapsed": false
   },
   "outputs": [
    {
     "data": {
      "text/plain": [
       "(array([  0.00000000e+00,   0.00000000e+00,   0.00000000e+00,\n",
       "          0.00000000e+00,   0.00000000e+00,   0.00000000e+00,\n",
       "          0.00000000e+00,   5.00000000e+00,   2.00000000e+00,\n",
       "          3.10000000e+01,   7.04000000e+02,   4.10600000e+03,\n",
       "          2.11900000e+03,   3.10000000e+01,   7.93000000e+02,\n",
       "          1.12000000e+03,   9.00000000e+00,   1.40000000e+01,\n",
       "          1.60000000e+01,   1.10000000e+01]),\n",
       " array([ 1990.,  1991.,  1992.,  1993.,  1994.,  1995.,  1996.,  1997.,\n",
       "         1998.,  1999.,  2000.,  2001.,  2002.,  2003.,  2004.,  2005.,\n",
       "         2006.,  2007.,  2008.,  2009.,  2010.]),\n",
       " <a list of 20 Patch objects>)"
      ]
     },
     "execution_count": 12,
     "metadata": {},
     "output_type": "execute_result"
    },
    {
     "data": {
      "image/png": "[encoded data removed]",
      "text/plain": [
       "<matplotlib.figure.Figure at 0x7ff214bb3510>"
      ]
     },
     "metadata": {},
     "output_type": "display_data"
    }
   ],
   "source": [
    "hist(df.year, range=[1990, 2010], bins=20, log=True)"
   ]
  },
  {
   "cell_type": "code",
   "execution_count": 13,
   "metadata": {
    "collapsed": false
   },
   "outputs": [
    {
     "data": {
      "text/plain": [
       "(array([  1.00000000e+00,   0.00000000e+00,   0.00000000e+00,\n",
       "          0.00000000e+00,   0.00000000e+00,   0.00000000e+00,\n",
       "          0.00000000e+00,   0.00000000e+00,   0.00000000e+00,\n",
       "          0.00000000e+00,   0.00000000e+00,   0.00000000e+00,\n",
       "          0.00000000e+00,   0.00000000e+00,   0.00000000e+00,\n",
       "          0.00000000e+00,   0.00000000e+00,   0.00000000e+00,\n",
       "          2.90000000e+01,   4.47000000e+03]),\n",
       " array([  400. ,   481.9,   563.8,   645.7,   727.6,   809.5,   891.4,\n",
       "          973.3,  1055.2,  1137.1,  1219. ,  1300.9,  1382.8,  1464.7,\n",
       "         1546.6,  1628.5,  1710.4,  1792.3,  1874.2,  1956.1,  2038. ]),\n",
       " <a list of 20 Patch objects>)"
      ]
     },
     "execution_count": 13,
     "metadata": {},
     "output_type": "execute_result"
    },
    {
     "data": {
      "image/png": "[encoded data removed]",
      "text/plain": [
       "<matplotlib.figure.Figure at 0x7ff214a996d0>"
      ]
     },
     "metadata": {},
     "output_type": "display_data"
    }
   ],
   "source": [
    "hist(spam.year, bins=20, log=True)"
   ]
  },
  {
   "cell_type": "code",
   "execution_count": 14,
   "metadata": {
    "collapsed": false
   },
   "outputs": [
    {
     "data": {
      "text/plain": [
       "array([2001, 2000, 2002, 1999])"
      ]
     },
     "execution_count": 14,
     "metadata": {},
     "output_type": "execute_result"
    }
   ],
   "source": [
    "ham.year.unique()"
   ]
  },
  {
   "cell_type": "code",
   "execution_count": null,
   "metadata": {
    "collapsed": true
   },
   "outputs": [],
   "source": []
  }
 ],
 "metadata": {
  "kernelspec": {
   "display_name": "Python 2",
   "language": "python",
   "name": "python2"
  },
  "language_info": {
   "codemirror_mode": {
    "name": "ipython",
    "version": 2
   },
   "file_extension": ".py",
   "mimetype": "text/x-python",
   "name": "python",
   "nbconvert_exporter": "python",
   "pygments_lexer": "ipython2",
   "version": "2.7.11"
  }
 },
 "nbformat": 4,
 "nbformat_minor": 1
}
